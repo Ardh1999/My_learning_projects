{
  "nbformat": 4,
  "nbformat_minor": 0,
  "metadata": {
    "colab": {
      "name": "Markov Chains",
      "provenance": []
    },
    "kernelspec": {
      "name": "python3",
      "display_name": "Python 3"
    }
  },
  "cells": [
    {
      "cell_type": "code",
      "metadata": {
        "id": "kT6qJxu9HApJ"
      },
      "source": [
        "import requests\n",
        "import numpy as np"
      ],
      "execution_count": 28,
      "outputs": []
    },
    {
      "cell_type": "code",
      "metadata": {
        "id": "6pyorcWpHEcL"
      },
      "source": [
        "data = requests.get(\"https://raw.githubusercontent.com/coding-blocks-archives/ML-Noida-2019-June-Two/master/datasets/speeches/speech.txt\")"
      ],
      "execution_count": 2,
      "outputs": []
    },
    {
      "cell_type": "code",
      "metadata": {
        "id": "Ax5iD-_-HpZm"
      },
      "source": [
        "data = data.text"
      ],
      "execution_count": 4,
      "outputs": []
    },
    {
      "cell_type": "code",
      "metadata": {
        "colab": {
          "base_uri": "https://localhost:8080/"
        },
        "id": "qgnclELdHqVD",
        "outputId": "8e52c45e-a00b-4dd1-8c8f-0306b27eb143"
      },
      "source": [
        "print(data[:1000])"
      ],
      "execution_count": 5,
      "outputs": [
        {
          "output_type": "stream",
          "text": [
            "26 8 2016, India\n",
            "Niti Aayog\n",
            "There was a time when development was believed to depend on the quantity of capital and labour. Today we know that it depends as much on the quality of institutions and ideas. Early last year, a new institution was created, namely, the National Institution for Transforming India or NITI. NITI was created as an evidence based think tank to guide India’s transformation.\n",
            "One of NITI’s functions is:\n",
            "- to mainstream external ideas into Government policies, through collaboration with national and international experts;\n",
            "- to be the Government’s link to the outside world, outside experts and practitioners;\n",
            "- to be the instrument through which ideas from outside are incorporated into policy-making.\n",
            "The Government of India and the State Governments have a long administrative tradition. This tradition combines indigenous and external ideas from India’s past. This administrative tradition has served India well in many ways. Above all, it has preserved democracy and fede\n"
          ],
          "name": "stdout"
        }
      ]
    },
    {
      "cell_type": "code",
      "metadata": {
        "id": "uHlpCR4LHuxT"
      },
      "source": [
        ""
      ],
      "execution_count": 6,
      "outputs": []
    },
    {
      "cell_type": "code",
      "metadata": {
        "id": "iFto0GfXHvrp"
      },
      "source": [
        "# \"hello helli hello hell hello .... \"\n",
        "\n",
        "#   Supervised Data (X, y)\n",
        "#   X /window size = 4, y : 1\n",
        "\n",
        "\n",
        "#  X     ,     y   : freq\n",
        "# 'hell'      'o'      3\n",
        "# 'ello'      '_'      1\n",
        "# 'llo '      'h'      1\n",
        "# 'hell'      'i'      1\n",
        "# 'hell'      '_'      1\n",
        "\n"
      ],
      "execution_count": 7,
      "outputs": []
    },
    {
      "cell_type": "code",
      "metadata": {
        "id": "T0C1KVrrJWfL"
      },
      "source": [
        "def getTransitionTable(data, k = 4):\n",
        "  T = {}\n",
        "\n",
        "  for i in range(len(data) - k):\n",
        "    X = data[i:i+k]\n",
        "    y = data[i+k]\n",
        "\n",
        "    if T.get(X) is None:\n",
        "      T[X] = {}\n",
        "      T[X][y] = 1\n",
        "    else:\n",
        "      if T[X].get(y) is None:\n",
        "        T[X][y] = 1\n",
        "      else:\n",
        "        T[X][y] +=1\n",
        "        \n",
        "  return T"
      ],
      "execution_count": 8,
      "outputs": []
    },
    {
      "cell_type": "code",
      "metadata": {
        "id": "U1BWE4P1K8hM"
      },
      "source": [
        "T = getTransitionTable(data)"
      ],
      "execution_count": 9,
      "outputs": []
    },
    {
      "cell_type": "code",
      "metadata": {
        "colab": {
          "base_uri": "https://localhost:8080/"
        },
        "id": "FuBvgXoyLBB4",
        "outputId": "182d06b0-adfc-46b4-f712-187396903043"
      },
      "source": [
        "T['then']"
      ],
      "execution_count": 11,
      "outputs": [
        {
          "output_type": "execute_result",
          "data": {
            "text/plain": [
              "{' ': 323, ',': 19, '.': 7, 'e': 11, 'i': 24, 's': 3, 't': 4}"
            ]
          },
          "metadata": {
            "tags": []
          },
          "execution_count": 11
        }
      ]
    },
    {
      "cell_type": "code",
      "metadata": {
        "id": "g8KQvigqLCpO"
      },
      "source": [
        ""
      ],
      "execution_count": 19,
      "outputs": []
    },
    {
      "cell_type": "code",
      "metadata": {
        "id": "-AwXv6YbLaZv"
      },
      "source": [
        "def convertFreqIntoProb(T):\n",
        "  for kx in T.keys():\n",
        "    s = sum(T[kx].values())\n",
        "    for k in T[kx].keys():\n",
        "      T[kx][k]= float(T[kx][k]/s)\n",
        "\n",
        "  return T"
      ],
      "execution_count": 39,
      "outputs": []
    },
    {
      "cell_type": "code",
      "metadata": {
        "id": "PEgAznJNL6JM"
      },
      "source": [
        "T = convertFreqIntoProb(T)"
      ],
      "execution_count": 40,
      "outputs": []
    },
    {
      "cell_type": "code",
      "metadata": {
        "id": "lepE3HVtMEIl"
      },
      "source": [
        ""
      ],
      "execution_count": 46,
      "outputs": []
    },
    {
      "cell_type": "markdown",
      "metadata": {
        "id": "hxxTN3wONLyw"
      },
      "source": [
        "# Generate Text"
      ]
    },
    {
      "cell_type": "code",
      "metadata": {
        "colab": {
          "base_uri": "https://localhost:8080/"
        },
        "id": "ihphHkRcL7UO",
        "outputId": "9516a170-bdb8-4853-bc99-92578e28a122"
      },
      "source": [
        "fruits = ['apple', 'mango', 'banana']\n",
        "probab = [\"0.7\", \"0.3\", \"0.0\"]\n",
        "\n",
        "for i in range(10):\n",
        "  print(np.random.choice(fruits, p = probab))"
      ],
      "execution_count": 52,
      "outputs": [
        {
          "output_type": "stream",
          "text": [
            "apple\n",
            "mango\n",
            "apple\n",
            "apple\n",
            "apple\n",
            "apple\n",
            "mango\n",
            "mango\n",
            "apple\n",
            "apple\n"
          ],
          "name": "stdout"
        }
      ]
    },
    {
      "cell_type": "code",
      "metadata": {
        "id": "jxvNgpMkL_Ki"
      },
      "source": [
        "def sample_next(context, T, k = 4):\n",
        "  context = context[-k:]\n",
        "\n",
        "  if T.get(context) is None:\n",
        "    return ' '\n",
        "\n",
        "  possible_chars = list(T[context].keys())\n",
        "  possible_probabs = list(T[context].values())\n",
        "\n",
        "  return np.random.choice(possible_chars, p = possible_probabs)"
      ],
      "execution_count": 53,
      "outputs": []
    },
    {
      "cell_type": "code",
      "metadata": {
        "id": "Aj6MQvg0PBOO"
      },
      "source": [
        "my_sent = \"Development\""
      ],
      "execution_count": 104,
      "outputs": []
    },
    {
      "cell_type": "code",
      "metadata": {
        "id": "M_iIOJJ9Os84"
      },
      "source": [
        "for i in range(100):\n",
        "  next_char = sample_next(my_sent, T)\n",
        "  my_sent += next_char"
      ],
      "execution_count": 108,
      "outputs": []
    },
    {
      "cell_type": "code",
      "metadata": {
        "colab": {
          "base_uri": "https://localhost:8080/",
          "height": 36
        },
        "id": "i-cT1wA4OvOU",
        "outputId": "789f6327-e189-44a8-9ff6-5080e74e9918"
      },
      "source": [
        "my_sent"
      ],
      "execution_count": 109,
      "outputs": [
        {
          "output_type": "execute_result",
          "data": {
            "application/vnd.google.colaboratory.intrinsic+json": {
              "type": "string"
            },
            "text/plain": [
              "'Development India. \\nWe have behalf mobile Asia in end. \\nWe celebrategic that you for us the consibility, telled a greemed Mukherjee'"
            ]
          },
          "metadata": {
            "tags": []
          },
          "execution_count": 109
        }
      ]
    },
    {
      "cell_type": "code",
      "metadata": {
        "id": "wX_zTep3O_Sn"
      },
      "source": [
        ""
      ],
      "execution_count": null,
      "outputs": []
    }
  ]
}