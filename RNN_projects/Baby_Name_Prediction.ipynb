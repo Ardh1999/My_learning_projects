{
  "nbformat": 4,
  "nbformat_minor": 0,
  "metadata": {
    "colab": {
      "name": "Baby Name Prediction",
      "provenance": []
    },
    "kernelspec": {
      "name": "python3",
      "display_name": "Python 3"
    }
  },
  "cells": [
    {
      "cell_type": "code",
      "metadata": {
        "id": "m5ovuVPybTTL"
      },
      "source": [
        "import pandas as pd\n",
        "import numpy as np\n",
        "import matplotlib.pyplot as plt\n",
        "from sklearn.preprocessing import LabelEncoder"
      ],
      "execution_count": null,
      "outputs": []
    },
    {
      "cell_type": "code",
      "metadata": {
        "id": "-bwFmlxUbovj"
      },
      "source": [
        "data = pd.read_csv(\"NationalNames.csv\")"
      ],
      "execution_count": null,
      "outputs": []
    },
    {
      "cell_type": "code",
      "metadata": {
        "colab": {
          "base_uri": "https://localhost:8080/"
        },
        "id": "FIM5Zf_odW8s",
        "outputId": "9e6bde2a-e769-4a6d-f8cf-0b72bd5ed317"
      },
      "source": [
        "data.shape"
      ],
      "execution_count": null,
      "outputs": [
        {
          "output_type": "execute_result",
          "data": {
            "text/plain": [
              "(1825433, 5)"
            ]
          },
          "metadata": {
            "tags": []
          },
          "execution_count": 4
        }
      ]
    },
    {
      "cell_type": "code",
      "metadata": {
        "colab": {
          "base_uri": "https://localhost:8080/",
          "height": 204
        },
        "id": "Ggg4XBlCdZ_4",
        "outputId": "a0c4e8ee-3aac-42e4-b0f1-a37db6684240"
      },
      "source": [
        "data.head()"
      ],
      "execution_count": null,
      "outputs": [
        {
          "output_type": "execute_result",
          "data": {
            "text/html": [
              "<div>\n",
              "<style scoped>\n",
              "    .dataframe tbody tr th:only-of-type {\n",
              "        vertical-align: middle;\n",
              "    }\n",
              "\n",
              "    .dataframe tbody tr th {\n",
              "        vertical-align: top;\n",
              "    }\n",
              "\n",
              "    .dataframe thead th {\n",
              "        text-align: right;\n",
              "    }\n",
              "</style>\n",
              "<table border=\"1\" class=\"dataframe\">\n",
              "  <thead>\n",
              "    <tr style=\"text-align: right;\">\n",
              "      <th></th>\n",
              "      <th>Id</th>\n",
              "      <th>Name</th>\n",
              "      <th>Year</th>\n",
              "      <th>Gender</th>\n",
              "      <th>Count</th>\n",
              "    </tr>\n",
              "  </thead>\n",
              "  <tbody>\n",
              "    <tr>\n",
              "      <th>0</th>\n",
              "      <td>1</td>\n",
              "      <td>Mary</td>\n",
              "      <td>1880</td>\n",
              "      <td>F</td>\n",
              "      <td>7065</td>\n",
              "    </tr>\n",
              "    <tr>\n",
              "      <th>1</th>\n",
              "      <td>2</td>\n",
              "      <td>Anna</td>\n",
              "      <td>1880</td>\n",
              "      <td>F</td>\n",
              "      <td>2604</td>\n",
              "    </tr>\n",
              "    <tr>\n",
              "      <th>2</th>\n",
              "      <td>3</td>\n",
              "      <td>Emma</td>\n",
              "      <td>1880</td>\n",
              "      <td>F</td>\n",
              "      <td>2003</td>\n",
              "    </tr>\n",
              "    <tr>\n",
              "      <th>3</th>\n",
              "      <td>4</td>\n",
              "      <td>Elizabeth</td>\n",
              "      <td>1880</td>\n",
              "      <td>F</td>\n",
              "      <td>1939</td>\n",
              "    </tr>\n",
              "    <tr>\n",
              "      <th>4</th>\n",
              "      <td>5</td>\n",
              "      <td>Minnie</td>\n",
              "      <td>1880</td>\n",
              "      <td>F</td>\n",
              "      <td>1746</td>\n",
              "    </tr>\n",
              "  </tbody>\n",
              "</table>\n",
              "</div>"
            ],
            "text/plain": [
              "   Id       Name  Year Gender  Count\n",
              "0   1       Mary  1880      F   7065\n",
              "1   2       Anna  1880      F   2604\n",
              "2   3       Emma  1880      F   2003\n",
              "3   4  Elizabeth  1880      F   1939\n",
              "4   5     Minnie  1880      F   1746"
            ]
          },
          "metadata": {
            "tags": []
          },
          "execution_count": 5
        }
      ]
    },
    {
      "cell_type": "code",
      "metadata": {
        "colab": {
          "base_uri": "https://localhost:8080/"
        },
        "id": "ArReabgsdgxK",
        "outputId": "f2b738fb-e5d8-449b-9940-d72c42444c10"
      },
      "source": [
        "data['Name'].nunique()"
      ],
      "execution_count": null,
      "outputs": [
        {
          "output_type": "execute_result",
          "data": {
            "text/plain": [
              "93889"
            ]
          },
          "metadata": {
            "tags": []
          },
          "execution_count": 6
        }
      ]
    },
    {
      "cell_type": "code",
      "metadata": {
        "id": "mKhX1taHdxB2"
      },
      "source": [
        "data['Gender'] = data['Gender'].astype('category').cat.codes"
      ],
      "execution_count": null,
      "outputs": []
    },
    {
      "cell_type": "code",
      "metadata": {
        "id": "rBeZEkHPd6pm"
      },
      "source": [
        "df = data.groupby('Name').mean()['Gender'].reset_index()"
      ],
      "execution_count": null,
      "outputs": []
    },
    {
      "cell_type": "code",
      "metadata": {
        "id": "vRzj3L6QeTUJ"
      },
      "source": [
        "df['Gender'] = df['Gender'].astype('int')"
      ],
      "execution_count": null,
      "outputs": []
    },
    {
      "cell_type": "code",
      "metadata": {
        "colab": {
          "base_uri": "https://localhost:8080/",
          "height": 204
        },
        "id": "Z7rqjNFKerrZ",
        "outputId": "71af9dde-ff53-4ea1-ee14-986f908d43a1"
      },
      "source": [
        "df.head()"
      ],
      "execution_count": null,
      "outputs": [
        {
          "output_type": "execute_result",
          "data": {
            "text/html": [
              "<div>\n",
              "<style scoped>\n",
              "    .dataframe tbody tr th:only-of-type {\n",
              "        vertical-align: middle;\n",
              "    }\n",
              "\n",
              "    .dataframe tbody tr th {\n",
              "        vertical-align: top;\n",
              "    }\n",
              "\n",
              "    .dataframe thead th {\n",
              "        text-align: right;\n",
              "    }\n",
              "</style>\n",
              "<table border=\"1\" class=\"dataframe\">\n",
              "  <thead>\n",
              "    <tr style=\"text-align: right;\">\n",
              "      <th></th>\n",
              "      <th>Name</th>\n",
              "      <th>Gender</th>\n",
              "    </tr>\n",
              "  </thead>\n",
              "  <tbody>\n",
              "    <tr>\n",
              "      <th>0</th>\n",
              "      <td>Aaban</td>\n",
              "      <td>1</td>\n",
              "    </tr>\n",
              "    <tr>\n",
              "      <th>1</th>\n",
              "      <td>Aabha</td>\n",
              "      <td>0</td>\n",
              "    </tr>\n",
              "    <tr>\n",
              "      <th>2</th>\n",
              "      <td>Aabid</td>\n",
              "      <td>1</td>\n",
              "    </tr>\n",
              "    <tr>\n",
              "      <th>3</th>\n",
              "      <td>Aabriella</td>\n",
              "      <td>0</td>\n",
              "    </tr>\n",
              "    <tr>\n",
              "      <th>4</th>\n",
              "      <td>Aadam</td>\n",
              "      <td>1</td>\n",
              "    </tr>\n",
              "  </tbody>\n",
              "</table>\n",
              "</div>"
            ],
            "text/plain": [
              "        Name  Gender\n",
              "0      Aaban       1\n",
              "1      Aabha       0\n",
              "2      Aabid       1\n",
              "3  Aabriella       0\n",
              "4      Aadam       1"
            ]
          },
          "metadata": {
            "tags": []
          },
          "execution_count": 17
        }
      ]
    },
    {
      "cell_type": "code",
      "metadata": {
        "colab": {
          "base_uri": "https://localhost:8080/"
        },
        "id": "ryd7Pnu0ex6q",
        "outputId": "e7b5908e-f8a0-45c6-a9ea-8899fa9eed2b"
      },
      "source": [
        "df.shape"
      ],
      "execution_count": null,
      "outputs": [
        {
          "output_type": "execute_result",
          "data": {
            "text/plain": [
              "(93889, 2)"
            ]
          },
          "metadata": {
            "tags": []
          },
          "execution_count": 18
        }
      ]
    },
    {
      "cell_type": "code",
      "metadata": {
        "id": "u0HOfarQez_R"
      },
      "source": [
        "import string"
      ],
      "execution_count": null,
      "outputs": []
    },
    {
      "cell_type": "code",
      "metadata": {
        "id": "PzmyMzFVfVLS"
      },
      "source": [
        "letters = list(string.ascii_lowercase)"
      ],
      "execution_count": null,
      "outputs": []
    },
    {
      "cell_type": "code",
      "metadata": {
        "colab": {
          "base_uri": "https://localhost:8080/"
        },
        "id": "7pnsNCAxfX_q",
        "outputId": "dc24ab32-0f19-4c33-8380-b5a289c67a0c"
      },
      "source": [
        "vocab = dict(zip(letters, range(1, 27)))\n",
        "print(vocab)"
      ],
      "execution_count": null,
      "outputs": [
        {
          "output_type": "stream",
          "text": [
            "{'a': 1, 'b': 2, 'c': 3, 'd': 4, 'e': 5, 'f': 6, 'g': 7, 'h': 8, 'i': 9, 'j': 10, 'k': 11, 'l': 12, 'm': 13, 'n': 14, 'o': 15, 'p': 16, 'q': 17, 'r': 18, 's': 19, 't': 20, 'u': 21, 'v': 22, 'w': 23, 'x': 24, 'y': 25, 'z': 26}\n"
          ],
          "name": "stdout"
        }
      ]
    },
    {
      "cell_type": "code",
      "metadata": {
        "id": "OgcYAefLfeAD"
      },
      "source": [
        "rev_vocab = dict(zip( range(1, 27), letters))"
      ],
      "execution_count": null,
      "outputs": []
    },
    {
      "cell_type": "code",
      "metadata": {
        "id": "WJY3gyL6fw5f"
      },
      "source": [
        "name = \"Aabriella\".lower()"
      ],
      "execution_count": null,
      "outputs": []
    },
    {
      "cell_type": "code",
      "metadata": {
        "colab": {
          "base_uri": "https://localhost:8080/"
        },
        "id": "hkT_ovEQf10-",
        "outputId": "6dcf1205-99b9-40bd-c4f0-7669e9248531"
      },
      "source": [
        "seq = [vocab[i] for i in name]\n",
        "print(seq)"
      ],
      "execution_count": null,
      "outputs": [
        {
          "output_type": "stream",
          "text": [
            "[1, 1, 2, 18, 9, 5, 12, 12, 1]\n"
          ],
          "name": "stdout"
        }
      ]
    },
    {
      "cell_type": "code",
      "metadata": {
        "id": "22ObuDUNf1yi"
      },
      "source": [
        "X = []\n",
        "\n",
        "for name in df['Name'].values:\n",
        "  name = name.lower()\n",
        "  seq = [vocab[i] for i in name]\n",
        "  X.append(seq)"
      ],
      "execution_count": null,
      "outputs": []
    },
    {
      "cell_type": "code",
      "metadata": {
        "id": "9GlWxa73f1wA"
      },
      "source": [
        "y = df['Gender'].values"
      ],
      "execution_count": null,
      "outputs": []
    },
    {
      "cell_type": "code",
      "metadata": {
        "id": "3LTZPp-8f1oG"
      },
      "source": [
        "names_len = [len(i) for i in X]"
      ],
      "execution_count": null,
      "outputs": []
    },
    {
      "cell_type": "code",
      "metadata": {
        "colab": {
          "base_uri": "https://localhost:8080/",
          "height": 265
        },
        "id": "SyHctTyAhHik",
        "outputId": "85c7ffd4-20dd-4571-d8cb-62be2b337b08"
      },
      "source": [
        "plt.hist(names_len, bins= 20)\n",
        "plt.show()"
      ],
      "execution_count": null,
      "outputs": [
        {
          "output_type": "display_data",
          "data": {
            "image/png": "[encoded data removed]",
            "text/plain": [
              "<Figure size 432x288 with 1 Axes>"
            ]
          },
          "metadata": {
            "tags": [],
            "needs_background": "light"
          }
        }
      ]
    },
    {
      "cell_type": "code",
      "metadata": {
        "id": "cp5CuA-VhWpp"
      },
      "source": [
        "from keras.preprocessing.sequence import pad_sequences"
      ],
      "execution_count": null,
      "outputs": []
    },
    {
      "cell_type": "code",
      "metadata": {
        "id": "f3QZoL_Jh0qK"
      },
      "source": [
        "X = pad_sequences(X, maxlen=10, padding='pre')"
      ],
      "execution_count": null,
      "outputs": []
    },
    {
      "cell_type": "code",
      "metadata": {
        "colab": {
          "base_uri": "https://localhost:8080/"
        },
        "id": "vJMtIzLniM3l",
        "outputId": "0579a5af-996d-4209-c76d-43dd6bc8abd5"
      },
      "source": [
        "X.shape"
      ],
      "execution_count": null,
      "outputs": [
        {
          "output_type": "execute_result",
          "data": {
            "text/plain": [
              "(93889, 10)"
            ]
          },
          "metadata": {
            "tags": []
          },
          "execution_count": 51
        }
      ]
    },
    {
      "cell_type": "code",
      "metadata": {
        "colab": {
          "base_uri": "https://localhost:8080/"
        },
        "id": "oFcqEppziieP",
        "outputId": "1e43ba43-0068-48bb-f637-64edd3235271"
      },
      "source": [
        "X[:5]"
      ],
      "execution_count": null,
      "outputs": [
        {
          "output_type": "execute_result",
          "data": {
            "text/plain": [
              "array([[ 0,  0,  0,  0,  0,  1,  1,  2,  1, 14],\n",
              "       [ 0,  0,  0,  0,  0,  1,  1,  2,  8,  1],\n",
              "       [ 0,  0,  0,  0,  0,  1,  1,  2,  9,  4],\n",
              "       [ 0,  1,  1,  2, 18,  9,  5, 12, 12,  1],\n",
              "       [ 0,  0,  0,  0,  0,  1,  1,  4,  1, 13]], dtype=int32)"
            ]
          },
          "metadata": {
            "tags": []
          },
          "execution_count": 52
        }
      ]
    },
    {
      "cell_type": "code",
      "metadata": {
        "id": "CF5pCrJoipV5"
      },
      "source": [
        "from keras.layers import SimpleRNN, Input, Embedding, Dense\n",
        "from keras.models import Model"
      ],
      "execution_count": null,
      "outputs": []
    },
    {
      "cell_type": "code",
      "metadata": {
        "colab": {
          "base_uri": "https://localhost:8080/"
        },
        "id": "rS9vMfQNjjj0",
        "outputId": "b1b895fd-62b3-4817-fae3-c783236f7196"
      },
      "source": [
        "vocab_size = len(vocab) + 1\n",
        "vocab_size"
      ],
      "execution_count": null,
      "outputs": [
        {
          "output_type": "execute_result",
          "data": {
            "text/plain": [
              "27"
            ]
          },
          "metadata": {
            "tags": []
          },
          "execution_count": 57
        }
      ]
    },
    {
      "cell_type": "code",
      "metadata": {
        "id": "1buh8-3mjmf7"
      },
      "source": [
        "inp = Input(shape=(10, ))\n",
        "emb = Embedding(input_dim=vocab_size, output_dim=5)(inp)\n",
        "rnn = SimpleRNN(units=32, return_sequences=True)(emb)\n",
        "rnn2 = SimpleRNN(units=64)(rnn)\n",
        "out = Dense(units = 1, activation='sigmoid')(rnn2)"
      ],
      "execution_count": null,
      "outputs": []
    },
    {
      "cell_type": "code",
      "metadata": {
        "id": "bYiATdsXkYlx"
      },
      "source": [
        "model = Model(inputs = inp, outputs= out)"
      ],
      "execution_count": null,
      "outputs": []
    },
    {
      "cell_type": "code",
      "metadata": {
        "colab": {
          "base_uri": "https://localhost:8080/"
        },
        "id": "FiRcI0xqkbV1",
        "outputId": "82d8c264-f54d-4ddf-c545-28b0290306eb"
      },
      "source": [
        "model.summary()"
      ],
      "execution_count": null,
      "outputs": [
        {
          "output_type": "stream",
          "text": [
            "Model: \"model_1\"\n",
            "_________________________________________________________________\n",
            "Layer (type)                 Output Shape              Param #   \n",
            "=================================================================\n",
            "input_2 (InputLayer)         [(None, 10)]              0         \n",
            "_________________________________________________________________\n",
            "embedding_1 (Embedding)      (None, 10, 5)             135       \n",
            "_________________________________________________________________\n",
            "simple_rnn_1 (SimpleRNN)     (None, 10, 32)            1216      \n",
            "_________________________________________________________________\n",
            "simple_rnn_2 (SimpleRNN)     (None, 64)                6208      \n",
            "_________________________________________________________________\n",
            "dense_1 (Dense)              (None, 1)                 65        \n",
            "=================================================================\n",
            "Total params: 7,624\n",
            "Trainable params: 7,624\n",
            "Non-trainable params: 0\n",
            "_________________________________________________________________\n"
          ],
          "name": "stdout"
        }
      ]
    },
    {
      "cell_type": "code",
      "metadata": {
        "id": "pkQm8tq2keR3"
      },
      "source": [
        "model.compile(optimizer='adam', loss=\"binary_crossentropy\", metrics = ['acc'] )"
      ],
      "execution_count": null,
      "outputs": []
    },
    {
      "cell_type": "code",
      "metadata": {
        "colab": {
          "base_uri": "https://localhost:8080/"
        },
        "id": "Yrs55MqUk9Um",
        "outputId": "54805223-5b3a-438a-a8c3-7f624af6fa44"
      },
      "source": [
        "his = model.fit(X, y, epochs=10, batch_size=256, validation_split=0.2)"
      ],
      "execution_count": null,
      "outputs": [
        {
          "output_type": "stream",
          "text": [
            "Epoch 1/10\n",
            "294/294 [==============================] - 6s 14ms/step - loss: 0.5328 - acc: 0.7316 - val_loss: 0.3910 - val_acc: 0.8262\n",
            "Epoch 2/10\n",
            "294/294 [==============================] - 4s 13ms/step - loss: 0.3975 - acc: 0.8153 - val_loss: 0.3861 - val_acc: 0.8233\n",
            "Epoch 3/10\n",
            "294/294 [==============================] - 4s 14ms/step - loss: 0.3932 - acc: 0.8173 - val_loss: 0.3816 - val_acc: 0.8299\n",
            "Epoch 4/10\n",
            "294/294 [==============================] - 4s 15ms/step - loss: 0.3830 - acc: 0.8230 - val_loss: 0.3775 - val_acc: 0.8309\n",
            "Epoch 5/10\n",
            "294/294 [==============================] - 4s 15ms/step - loss: 0.3852 - acc: 0.8202 - val_loss: 0.3832 - val_acc: 0.8245\n",
            "Epoch 6/10\n",
            "294/294 [==============================] - 4s 13ms/step - loss: 0.3787 - acc: 0.8246 - val_loss: 0.3755 - val_acc: 0.8282\n",
            "Epoch 7/10\n",
            "294/294 [==============================] - 4s 14ms/step - loss: 0.3771 - acc: 0.8255 - val_loss: 0.3778 - val_acc: 0.8259\n",
            "Epoch 8/10\n",
            "294/294 [==============================] - 4s 13ms/step - loss: 0.3775 - acc: 0.8242 - val_loss: 0.3747 - val_acc: 0.8283\n",
            "Epoch 9/10\n",
            "294/294 [==============================] - 4s 12ms/step - loss: 0.3731 - acc: 0.8280 - val_loss: 0.3730 - val_acc: 0.8293\n",
            "Epoch 10/10\n",
            "294/294 [==============================] - 4s 13ms/step - loss: 0.3688 - acc: 0.8292 - val_loss: 0.3684 - val_acc: 0.8327\n"
          ],
          "name": "stdout"
        }
      ]
    },
    {
      "cell_type": "code",
      "metadata": {
        "id": "nztWZoR6lJd-"
      },
      "source": [
        "test_name = \"santosh\".lower()"
      ],
      "execution_count": null,
      "outputs": []
    },
    {
      "cell_type": "code",
      "metadata": {
        "id": "yvF7Tl4Dlqxs"
      },
      "source": [
        "seq = [vocab[i] for i in test_name]"
      ],
      "execution_count": null,
      "outputs": []
    },
    {
      "cell_type": "code",
      "metadata": {
        "colab": {
          "base_uri": "https://localhost:8080/"
        },
        "id": "8tu6McD0lvxG",
        "outputId": "6b0d517a-d2dd-40f0-d278-cc67593fa7e6"
      },
      "source": [
        "x_test = pad_sequences([seq], maxlen=10)\n",
        "x_test"
      ],
      "execution_count": null,
      "outputs": [
        {
          "output_type": "execute_result",
          "data": {
            "text/plain": [
              "array([[ 0,  0,  0, 19,  1, 14, 20, 15, 19,  8]], dtype=int32)"
            ]
          },
          "metadata": {
            "tags": []
          },
          "execution_count": 103
        }
      ]
    },
    {
      "cell_type": "code",
      "metadata": {
        "colab": {
          "base_uri": "https://localhost:8080/"
        },
        "id": "gV5i2cEilwOY",
        "outputId": "f22d36bc-628a-4e80-8724-9a6c56b79933"
      },
      "source": [
        "model.predict(x_test)"
      ],
      "execution_count": null,
      "outputs": [
        {
          "output_type": "execute_result",
          "data": {
            "text/plain": [
              "array([[0.54937065]], dtype=float32)"
            ]
          },
          "metadata": {
            "tags": []
          },
          "execution_count": 104
        }
      ]
    },
    {
      "cell_type": "code",
      "metadata": {
        "id": "q4LKOPjHl8sU"
      },
      "source": [
        ""
      ],
      "execution_count": null,
      "outputs": []
    }
  ]
}