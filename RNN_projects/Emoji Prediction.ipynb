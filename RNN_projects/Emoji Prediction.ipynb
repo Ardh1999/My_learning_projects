{
 "cells": [
  {
   "cell_type": "code",
   "execution_count": 1,
   "metadata": {},
   "outputs": [
    {
     "name": "stdout",
     "output_type": "stream",
     "text": [
      "Collecting emoji\n",
      "  Downloading emoji-1.2.0-py3-none-any.whl (131 kB)\n",
      "\u001b[K     |████████████████████████████████| 131 kB 2.4 MB/s eta 0:00:01\n",
      "\u001b[?25hInstalling collected packages: emoji\n",
      "Successfully installed emoji-1.2.0\n"
     ]
    }
   ],
   "source": [
    "!pip install emoji"
   ]
  },
  {
   "cell_type": "code",
   "execution_count": 2,
   "metadata": {},
   "outputs": [],
   "source": [
    "import emoji"
   ]
  },
  {
   "cell_type": "code",
   "execution_count": 8,
   "metadata": {},
   "outputs": [
    {
     "data": {
      "text/plain": [
       "3521"
      ]
     },
     "execution_count": 8,
     "metadata": {},
     "output_type": "execute_result"
    }
   ],
   "source": [
    "len(emoji.EMOJI_UNICODE['en'])"
   ]
  },
  {
   "cell_type": "code",
   "execution_count": 9,
   "metadata": {},
   "outputs": [
    {
     "data": {
      "text/plain": [
       "{':1st_place_medal:': '🥇',\n",
       " ':2nd_place_medal:': '🥈',\n",
       " ':3rd_place_medal:': '🥉',\n",
       " ':AB_button_(blood_type):': '🆎',\n",
       " ':ATM_sign:': '🏧',\n",
       " ':A_button_(blood_type):': '🅰',\n",
       " ':Afghanistan:': '🇦🇫',\n",
       " ':Albania:': '🇦🇱',\n",
       " ':Algeria:': '🇩🇿',\n",
       " ':American_Samoa:': '🇦🇸',\n",
       " ':Andorra:': '🇦🇩',\n",
       " ':Angola:': '🇦🇴',\n",
       " ':Anguilla:': '🇦🇮',\n",
       " ':Antarctica:': '🇦🇶',\n",
       " ':Antigua_&_Barbuda:': '🇦🇬',\n",
       " ':Aquarius:': '♒',\n",
       " ':Argentina:': '🇦🇷',\n",
       " ':Aries:': '♈',\n",
       " ':Armenia:': '🇦🇲',\n",
       " ':Aruba:': '🇦🇼',\n",
       " ':Ascension_Island:': '🇦🇨',\n",
       " ':Australia:': '🇦🇺',\n",
       " ':Austria:': '🇦🇹',\n",
       " ':Azerbaijan:': '🇦🇿',\n",
       " ':BACK_arrow:': '🔙',\n",
       " ':B_button_(blood_type):': '🅱',\n",
       " ':Bahamas:': '🇧🇸',\n",
       " ':Bahrain:': '🇧🇭',\n",
       " ':Bangladesh:': '🇧🇩',\n",
       " ':Barbados:': '🇧🇧',\n",
       " ':Belarus:': '🇧🇾',\n",
       " ':Belgium:': '🇧🇪',\n",
       " ':Belize:': '🇧🇿',\n",
       " ':Benin:': '🇧🇯',\n",
       " ':Bermuda:': '🇧🇲',\n",
       " ':Bhutan:': '🇧🇹',\n",
       " ':Bolivia:': '🇧🇴',\n",
       " ':Bosnia_&_Herzegovina:': '🇧🇦',\n",
       " ':Botswana:': '🇧🇼',\n",
       " ':Bouvet_Island:': '🇧🇻',\n",
       " ':Brazil:': '🇧🇷',\n",
       " ':British_Indian_Ocean_Territory:': '🇮🇴',\n",
       " ':British_Virgin_Islands:': '🇻🇬',\n",
       " ':Brunei:': '🇧🇳',\n",
       " ':Bulgaria:': '🇧🇬',\n",
       " ':Burkina_Faso:': '🇧🇫',\n",
       " ':Burundi:': '🇧🇮',\n",
       " ':CL_button:': '🆑',\n",
       " ':COOL_button:': '🆒',\n",
       " ':Cambodia:': '🇰🇭',\n",
       " ':Cameroon:': '🇨🇲',\n",
       " ':Canada:': '🇨🇦',\n",
       " ':Canary_Islands:': '🇮🇨',\n",
       " ':Cancer:': '♋',\n",
       " ':Cape_Verde:': '🇨🇻',\n",
       " ':Capricorn:': '♑',\n",
       " ':Caribbean_Netherlands:': '🇧🇶',\n",
       " ':Cayman_Islands:': '🇰🇾',\n",
       " ':Central_African_Republic:': '🇨🇫',\n",
       " ':Ceuta_&_Melilla:': '🇪🇦',\n",
       " ':Chad:': '🇹🇩',\n",
       " ':Chile:': '🇨🇱',\n",
       " ':China:': '🇨🇳',\n",
       " ':Christmas_Island:': '🇨🇽',\n",
       " ':Christmas_tree:': '🎄',\n",
       " ':Clipperton_Island:': '🇨🇵',\n",
       " ':Cocos_(Keeling)_Islands:': '🇨🇨',\n",
       " ':Colombia:': '🇨🇴',\n",
       " ':Comoros:': '🇰🇲',\n",
       " ':Congo_-_Brazzaville:': '🇨🇬',\n",
       " ':Congo_-_Kinshasa:': '🇨🇩',\n",
       " ':Cook_Islands:': '🇨🇰',\n",
       " ':Costa_Rica:': '🇨🇷',\n",
       " ':Croatia:': '🇭🇷',\n",
       " ':Cuba:': '🇨🇺',\n",
       " ':Curaçao:': '🇨🇼',\n",
       " ':Cyprus:': '🇨🇾',\n",
       " ':Czechia:': '🇨🇿',\n",
       " ':Côte_d’Ivoire:': '🇨🇮',\n",
       " ':Denmark:': '🇩🇰',\n",
       " ':Diego_Garcia:': '🇩🇬',\n",
       " ':Djibouti:': '🇩🇯',\n",
       " ':Dominica:': '🇩🇲',\n",
       " ':Dominican_Republic:': '🇩🇴',\n",
       " ':END_arrow:': '🔚',\n",
       " ':Ecuador:': '🇪🇨',\n",
       " ':Egypt:': '🇪🇬',\n",
       " ':El_Salvador:': '🇸🇻',\n",
       " ':England:': '🏴\\U000e0067\\U000e0062\\U000e0065\\U000e006e\\U000e0067\\U000e007f',\n",
       " ':Equatorial_Guinea:': '🇬🇶',\n",
       " ':Eritrea:': '🇪🇷',\n",
       " ':Estonia:': '🇪🇪',\n",
       " ':Eswatini:': '🇸🇿',\n",
       " ':Ethiopia:': '🇪🇹',\n",
       " ':European_Union:': '🇪🇺',\n",
       " ':FREE_button:': '🆓',\n",
       " ':Falkland_Islands:': '🇫🇰',\n",
       " ':Faroe_Islands:': '🇫🇴',\n",
       " ':Fiji:': '🇫🇯',\n",
       " ':Finland:': '🇫🇮',\n",
       " ':France:': '🇫🇷',\n",
       " ':French_Guiana:': '🇬🇫',\n",
       " ':French_Polynesia:': '🇵🇫',\n",
       " ':French_Southern_Territories:': '🇹🇫',\n",
       " ':Gabon:': '🇬🇦',\n",
       " ':Gambia:': '🇬🇲',\n",
       " ':Gemini:': '♊',\n",
       " ':Georgia:': '🇬🇪',\n",
       " ':Germany:': '🇩🇪',\n",
       " ':Ghana:': '🇬🇭',\n",
       " ':Gibraltar:': '🇬🇮',\n",
       " ':Greece:': '🇬🇷',\n",
       " ':Greenland:': '🇬🇱',\n",
       " ':Grenada:': '🇬🇩',\n",
       " ':Guadeloupe:': '🇬🇵',\n",
       " ':Guam:': '🇬🇺',\n",
       " ':Guatemala:': '🇬🇹',\n",
       " ':Guernsey:': '🇬🇬',\n",
       " ':Guinea:': '🇬🇳',\n",
       " ':Guinea-Bissau:': '🇬🇼',\n",
       " ':Guyana:': '🇬🇾',\n",
       " ':Haiti:': '🇭🇹',\n",
       " ':Heard_&_McDonald_Islands:': '🇭🇲',\n",
       " ':Honduras:': '🇭🇳',\n",
       " ':Hong_Kong_SAR_China:': '🇭🇰',\n",
       " ':Hungary:': '🇭🇺',\n",
       " ':ID_button:': '🆔',\n",
       " ':Iceland:': '🇮🇸',\n",
       " ':India:': '🇮🇳',\n",
       " ':Indonesia:': '🇮🇩',\n",
       " ':Iran:': '🇮🇷',\n",
       " ':Iraq:': '🇮🇶',\n",
       " ':Ireland:': '🇮🇪',\n",
       " ':Isle_of_Man:': '🇮🇲',\n",
       " ':Israel:': '🇮🇱',\n",
       " ':Italy:': '🇮🇹',\n",
       " ':Jamaica:': '🇯🇲',\n",
       " ':Japan:': '🇯🇵',\n",
       " ':Japanese_acceptable_button:': '🉑',\n",
       " ':Japanese_application_button:': '🈸',\n",
       " ':Japanese_bargain_button:': '🉐',\n",
       " ':Japanese_castle:': '🏯',\n",
       " ':Japanese_congratulations_button:': '㊗',\n",
       " ':Japanese_discount_button:': '🈹',\n",
       " ':Japanese_dolls:': '🎎',\n",
       " ':Japanese_free_of_charge_button:': '🈚',\n",
       " ':Japanese_here_button:': '🈁',\n",
       " ':Japanese_monthly_amount_button:': '🈷',\n",
       " ':Japanese_no_vacancy_button:': '🈵',\n",
       " ':Japanese_not_free_of_charge_button:': '🈶',\n",
       " ':Japanese_open_for_business_button:': '🈺',\n",
       " ':Japanese_passing_grade_button:': '🈴',\n",
       " ':Japanese_post_office:': '🏣',\n",
       " ':Japanese_prohibited_button:': '🈲',\n",
       " ':Japanese_reserved_button:': '🈯',\n",
       " ':Japanese_secret_button:': '㊙',\n",
       " ':Japanese_service_charge_button:': '🈂',\n",
       " ':Japanese_symbol_for_beginner:': '🔰',\n",
       " ':Japanese_vacancy_button:': '🈳',\n",
       " ':Jersey:': '🇯🇪',\n",
       " ':Jordan:': '🇯🇴',\n",
       " ':Kazakhstan:': '🇰🇿',\n",
       " ':Kenya:': '🇰🇪',\n",
       " ':Kiribati:': '🇰🇮',\n",
       " ':Kosovo:': '🇽🇰',\n",
       " ':Kuwait:': '🇰🇼',\n",
       " ':Kyrgyzstan:': '🇰🇬',\n",
       " ':Laos:': '🇱🇦',\n",
       " ':Latvia:': '🇱🇻',\n",
       " ':Lebanon:': '🇱🇧',\n",
       " ':Leo:': '♌',\n",
       " ':Lesotho:': '🇱🇸',\n",
       " ':Liberia:': '🇱🇷',\n",
       " ':Libra:': '♎',\n",
       " ':Libya:': '🇱🇾',\n",
       " ':Liechtenstein:': '🇱🇮',\n",
       " ':Lithuania:': '🇱🇹',\n",
       " ':Luxembourg:': '🇱🇺',\n",
       " ':Macao_SAR_China:': '🇲🇴',\n",
       " ':Madagascar:': '🇲🇬',\n",
       " ':Malawi:': '🇲🇼',\n",
       " ':Malaysia:': '🇲🇾',\n",
       " ':Maldives:': '🇲🇻',\n",
       " ':Mali:': '🇲🇱',\n",
       " ':Malta:': '🇲🇹',\n",
       " ':Marshall_Islands:': '🇲🇭',\n",
       " ':Martinique:': '🇲🇶',\n",
       " ':Mauritania:': '🇲🇷',\n",
       " ':Mauritius:': '🇲🇺',\n",
       " ':Mayotte:': '🇾🇹',\n",
       " ':Mexico:': '🇲🇽',\n",
       " ':Micronesia:': '🇫🇲',\n",
       " ':Moldova:': '🇲🇩',\n",
       " ':Monaco:': '🇲🇨',\n",
       " ':Mongolia:': '🇲🇳',\n",
       " ':Montenegro:': '🇲🇪',\n",
       " ':Montserrat:': '🇲🇸',\n",
       " ':Morocco:': '🇲🇦',\n",
       " ':Mozambique:': '🇲🇿',\n",
       " ':Mrs._Claus:': '🤶',\n",
       " ':Mrs._Claus_dark_skin_tone:': '🤶🏿',\n",
       " ':Mrs._Claus_light_skin_tone:': '🤶🏻',\n",
       " ':Mrs._Claus_medium-dark_skin_tone:': '🤶🏾',\n",
       " ':Mrs._Claus_medium-light_skin_tone:': '🤶🏼',\n",
       " ':Mrs._Claus_medium_skin_tone:': '🤶🏽',\n",
       " ':Myanmar_(Burma):': '🇲🇲',\n",
       " ':NEW_button:': '🆕',\n",
       " ':NG_button:': '🆖',\n",
       " ':Namibia:': '🇳🇦',\n",
       " ':Nauru:': '🇳🇷',\n",
       " ':Nepal:': '🇳🇵',\n",
       " ':Netherlands:': '🇳🇱',\n",
       " ':New_Caledonia:': '🇳🇨',\n",
       " ':New_Zealand:': '🇳🇿',\n",
       " ':Nicaragua:': '🇳🇮',\n",
       " ':Niger:': '🇳🇪',\n",
       " ':Nigeria:': '🇳🇬',\n",
       " ':Niue:': '🇳🇺',\n",
       " ':Norfolk_Island:': '🇳🇫',\n",
       " ':North_Korea:': '🇰🇵',\n",
       " ':North_Macedonia:': '🇲🇰',\n",
       " ':Northern_Mariana_Islands:': '🇲🇵',\n",
       " ':Norway:': '🇳🇴',\n",
       " ':OK_button:': '🆗',\n",
       " ':OK_hand:': '👌',\n",
       " ':OK_hand_dark_skin_tone:': '👌🏿',\n",
       " ':OK_hand_light_skin_tone:': '👌🏻',\n",
       " ':OK_hand_medium-dark_skin_tone:': '👌🏾',\n",
       " ':OK_hand_medium-light_skin_tone:': '👌🏼',\n",
       " ':OK_hand_medium_skin_tone:': '👌🏽',\n",
       " ':ON!_arrow:': '🔛',\n",
       " ':O_button_(blood_type):': '🅾',\n",
       " ':Oman:': '🇴🇲',\n",
       " ':Ophiuchus:': '⛎',\n",
       " ':P_button:': '🅿',\n",
       " ':Pakistan:': '🇵🇰',\n",
       " ':Palau:': '🇵🇼',\n",
       " ':Palestinian_Territories:': '🇵🇸',\n",
       " ':Panama:': '🇵🇦',\n",
       " ':Papua_New_Guinea:': '🇵🇬',\n",
       " ':Paraguay:': '🇵🇾',\n",
       " ':Peru:': '🇵🇪',\n",
       " ':Philippines:': '🇵🇭',\n",
       " ':Pisces:': '♓',\n",
       " ':Pitcairn_Islands:': '🇵🇳',\n",
       " ':Poland:': '🇵🇱',\n",
       " ':Portugal:': '🇵🇹',\n",
       " ':Puerto_Rico:': '🇵🇷',\n",
       " ':Qatar:': '🇶🇦',\n",
       " ':Romania:': '🇷🇴',\n",
       " ':Russia:': '🇷🇺',\n",
       " ':Rwanda:': '🇷🇼',\n",
       " ':Réunion:': '🇷🇪',\n",
       " ':SOON_arrow:': '🔜',\n",
       " ':SOS_button:': '🆘',\n",
       " ':Sagittarius:': '♐',\n",
       " ':Samoa:': '🇼🇸',\n",
       " ':San_Marino:': '🇸🇲',\n",
       " ':Santa_Claus:': '🎅',\n",
       " ':Santa_Claus_dark_skin_tone:': '🎅🏿',\n",
       " ':Santa_Claus_light_skin_tone:': '🎅🏻',\n",
       " ':Santa_Claus_medium-dark_skin_tone:': '🎅🏾',\n",
       " ':Santa_Claus_medium-light_skin_tone:': '🎅🏼',\n",
       " ':Santa_Claus_medium_skin_tone:': '🎅🏽',\n",
       " ':Saudi_Arabia:': '🇸🇦',\n",
       " ':Scorpio:': '♏',\n",
       " ':Scotland:': '🏴\\U000e0067\\U000e0062\\U000e0073\\U000e0063\\U000e0074\\U000e007f',\n",
       " ':Senegal:': '🇸🇳',\n",
       " ':Serbia:': '🇷🇸',\n",
       " ':Seychelles:': '🇸🇨',\n",
       " ':Sierra_Leone:': '🇸🇱',\n",
       " ':Singapore:': '🇸🇬',\n",
       " ':Sint_Maarten:': '🇸🇽',\n",
       " ':Slovakia:': '🇸🇰',\n",
       " ':Slovenia:': '🇸🇮',\n",
       " ':Solomon_Islands:': '🇸🇧',\n",
       " ':Somalia:': '🇸🇴',\n",
       " ':South_Africa:': '🇿🇦',\n",
       " ':South_Georgia_&_South_Sandwich_Islands:': '🇬🇸',\n",
       " ':South_Korea:': '🇰🇷',\n",
       " ':South_Sudan:': '🇸🇸',\n",
       " ':Spain:': '🇪🇸',\n",
       " ':Sri_Lanka:': '🇱🇰',\n",
       " ':St._Barthélemy:': '🇧🇱',\n",
       " ':St._Helena:': '🇸🇭',\n",
       " ':St._Kitts_&_Nevis:': '🇰🇳',\n",
       " ':St._Lucia:': '🇱🇨',\n",
       " ':St._Martin:': '🇲🇫',\n",
       " ':St._Pierre_&_Miquelon:': '🇵🇲',\n",
       " ':St._Vincent_&_Grenadines:': '🇻🇨',\n",
       " ':Statue_of_Liberty:': '🗽',\n",
       " ':Sudan:': '🇸🇩',\n",
       " ':Suriname:': '🇸🇷',\n",
       " ':Svalbard_&_Jan_Mayen:': '🇸🇯',\n",
       " ':Sweden:': '🇸🇪',\n",
       " ':Switzerland:': '🇨🇭',\n",
       " ':Syria:': '🇸🇾',\n",
       " ':São_Tomé_&_Príncipe:': '🇸🇹',\n",
       " ':T-Rex:': '🦖',\n",
       " ':TOP_arrow:': '🔝',\n",
       " ':Taiwan:': '🇹🇼',\n",
       " ':Tajikistan:': '🇹🇯',\n",
       " ':Tanzania:': '🇹🇿',\n",
       " ':Taurus:': '♉',\n",
       " ':Thailand:': '🇹🇭',\n",
       " ':Timor-Leste:': '🇹🇱',\n",
       " ':Togo:': '🇹🇬',\n",
       " ':Tokelau:': '🇹🇰',\n",
       " ':Tokyo_tower:': '🗼',\n",
       " ':Tonga:': '🇹🇴',\n",
       " ':Trinidad_&_Tobago:': '🇹🇹',\n",
       " ':Tristan_da_Cunha:': '🇹🇦',\n",
       " ':Tunisia:': '🇹🇳',\n",
       " ':Turkey:': '🇹🇷',\n",
       " ':Turkmenistan:': '🇹🇲',\n",
       " ':Turks_&_Caicos_Islands:': '🇹🇨',\n",
       " ':Tuvalu:': '🇹🇻',\n",
       " ':U.S._Outlying_Islands:': '🇺🇲',\n",
       " ':U.S._Virgin_Islands:': '🇻🇮',\n",
       " ':UP!_button:': '🆙',\n",
       " ':Uganda:': '🇺🇬',\n",
       " ':Ukraine:': '🇺🇦',\n",
       " ':United_Arab_Emirates:': '🇦🇪',\n",
       " ':United_Kingdom:': '🇬🇧',\n",
       " ':United_Nations:': '🇺🇳',\n",
       " ':United_States:': '🇺🇸',\n",
       " ':Uruguay:': '🇺🇾',\n",
       " ':Uzbekistan:': '🇺🇿',\n",
       " ':VS_button:': '🆚',\n",
       " ':Vanuatu:': '🇻🇺',\n",
       " ':Vatican_City:': '🇻🇦',\n",
       " ':Venezuela:': '🇻🇪',\n",
       " ':Vietnam:': '🇻🇳',\n",
       " ':Virgo:': '♍',\n",
       " ':Wales:': '🏴\\U000e0067\\U000e0062\\U000e0077\\U000e006c\\U000e0073\\U000e007f',\n",
       " ':Wallis_&_Futuna:': '🇼🇫',\n",
       " ':Western_Sahara:': '🇪🇭',\n",
       " ':Yemen:': '🇾🇪',\n",
       " ':Zambia:': '🇿🇲',\n",
       " ':Zimbabwe:': '🇿🇼',\n",
       " ':abacus:': '🧮',\n",
       " ':accordion:': '\\U0001fa97',\n",
       " ':adhesive_bandage:': '🩹',\n",
       " ':admission_tickets:': '🎟',\n",
       " ':aerial_tramway:': '🚡',\n",
       " ':airplane:': '✈',\n",
       " ':airplane_arrival:': '🛬',\n",
       " ':airplane_departure:': '🛫',\n",
       " ':alarm_clock:': '⏰',\n",
       " ':alembic:': '⚗',\n",
       " ':alien:': '👽',\n",
       " ':alien_monster:': '👾',\n",
       " ':ambulance:': '🚑',\n",
       " ':american_football:': '🏈',\n",
       " ':amphora:': '🏺',\n",
       " ':anatomical_heart:': '\\U0001fac0',\n",
       " ':anchor:': '⚓',\n",
       " ':anger_symbol:': '💢',\n",
       " ':angry_face:': '😠',\n",
       " ':angry_face_with_horns:': '👿',\n",
       " ':anguished_face:': '😧',\n",
       " ':ant:': '🐜',\n",
       " ':antenna_bars:': '📶',\n",
       " ':anxious_face_with_sweat:': '😰',\n",
       " ':articulated_lorry:': '🚛',\n",
       " ':artist:': '🧑\\u200d🎨',\n",
       " ':artist_dark_skin_tone:': '🧑🏿\\u200d🎨',\n",
       " ':artist_light_skin_tone:': '🧑🏻\\u200d🎨',\n",
       " ':artist_medium-dark_skin_tone:': '🧑🏾\\u200d🎨',\n",
       " ':artist_medium-light_skin_tone:': '🧑🏼\\u200d🎨',\n",
       " ':artist_medium_skin_tone:': '🧑🏽\\u200d🎨',\n",
       " ':artist_palette:': '🎨',\n",
       " ':astonished_face:': '😲',\n",
       " ':astronaut:': '🧑\\u200d🚀',\n",
       " ':astronaut_dark_skin_tone:': '🧑🏿\\u200d🚀',\n",
       " ':astronaut_light_skin_tone:': '🧑🏻\\u200d🚀',\n",
       " ':astronaut_medium-dark_skin_tone:': '🧑🏾\\u200d🚀',\n",
       " ':astronaut_medium-light_skin_tone:': '🧑🏼\\u200d🚀',\n",
       " ':astronaut_medium_skin_tone:': '🧑🏽\\u200d🚀',\n",
       " ':atom_symbol:': '⚛',\n",
       " ':auto_rickshaw:': '🛺',\n",
       " ':automobile:': '🚗',\n",
       " ':avocado:': '🥑',\n",
       " ':axe:': '🪓',\n",
       " ':baby:': '👶',\n",
       " ':baby_angel:': '👼',\n",
       " ':baby_angel_dark_skin_tone:': '👼🏿',\n",
       " ':baby_angel_light_skin_tone:': '👼🏻',\n",
       " ':baby_angel_medium-dark_skin_tone:': '👼🏾',\n",
       " ':baby_angel_medium-light_skin_tone:': '👼🏼',\n",
       " ':baby_angel_medium_skin_tone:': '👼🏽',\n",
       " ':baby_bottle:': '🍼',\n",
       " ':baby_chick:': '🐤',\n",
       " ':baby_dark_skin_tone:': '👶🏿',\n",
       " ':baby_light_skin_tone:': '👶🏻',\n",
       " ':baby_medium-dark_skin_tone:': '👶🏾',\n",
       " ':baby_medium-light_skin_tone:': '👶🏼',\n",
       " ':baby_medium_skin_tone:': '👶🏽',\n",
       " ':baby_symbol:': '🚼',\n",
       " ':backhand_index_pointing_down:': '👇',\n",
       " ':backhand_index_pointing_down_dark_skin_tone:': '👇🏿',\n",
       " ':backhand_index_pointing_down_light_skin_tone:': '👇🏻',\n",
       " ':backhand_index_pointing_down_medium-dark_skin_tone:': '👇🏾',\n",
       " ':backhand_index_pointing_down_medium-light_skin_tone:': '👇🏼',\n",
       " ':backhand_index_pointing_down_medium_skin_tone:': '👇🏽',\n",
       " ':backhand_index_pointing_left:': '👈',\n",
       " ':backhand_index_pointing_left_dark_skin_tone:': '👈🏿',\n",
       " ':backhand_index_pointing_left_light_skin_tone:': '👈🏻',\n",
       " ':backhand_index_pointing_left_medium-dark_skin_tone:': '👈🏾',\n",
       " ':backhand_index_pointing_left_medium-light_skin_tone:': '👈🏼',\n",
       " ':backhand_index_pointing_left_medium_skin_tone:': '👈🏽',\n",
       " ':backhand_index_pointing_right:': '👉',\n",
       " ':backhand_index_pointing_right_dark_skin_tone:': '👉🏿',\n",
       " ':backhand_index_pointing_right_light_skin_tone:': '👉🏻',\n",
       " ':backhand_index_pointing_right_medium-dark_skin_tone:': '👉🏾',\n",
       " ':backhand_index_pointing_right_medium-light_skin_tone:': '👉🏼',\n",
       " ':backhand_index_pointing_right_medium_skin_tone:': '👉🏽',\n",
       " ':backhand_index_pointing_up:': '👆',\n",
       " ':backhand_index_pointing_up_dark_skin_tone:': '👆🏿',\n",
       " ':backhand_index_pointing_up_light_skin_tone:': '👆🏻',\n",
       " ':backhand_index_pointing_up_medium-dark_skin_tone:': '👆🏾',\n",
       " ':backhand_index_pointing_up_medium-light_skin_tone:': '👆🏼',\n",
       " ':backhand_index_pointing_up_medium_skin_tone:': '👆🏽',\n",
       " ':backpack:': '🎒',\n",
       " ':bacon:': '🥓',\n",
       " ':badger:': '🦡',\n",
       " ':badminton:': '🏸',\n",
       " ':bagel:': '🥯',\n",
       " ':baggage_claim:': '🛄',\n",
       " ':baguette_bread:': '🥖',\n",
       " ':balance_scale:': '⚖',\n",
       " ':bald:': '🦲',\n",
       " ':ballet_shoes:': '🩰',\n",
       " ':balloon:': '🎈',\n",
       " ':ballot_box_with_ballot:': '🗳',\n",
       " ':banana:': '🍌',\n",
       " ':banjo:': '🪕',\n",
       " ':bank:': '🏦',\n",
       " ':bar_chart:': '📊',\n",
       " ':barber_pole:': '💈',\n",
       " ':baseball:': '⚾',\n",
       " ':basket:': '🧺',\n",
       " ':basketball:': '🏀',\n",
       " ':bat:': '🦇',\n",
       " ':bathtub:': '🛁',\n",
       " ':battery:': '🔋',\n",
       " ':beach_with_umbrella:': '🏖',\n",
       " ':beaming_face_with_smiling_eyes:': '😁',\n",
       " ':bear:': '🐻',\n",
       " ':beating_heart:': '💓',\n",
       " ':beaver:': '\\U0001f9ab',\n",
       " ':bed:': '🛏',\n",
       " ':beer_mug:': '🍺',\n",
       " ':beetle:': '\\U0001fab2',\n",
       " ':bell:': '🔔',\n",
       " ':bell_pepper:': '\\U0001fad1',\n",
       " ':bell_with_slash:': '🔕',\n",
       " ':bellhop_bell:': '🛎',\n",
       " ':bento_box:': '🍱',\n",
       " ':beverage_box:': '🧃',\n",
       " ':bicycle:': '🚲',\n",
       " ':bikini:': '👙',\n",
       " ':billed_cap:': '🧢',\n",
       " ':biohazard:': '☣',\n",
       " ':bird:': '🐦',\n",
       " ':birthday_cake:': '🎂',\n",
       " ':bison:': '\\U0001f9ac',\n",
       " ':black_cat:': '🐈\\u200d⬛',\n",
       " ':black_circle:': '⚫',\n",
       " ':black_flag:': '🏴',\n",
       " ':black_heart:': '🖤',\n",
       " ':black_large_square:': '⬛',\n",
       " ':black_medium-small_square:': '◾',\n",
       " ':black_medium_square:': '◼',\n",
       " ':black_nib:': '✒',\n",
       " ':black_small_square:': '▪',\n",
       " ':black_square_button:': '🔲',\n",
       " ':blossom:': '🌼',\n",
       " ':blowfish:': '🐡',\n",
       " ':blue_book:': '📘',\n",
       " ':blue_circle:': '🔵',\n",
       " ':blue_heart:': '💙',\n",
       " ':blue_square:': '🟦',\n",
       " ':blueberries:': '\\U0001fad0',\n",
       " ':boar:': '🐗',\n",
       " ':bomb:': '💣',\n",
       " ':bone:': '🦴',\n",
       " ':bookmark:': '🔖',\n",
       " ':bookmark_tabs:': '📑',\n",
       " ':books:': '📚',\n",
       " ':boomerang:': '\\U0001fa83',\n",
       " ':bottle_with_popping_cork:': '🍾',\n",
       " ':bouquet:': '💐',\n",
       " ':bow_and_arrow:': '🏹',\n",
       " ':bowl_with_spoon:': '🥣',\n",
       " ':bowling:': '🎳',\n",
       " ':boxing_glove:': '🥊',\n",
       " ':boy:': '👦',\n",
       " ':boy_dark_skin_tone:': '👦🏿',\n",
       " ':boy_light_skin_tone:': '👦🏻',\n",
       " ':boy_medium-dark_skin_tone:': '👦🏾',\n",
       " ':boy_medium-light_skin_tone:': '👦🏼',\n",
       " ':boy_medium_skin_tone:': '👦🏽',\n",
       " ':brain:': '🧠',\n",
       " ':bread:': '🍞',\n",
       " ':breast-feeding:': '🤱',\n",
       " ':breast-feeding_dark_skin_tone:': '🤱🏿',\n",
       " ':breast-feeding_light_skin_tone:': '🤱🏻',\n",
       " ':breast-feeding_medium-dark_skin_tone:': '🤱🏾',\n",
       " ':breast-feeding_medium-light_skin_tone:': '🤱🏼',\n",
       " ':breast-feeding_medium_skin_tone:': '🤱🏽',\n",
       " ':brick:': '🧱',\n",
       " ':bridge_at_night:': '🌉',\n",
       " ':briefcase:': '💼',\n",
       " ':briefs:': '🩲',\n",
       " ':bright_button:': '🔆',\n",
       " ':broccoli:': '🥦',\n",
       " ':broken_heart:': '💔',\n",
       " ':broom:': '🧹',\n",
       " ':brown_circle:': '🟤',\n",
       " ':brown_heart:': '🤎',\n",
       " ':brown_square:': '🟫',\n",
       " ':bubble_tea:': '\\U0001f9cb',\n",
       " ':bucket:': '\\U0001faa3',\n",
       " ':bug:': '🐛',\n",
       " ':building_construction:': '🏗',\n",
       " ':bullet_train:': '🚅',\n",
       " ':bullseye:': '🎯',\n",
       " ':burrito:': '🌯',\n",
       " ':bus:': '🚌',\n",
       " ':bus_stop:': '🚏',\n",
       " ':bust_in_silhouette:': '👤',\n",
       " ':busts_in_silhouette:': '👥',\n",
       " ':butter:': '🧈',\n",
       " ':butterfly:': '🦋',\n",
       " ':cactus:': '🌵',\n",
       " ':calendar:': '📅',\n",
       " ':call_me_hand:': '🤙',\n",
       " ':call_me_hand_dark_skin_tone:': '🤙🏿',\n",
       " ':call_me_hand_light_skin_tone:': '🤙🏻',\n",
       " ':call_me_hand_medium-dark_skin_tone:': '🤙🏾',\n",
       " ':call_me_hand_medium-light_skin_tone:': '🤙🏼',\n",
       " ':call_me_hand_medium_skin_tone:': '🤙🏽',\n",
       " ':camel:': '🐪',\n",
       " ':camera:': '📷',\n",
       " ':camera_with_flash:': '📸',\n",
       " ':camping:': '🏕',\n",
       " ':candle:': '🕯',\n",
       " ':candy:': '🍬',\n",
       " ':canned_food:': '🥫',\n",
       " ':canoe:': '🛶',\n",
       " ':card_file_box:': '🗃',\n",
       " ':card_index:': '📇',\n",
       " ':card_index_dividers:': '🗂',\n",
       " ':carousel_horse:': '🎠',\n",
       " ':carp_streamer:': '🎏',\n",
       " ':carpentry_saw:': '\\U0001fa9a',\n",
       " ':carrot:': '🥕',\n",
       " ':castle:': '🏰',\n",
       " ':cat:': '🐈',\n",
       " ':cat_face:': '🐱',\n",
       " ':cat_with_tears_of_joy:': '😹',\n",
       " ':cat_with_wry_smile:': '😼',\n",
       " ':chains:': '⛓',\n",
       " ':chair:': '🪑',\n",
       " ':chart_decreasing:': '📉',\n",
       " ':chart_increasing:': '📈',\n",
       " ':chart_increasing_with_yen:': '💹',\n",
       " ':check_box_with_check:': '☑',\n",
       " ':check_mark:': '✔',\n",
       " ':check_mark_button:': '✅',\n",
       " ':cheese_wedge:': '🧀',\n",
       " ':chequered_flag:': '🏁',\n",
       " ':cherries:': '🍒',\n",
       " ':cherry_blossom:': '🌸',\n",
       " ':chess_pawn:': '♟',\n",
       " ':chestnut:': '🌰',\n",
       " ':chicken:': '🐔',\n",
       " ':child:': '🧒',\n",
       " ':child_dark_skin_tone:': '🧒🏿',\n",
       " ':child_light_skin_tone:': '🧒🏻',\n",
       " ':child_medium-dark_skin_tone:': '🧒🏾',\n",
       " ':child_medium-light_skin_tone:': '🧒🏼',\n",
       " ':child_medium_skin_tone:': '🧒🏽',\n",
       " ':children_crossing:': '🚸',\n",
       " ':chipmunk:': '🐿',\n",
       " ':chocolate_bar:': '🍫',\n",
       " ':chopsticks:': '🥢',\n",
       " ':church:': '⛪',\n",
       " ':cigarette:': '🚬',\n",
       " ':cinema:': '🎦',\n",
       " ':circled_M:': 'Ⓜ',\n",
       " ':circus_tent:': '🎪',\n",
       " ':cityscape:': '🏙',\n",
       " ':cityscape_at_dusk:': '🌆',\n",
       " ':clamp:': '🗜',\n",
       " ':clapper_board:': '🎬',\n",
       " ':clapping_hands:': '👏',\n",
       " ':clapping_hands_dark_skin_tone:': '👏🏿',\n",
       " ':clapping_hands_light_skin_tone:': '👏🏻',\n",
       " ':clapping_hands_medium-dark_skin_tone:': '👏🏾',\n",
       " ':clapping_hands_medium-light_skin_tone:': '👏🏼',\n",
       " ':clapping_hands_medium_skin_tone:': '👏🏽',\n",
       " ':classical_building:': '🏛',\n",
       " ':clinking_beer_mugs:': '🍻',\n",
       " ':clinking_glasses:': '🥂',\n",
       " ':clipboard:': '📋',\n",
       " ':clockwise_vertical_arrows:': '🔃',\n",
       " ':closed_book:': '📕',\n",
       " ':closed_mailbox_with_lowered_flag:': '📪',\n",
       " ':closed_mailbox_with_raised_flag:': '📫',\n",
       " ':closed_umbrella:': '🌂',\n",
       " ':cloud:': '☁',\n",
       " ':cloud_with_lightning:': '🌩',\n",
       " ':cloud_with_lightning_and_rain:': '⛈',\n",
       " ':cloud_with_rain:': '🌧',\n",
       " ':cloud_with_snow:': '🌨',\n",
       " ':clown_face:': '🤡',\n",
       " ':club_suit:': '♣',\n",
       " ':clutch_bag:': '👝',\n",
       " ':coat:': '🧥',\n",
       " ':cockroach:': '\\U0001fab3',\n",
       " ':cocktail_glass:': '🍸',\n",
       " ':coconut:': '🥥',\n",
       " ':coffin:': '⚰',\n",
       " ':coin:': '\\U0001fa99',\n",
       " ':cold_face:': '🥶',\n",
       " ':collision:': '💥',\n",
       " ':comet:': '☄',\n",
       " ':compass:': '🧭',\n",
       " ':computer_disk:': '💽',\n",
       " ':computer_mouse:': '🖱',\n",
       " ':confetti_ball:': '🎊',\n",
       " ':confounded_face:': '😖',\n",
       " ':confused_face:': '😕',\n",
       " ':construction:': '🚧',\n",
       " ':construction_worker:': '👷',\n",
       " ':construction_worker_dark_skin_tone:': '👷🏿',\n",
       " ':construction_worker_light_skin_tone:': '👷🏻',\n",
       " ':construction_worker_medium-dark_skin_tone:': '👷🏾',\n",
       " ':construction_worker_medium-light_skin_tone:': '👷🏼',\n",
       " ':construction_worker_medium_skin_tone:': '👷🏽',\n",
       " ':control_knobs:': '🎛',\n",
       " ':convenience_store:': '🏪',\n",
       " ':cook:': '🧑\\u200d🍳',\n",
       " ':cook_dark_skin_tone:': '🧑🏿\\u200d🍳',\n",
       " ':cook_light_skin_tone:': '🧑🏻\\u200d🍳',\n",
       " ':cook_medium-dark_skin_tone:': '🧑🏾\\u200d🍳',\n",
       " ':cook_medium-light_skin_tone:': '🧑🏼\\u200d🍳',\n",
       " ':cook_medium_skin_tone:': '🧑🏽\\u200d🍳',\n",
       " ':cooked_rice:': '🍚',\n",
       " ':cookie:': '🍪',\n",
       " ':cooking:': '🍳',\n",
       " ':copyright:': '©',\n",
       " ':couch_and_lamp:': '🛋',\n",
       " ':counterclockwise_arrows_button:': '🔄',\n",
       " ':couple_with_heart:': '💑',\n",
       " ':couple_with_heart_dark_skin_tone:': '💑🏿',\n",
       " ':couple_with_heart_light_skin_tone:': '💑🏻',\n",
       " ':couple_with_heart_man_man:': '👨\\u200d❤️\\u200d👨',\n",
       " ':couple_with_heart_man_man_dark_skin_tone:': '👨🏿\\u200d❤️\\u200d👨🏿',\n",
       " ':couple_with_heart_man_man_dark_skin_tone_light_skin_tone:': '👨🏿\\u200d❤️\\u200d👨🏻',\n",
       " ':couple_with_heart_man_man_dark_skin_tone_medium-dark_skin_tone:': '👨🏿\\u200d❤️\\u200d👨🏾',\n",
       " ':couple_with_heart_man_man_dark_skin_tone_medium-light_skin_tone:': '👨🏿\\u200d❤️\\u200d👨🏼',\n",
       " ':couple_with_heart_man_man_dark_skin_tone_medium_skin_tone:': '👨🏿\\u200d❤️\\u200d👨🏽',\n",
       " ':couple_with_heart_man_man_light_skin_tone:': '👨🏻\\u200d❤️\\u200d👨🏻',\n",
       " ':couple_with_heart_man_man_light_skin_tone_dark_skin_tone:': '👨🏻\\u200d❤️\\u200d👨🏿',\n",
       " ':couple_with_heart_man_man_light_skin_tone_medium-dark_skin_tone:': '👨🏻\\u200d❤️\\u200d👨🏾',\n",
       " ':couple_with_heart_man_man_light_skin_tone_medium-light_skin_tone:': '👨🏻\\u200d❤️\\u200d👨🏼',\n",
       " ':couple_with_heart_man_man_light_skin_tone_medium_skin_tone:': '👨🏻\\u200d❤️\\u200d👨🏽',\n",
       " ':couple_with_heart_man_man_medium-dark_skin_tone:': '👨🏾\\u200d❤️\\u200d👨🏾',\n",
       " ':couple_with_heart_man_man_medium-dark_skin_tone_dark_skin_tone:': '👨🏾\\u200d❤️\\u200d👨🏿',\n",
       " ':couple_with_heart_man_man_medium-dark_skin_tone_light_skin_tone:': '👨🏾\\u200d❤️\\u200d👨🏻',\n",
       " ':couple_with_heart_man_man_medium-dark_skin_tone_medium-light_skin_tone:': '👨🏾\\u200d❤️\\u200d👨🏼',\n",
       " ':couple_with_heart_man_man_medium-dark_skin_tone_medium_skin_tone:': '👨🏾\\u200d❤️\\u200d👨🏽',\n",
       " ':couple_with_heart_man_man_medium-light_skin_tone:': '👨🏼\\u200d❤️\\u200d👨🏼',\n",
       " ':couple_with_heart_man_man_medium-light_skin_tone_dark_skin_tone:': '👨🏼\\u200d❤️\\u200d👨🏿',\n",
       " ':couple_with_heart_man_man_medium-light_skin_tone_light_skin_tone:': '👨🏼\\u200d❤️\\u200d👨🏻',\n",
       " ':couple_with_heart_man_man_medium-light_skin_tone_medium-dark_skin_tone:': '👨🏼\\u200d❤️\\u200d👨🏾',\n",
       " ':couple_with_heart_man_man_medium-light_skin_tone_medium_skin_tone:': '👨🏼\\u200d❤️\\u200d👨🏽',\n",
       " ':couple_with_heart_man_man_medium_skin_tone:': '👨🏽\\u200d❤️\\u200d👨🏽',\n",
       " ':couple_with_heart_man_man_medium_skin_tone_dark_skin_tone:': '👨🏽\\u200d❤️\\u200d👨🏿',\n",
       " ':couple_with_heart_man_man_medium_skin_tone_light_skin_tone:': '👨🏽\\u200d❤️\\u200d👨🏻',\n",
       " ':couple_with_heart_man_man_medium_skin_tone_medium-dark_skin_tone:': '👨🏽\\u200d❤️\\u200d👨🏾',\n",
       " ':couple_with_heart_man_man_medium_skin_tone_medium-light_skin_tone:': '👨🏽\\u200d❤️\\u200d👨🏼',\n",
       " ':couple_with_heart_medium-dark_skin_tone:': '💑🏾',\n",
       " ':couple_with_heart_medium-light_skin_tone:': '💑🏼',\n",
       " ':couple_with_heart_medium_skin_tone:': '💑🏽',\n",
       " ':couple_with_heart_person_person_dark_skin_tone_light_skin_tone:': '🧑🏿\\u200d❤️\\u200d🧑🏻',\n",
       " ':couple_with_heart_person_person_dark_skin_tone_medium-dark_skin_tone:': '🧑🏿\\u200d❤️\\u200d🧑🏾',\n",
       " ':couple_with_heart_person_person_dark_skin_tone_medium-light_skin_tone:': '🧑🏿\\u200d❤️\\u200d🧑🏼',\n",
       " ':couple_with_heart_person_person_dark_skin_tone_medium_skin_tone:': '🧑🏿\\u200d❤️\\u200d🧑🏽',\n",
       " ':couple_with_heart_person_person_light_skin_tone_dark_skin_tone:': '🧑🏻\\u200d❤️\\u200d🧑🏿',\n",
       " ':couple_with_heart_person_person_light_skin_tone_medium-dark_skin_tone:': '🧑🏻\\u200d❤️\\u200d🧑🏾',\n",
       " ':couple_with_heart_person_person_light_skin_tone_medium-light_skin_tone:': '🧑🏻\\u200d❤️\\u200d🧑🏼',\n",
       " ':couple_with_heart_person_person_light_skin_tone_medium_skin_tone:': '🧑🏻\\u200d❤️\\u200d🧑🏽',\n",
       " ':couple_with_heart_person_person_medium-dark_skin_tone_dark_skin_tone:': '🧑🏾\\u200d❤️\\u200d🧑🏿',\n",
       " ':couple_with_heart_person_person_medium-dark_skin_tone_light_skin_tone:': '🧑🏾\\u200d❤️\\u200d🧑🏻',\n",
       " ':couple_with_heart_person_person_medium-dark_skin_tone_medium-light_skin_tone:': '🧑🏾\\u200d❤️\\u200d🧑🏼',\n",
       " ':couple_with_heart_person_person_medium-dark_skin_tone_medium_skin_tone:': '🧑🏾\\u200d❤️\\u200d🧑🏽',\n",
       " ':couple_with_heart_person_person_medium-light_skin_tone_dark_skin_tone:': '🧑🏼\\u200d❤️\\u200d🧑🏿',\n",
       " ':couple_with_heart_person_person_medium-light_skin_tone_light_skin_tone:': '🧑🏼\\u200d❤️\\u200d🧑🏻',\n",
       " ':couple_with_heart_person_person_medium-light_skin_tone_medium-dark_skin_tone:': '🧑🏼\\u200d❤️\\u200d🧑🏾',\n",
       " ':couple_with_heart_person_person_medium-light_skin_tone_medium_skin_tone:': '🧑🏼\\u200d❤️\\u200d🧑🏽',\n",
       " ':couple_with_heart_person_person_medium_skin_tone_dark_skin_tone:': '🧑🏽\\u200d❤️\\u200d🧑🏿',\n",
       " ':couple_with_heart_person_person_medium_skin_tone_light_skin_tone:': '🧑🏽\\u200d❤️\\u200d🧑🏻',\n",
       " ':couple_with_heart_person_person_medium_skin_tone_medium-dark_skin_tone:': '🧑🏽\\u200d❤️\\u200d🧑🏾',\n",
       " ':couple_with_heart_person_person_medium_skin_tone_medium-light_skin_tone:': '🧑🏽\\u200d❤️\\u200d🧑🏼',\n",
       " ':couple_with_heart_woman_man:': '👩\\u200d❤️\\u200d👨',\n",
       " ':couple_with_heart_woman_man_dark_skin_tone:': '👩🏿\\u200d❤️\\u200d👨🏿',\n",
       " ':couple_with_heart_woman_man_dark_skin_tone_light_skin_tone:': '👩🏿\\u200d❤️\\u200d👨🏻',\n",
       " ':couple_with_heart_woman_man_dark_skin_tone_medium-dark_skin_tone:': '👩🏿\\u200d❤️\\u200d👨🏾',\n",
       " ':couple_with_heart_woman_man_dark_skin_tone_medium-light_skin_tone:': '👩🏿\\u200d❤️\\u200d👨🏼',\n",
       " ':couple_with_heart_woman_man_dark_skin_tone_medium_skin_tone:': '👩🏿\\u200d❤️\\u200d👨🏽',\n",
       " ':couple_with_heart_woman_man_light_skin_tone:': '👩🏻\\u200d❤️\\u200d👨🏻',\n",
       " ':couple_with_heart_woman_man_light_skin_tone_dark_skin_tone:': '👩🏻\\u200d❤️\\u200d👨🏿',\n",
       " ':couple_with_heart_woman_man_light_skin_tone_medium-dark_skin_tone:': '👩🏻\\u200d❤️\\u200d👨🏾',\n",
       " ':couple_with_heart_woman_man_light_skin_tone_medium-light_skin_tone:': '👩🏻\\u200d❤️\\u200d👨🏼',\n",
       " ':couple_with_heart_woman_man_light_skin_tone_medium_skin_tone:': '👩🏻\\u200d❤️\\u200d👨🏽',\n",
       " ':couple_with_heart_woman_man_medium-dark_skin_tone:': '👩🏾\\u200d❤️\\u200d👨🏾',\n",
       " ':couple_with_heart_woman_man_medium-dark_skin_tone_dark_skin_tone:': '👩🏾\\u200d❤️\\u200d👨🏿',\n",
       " ':couple_with_heart_woman_man_medium-dark_skin_tone_light_skin_tone:': '👩🏾\\u200d❤️\\u200d👨🏻',\n",
       " ':couple_with_heart_woman_man_medium-dark_skin_tone_medium-light_skin_tone:': '👩🏾\\u200d❤️\\u200d👨🏼',\n",
       " ':couple_with_heart_woman_man_medium-dark_skin_tone_medium_skin_tone:': '👩🏾\\u200d❤️\\u200d👨🏽',\n",
       " ':couple_with_heart_woman_man_medium-light_skin_tone:': '👩🏼\\u200d❤️\\u200d👨🏼',\n",
       " ':couple_with_heart_woman_man_medium-light_skin_tone_dark_skin_tone:': '👩🏼\\u200d❤️\\u200d👨🏿',\n",
       " ':couple_with_heart_woman_man_medium-light_skin_tone_light_skin_tone:': '👩🏼\\u200d❤️\\u200d👨🏻',\n",
       " ':couple_with_heart_woman_man_medium-light_skin_tone_medium-dark_skin_tone:': '👩🏼\\u200d❤️\\u200d👨🏾',\n",
       " ':couple_with_heart_woman_man_medium-light_skin_tone_medium_skin_tone:': '👩🏼\\u200d❤️\\u200d👨🏽',\n",
       " ':couple_with_heart_woman_man_medium_skin_tone:': '👩🏽\\u200d❤️\\u200d👨🏽',\n",
       " ':couple_with_heart_woman_man_medium_skin_tone_dark_skin_tone:': '👩🏽\\u200d❤️\\u200d👨🏿',\n",
       " ':couple_with_heart_woman_man_medium_skin_tone_light_skin_tone:': '👩🏽\\u200d❤️\\u200d👨🏻',\n",
       " ':couple_with_heart_woman_man_medium_skin_tone_medium-dark_skin_tone:': '👩🏽\\u200d❤️\\u200d👨🏾',\n",
       " ':couple_with_heart_woman_man_medium_skin_tone_medium-light_skin_tone:': '👩🏽\\u200d❤️\\u200d👨🏼',\n",
       " ':couple_with_heart_woman_woman:': '👩\\u200d❤️\\u200d👩',\n",
       " ':couple_with_heart_woman_woman_dark_skin_tone:': '👩🏿\\u200d❤️\\u200d👩🏿',\n",
       " ':couple_with_heart_woman_woman_dark_skin_tone_light_skin_tone:': '👩🏿\\u200d❤️\\u200d👩🏻',\n",
       " ':couple_with_heart_woman_woman_dark_skin_tone_medium-dark_skin_tone:': '👩🏿\\u200d❤️\\u200d👩🏾',\n",
       " ':couple_with_heart_woman_woman_dark_skin_tone_medium-light_skin_tone:': '👩🏿\\u200d❤️\\u200d👩🏼',\n",
       " ':couple_with_heart_woman_woman_dark_skin_tone_medium_skin_tone:': '👩🏿\\u200d❤️\\u200d👩🏽',\n",
       " ':couple_with_heart_woman_woman_light_skin_tone:': '👩🏻\\u200d❤️\\u200d👩🏻',\n",
       " ':couple_with_heart_woman_woman_light_skin_tone_dark_skin_tone:': '👩🏻\\u200d❤️\\u200d👩🏿',\n",
       " ':couple_with_heart_woman_woman_light_skin_tone_medium-dark_skin_tone:': '👩🏻\\u200d❤️\\u200d👩🏾',\n",
       " ':couple_with_heart_woman_woman_light_skin_tone_medium-light_skin_tone:': '👩🏻\\u200d❤️\\u200d👩🏼',\n",
       " ':couple_with_heart_woman_woman_light_skin_tone_medium_skin_tone:': '👩🏻\\u200d❤️\\u200d👩🏽',\n",
       " ':couple_with_heart_woman_woman_medium-dark_skin_tone:': '👩🏾\\u200d❤️\\u200d👩🏾',\n",
       " ':couple_with_heart_woman_woman_medium-dark_skin_tone_dark_skin_tone:': '👩🏾\\u200d❤️\\u200d👩🏿',\n",
       " ':couple_with_heart_woman_woman_medium-dark_skin_tone_light_skin_tone:': '👩🏾\\u200d❤️\\u200d👩🏻',\n",
       " ':couple_with_heart_woman_woman_medium-dark_skin_tone_medium-light_skin_tone:': '👩🏾\\u200d❤️\\u200d👩🏼',\n",
       " ':couple_with_heart_woman_woman_medium-dark_skin_tone_medium_skin_tone:': '👩🏾\\u200d❤️\\u200d👩🏽',\n",
       " ':couple_with_heart_woman_woman_medium-light_skin_tone:': '👩🏼\\u200d❤️\\u200d👩🏼',\n",
       " ':couple_with_heart_woman_woman_medium-light_skin_tone_dark_skin_tone:': '👩🏼\\u200d❤️\\u200d👩🏿',\n",
       " ':couple_with_heart_woman_woman_medium-light_skin_tone_light_skin_tone:': '👩🏼\\u200d❤️\\u200d👩🏻',\n",
       " ':couple_with_heart_woman_woman_medium-light_skin_tone_medium-dark_skin_tone:': '👩🏼\\u200d❤️\\u200d👩🏾',\n",
       " ':couple_with_heart_woman_woman_medium-light_skin_tone_medium_skin_tone:': '👩🏼\\u200d❤️\\u200d👩🏽',\n",
       " ':couple_with_heart_woman_woman_medium_skin_tone:': '👩🏽\\u200d❤️\\u200d👩🏽',\n",
       " ':couple_with_heart_woman_woman_medium_skin_tone_dark_skin_tone:': '👩🏽\\u200d❤️\\u200d👩🏿',\n",
       " ':couple_with_heart_woman_woman_medium_skin_tone_light_skin_tone:': '👩🏽\\u200d❤️\\u200d👩🏻',\n",
       " ':couple_with_heart_woman_woman_medium_skin_tone_medium-dark_skin_tone:': '👩🏽\\u200d❤️\\u200d👩🏾',\n",
       " ':couple_with_heart_woman_woman_medium_skin_tone_medium-light_skin_tone:': '👩🏽\\u200d❤️\\u200d👩🏼',\n",
       " ':cow:': '🐄',\n",
       " ':cow_face:': '🐮',\n",
       " ':cowboy_hat_face:': '🤠',\n",
       " ':crab:': '🦀',\n",
       " ':crayon:': '🖍',\n",
       " ':credit_card:': '💳',\n",
       " ':crescent_moon:': '🌙',\n",
       " ':cricket:': '🦗',\n",
       " ':cricket_game:': '🏏',\n",
       " ':crocodile:': '🐊',\n",
       " ':croissant:': '🥐',\n",
       " ':cross_mark:': '❌',\n",
       " ':cross_mark_button:': '❎',\n",
       " ':crossed_fingers:': '🤞',\n",
       " ':crossed_fingers_dark_skin_tone:': '🤞🏿',\n",
       " ':crossed_fingers_light_skin_tone:': '🤞🏻',\n",
       " ':crossed_fingers_medium-dark_skin_tone:': '🤞🏾',\n",
       " ':crossed_fingers_medium-light_skin_tone:': '🤞🏼',\n",
       " ':crossed_fingers_medium_skin_tone:': '🤞🏽',\n",
       " ':crossed_flags:': '🎌',\n",
       " ':crossed_swords:': '⚔',\n",
       " ':crown:': '👑',\n",
       " ':crying_cat:': '😿',\n",
       " ':crying_face:': '😢',\n",
       " ':crystal_ball:': '🔮',\n",
       " ':cucumber:': '🥒',\n",
       " ':cup_with_straw:': '🥤',\n",
       " ':cupcake:': '🧁',\n",
       " ':curling_stone:': '🥌',\n",
       " ':curly_hair:': '🦱',\n",
       " ':curly_loop:': '➰',\n",
       " ':currency_exchange:': '💱',\n",
       " ':curry_rice:': '🍛',\n",
       " ':custard:': '🍮',\n",
       " ':customs:': '🛃',\n",
       " ':cut_of_meat:': '🥩',\n",
       " ':cyclone:': '🌀',\n",
       " ':dagger:': '🗡',\n",
       " ':dango:': '🍡',\n",
       " ':dark_skin_tone:': '🏿',\n",
       " ':dashing_away:': '💨',\n",
       " ':deaf_man:': '🧏\\u200d♂️',\n",
       " ':deaf_man_dark_skin_tone:': '🧏🏿\\u200d♂️',\n",
       " ':deaf_man_light_skin_tone:': '🧏🏻\\u200d♂️',\n",
       " ':deaf_man_medium-dark_skin_tone:': '🧏🏾\\u200d♂️',\n",
       " ':deaf_man_medium-light_skin_tone:': '🧏🏼\\u200d♂️',\n",
       " ':deaf_man_medium_skin_tone:': '🧏🏽\\u200d♂️',\n",
       " ':deaf_person:': '🧏',\n",
       " ':deaf_person_dark_skin_tone:': '🧏🏿',\n",
       " ':deaf_person_light_skin_tone:': '🧏🏻',\n",
       " ':deaf_person_medium-dark_skin_tone:': '🧏🏾',\n",
       " ':deaf_person_medium-light_skin_tone:': '🧏🏼',\n",
       " ':deaf_person_medium_skin_tone:': '🧏🏽',\n",
       " ':deaf_woman:': '🧏\\u200d♀️',\n",
       " ':deaf_woman_dark_skin_tone:': '🧏🏿\\u200d♀️',\n",
       " ':deaf_woman_light_skin_tone:': '🧏🏻\\u200d♀️',\n",
       " ':deaf_woman_medium-dark_skin_tone:': '🧏🏾\\u200d♀️',\n",
       " ':deaf_woman_medium-light_skin_tone:': '🧏🏼\\u200d♀️',\n",
       " ':deaf_woman_medium_skin_tone:': '🧏🏽\\u200d♀️',\n",
       " ':deciduous_tree:': '🌳',\n",
       " ':deer:': '🦌',\n",
       " ':delivery_truck:': '🚚',\n",
       " ':department_store:': '🏬',\n",
       " ':derelict_house:': '🏚',\n",
       " ':desert:': '🏜',\n",
       " ':desert_island:': '🏝',\n",
       " ':desktop_computer:': '🖥',\n",
       " ':detective:': '🕵',\n",
       " ':detective_dark_skin_tone:': '🕵🏿',\n",
       " ':detective_light_skin_tone:': '🕵🏻',\n",
       " ':detective_medium-dark_skin_tone:': '🕵🏾',\n",
       " ':detective_medium-light_skin_tone:': '🕵🏼',\n",
       " ':detective_medium_skin_tone:': '🕵🏽',\n",
       " ':diamond_suit:': '♦',\n",
       " ':diamond_with_a_dot:': '💠',\n",
       " ':dim_button:': '🔅',\n",
       " ':disappointed_face:': '😞',\n",
       " ':disguised_face:': '\\U0001f978',\n",
       " ':divide:': '➗',\n",
       " ':diving_mask:': '🤿',\n",
       " ':diya_lamp:': '🪔',\n",
       " ':dizzy:': '💫',\n",
       " ':dna:': '🧬',\n",
       " ':dodo:': '\\U0001f9a4',\n",
       " ':dog:': '🐕',\n",
       " ':dog_face:': '🐶',\n",
       " ':dollar_banknote:': '💵',\n",
       " ':dolphin:': '🐬',\n",
       " ':door:': '🚪',\n",
       " ':dotted_six-pointed_star:': '🔯',\n",
       " ':double_curly_loop:': '➿',\n",
       " ':double_exclamation_mark:': '‼',\n",
       " ':doughnut:': '🍩',\n",
       " ':dove:': '🕊',\n",
       " ':down-left_arrow:': '↙',\n",
       " ':down-right_arrow:': '↘',\n",
       " ':down_arrow:': '⬇',\n",
       " ':downcast_face_with_sweat:': '😓',\n",
       " ':downwards_button:': '🔽',\n",
       " ':dragon:': '🐉',\n",
       " ':dragon_face:': '🐲',\n",
       " ':dress:': '👗',\n",
       " ':drooling_face:': '🤤',\n",
       " ':drop_of_blood:': '🩸',\n",
       " ':droplet:': '💧',\n",
       " ':drum:': '🥁',\n",
       " ':duck:': '🦆',\n",
       " ':dumpling:': '🥟',\n",
       " ':dvd:': '📀',\n",
       " ':e-mail:': '📧',\n",
       " ':eagle:': '🦅',\n",
       " ':ear:': '👂',\n",
       " ':ear_dark_skin_tone:': '👂🏿',\n",
       " ':ear_light_skin_tone:': '👂🏻',\n",
       " ':ear_medium-dark_skin_tone:': '👂🏾',\n",
       " ':ear_medium-light_skin_tone:': '👂🏼',\n",
       " ':ear_medium_skin_tone:': '👂🏽',\n",
       " ':ear_of_corn:': '🌽',\n",
       " ':ear_with_hearing_aid:': '🦻',\n",
       " ':ear_with_hearing_aid_dark_skin_tone:': '🦻🏿',\n",
       " ':ear_with_hearing_aid_light_skin_tone:': '🦻🏻',\n",
       " ':ear_with_hearing_aid_medium-dark_skin_tone:': '🦻🏾',\n",
       " ':ear_with_hearing_aid_medium-light_skin_tone:': '🦻🏼',\n",
       " ':ear_with_hearing_aid_medium_skin_tone:': '🦻🏽',\n",
       " ':egg:': '🥚',\n",
       " ':eggplant:': '🍆',\n",
       " ':eight-pointed_star:': '✴',\n",
       " ':eight-spoked_asterisk:': '✳',\n",
       " ':eight-thirty:': '🕣',\n",
       " ':eight_o’clock:': '🕗',\n",
       " ':eject_button:': '⏏',\n",
       " ':electric_plug:': '🔌',\n",
       " ':elephant:': '🐘',\n",
       " ':elevator:': '\\U0001f6d7',\n",
       " ':eleven-thirty:': '🕦',\n",
       " ':eleven_o’clock:': '🕚',\n",
       " ':elf:': '🧝',\n",
       " ':elf_dark_skin_tone:': '🧝🏿',\n",
       " ':elf_light_skin_tone:': '🧝🏻',\n",
       " ':elf_medium-dark_skin_tone:': '🧝🏾',\n",
       " ':elf_medium-light_skin_tone:': '🧝🏼',\n",
       " ':elf_medium_skin_tone:': '🧝🏽',\n",
       " ':envelope:': '✉',\n",
       " ':envelope_with_arrow:': '📩',\n",
       " ':euro_banknote:': '💶',\n",
       " ':evergreen_tree:': '🌲',\n",
       " ':ewe:': '🐑',\n",
       " ':exclamation_question_mark:': '⁉',\n",
       " ':exploding_head:': '🤯',\n",
       " ':expressionless_face:': '😑',\n",
       " ':eye:': '👁',\n",
       " ':eye_in_speech_bubble:': '👁️\\u200d🗨️',\n",
       " ':eyes:': '👀',\n",
       " ':face_blowing_a_kiss:': '😘',\n",
       " ':face_exhaling:': '😮\\u200d💨',\n",
       " ':face_in_clouds:': '😶\\u200d🌫️',\n",
       " ':face_savoring_food:': '😋',\n",
       " ':face_screaming_in_fear:': '😱',\n",
       " ':face_vomiting:': '🤮',\n",
       " ':face_with_hand_over_mouth:': '🤭',\n",
       " ':face_with_head-bandage:': '🤕',\n",
       " ':face_with_medical_mask:': '😷',\n",
       " ':face_with_monocle:': '🧐',\n",
       " ':face_with_open_mouth:': '😮',\n",
       " ':face_with_raised_eyebrow:': '🤨',\n",
       " ':face_with_rolling_eyes:': '🙄',\n",
       " ':face_with_spiral_eyes:': '😵\\u200d💫',\n",
       " ':face_with_steam_from_nose:': '😤',\n",
       " ':face_with_symbols_on_mouth:': '🤬',\n",
       " ':face_with_tears_of_joy:': '😂',\n",
       " ':face_with_thermometer:': '🤒',\n",
       " ':face_with_tongue:': '😛',\n",
       " ':face_without_mouth:': '😶',\n",
       " ':factory:': '🏭',\n",
       " ':factory_worker:': '🧑\\u200d🏭',\n",
       " ':factory_worker_dark_skin_tone:': '🧑🏿\\u200d🏭',\n",
       " ':factory_worker_light_skin_tone:': '🧑🏻\\u200d🏭',\n",
       " ':factory_worker_medium-dark_skin_tone:': '🧑🏾\\u200d🏭',\n",
       " ':factory_worker_medium-light_skin_tone:': '🧑🏼\\u200d🏭',\n",
       " ':factory_worker_medium_skin_tone:': '🧑🏽\\u200d🏭',\n",
       " ':fairy:': '🧚',\n",
       " ':fairy_dark_skin_tone:': '🧚🏿',\n",
       " ':fairy_light_skin_tone:': '🧚🏻',\n",
       " ':fairy_medium-dark_skin_tone:': '🧚🏾',\n",
       " ':fairy_medium-light_skin_tone:': '🧚🏼',\n",
       " ':fairy_medium_skin_tone:': '🧚🏽',\n",
       " ':falafel:': '🧆',\n",
       " ':fallen_leaf:': '🍂',\n",
       " ':family:': '👪',\n",
       " ':family_man_boy:': '👨\\u200d👦',\n",
       " ':family_man_boy_boy:': '👨\\u200d👦\\u200d👦',\n",
       " ':family_man_girl:': '👨\\u200d👧',\n",
       " ':family_man_girl_boy:': '👨\\u200d👧\\u200d👦',\n",
       " ':family_man_girl_girl:': '👨\\u200d👧\\u200d👧',\n",
       " ':family_man_man_boy:': '👨\\u200d👨\\u200d👦',\n",
       " ':family_man_man_boy_boy:': '👨\\u200d👨\\u200d👦\\u200d👦',\n",
       " ':family_man_man_girl:': '👨\\u200d👨\\u200d👧',\n",
       " ':family_man_man_girl_boy:': '👨\\u200d👨\\u200d👧\\u200d👦',\n",
       " ':family_man_man_girl_girl:': '👨\\u200d👨\\u200d👧\\u200d👧',\n",
       " ':family_man_woman_boy:': '👨\\u200d👩\\u200d👦',\n",
       " ':family_man_woman_boy_boy:': '👨\\u200d👩\\u200d👦\\u200d👦',\n",
       " ':family_man_woman_girl:': '👨\\u200d👩\\u200d👧',\n",
       " ':family_man_woman_girl_boy:': '👨\\u200d👩\\u200d👧\\u200d👦',\n",
       " ':family_man_woman_girl_girl:': '👨\\u200d👩\\u200d👧\\u200d👧',\n",
       " ':family_woman_boy:': '👩\\u200d👦',\n",
       " ':family_woman_boy_boy:': '👩\\u200d👦\\u200d👦',\n",
       " ':family_woman_girl:': '👩\\u200d👧',\n",
       " ':family_woman_girl_boy:': '👩\\u200d👧\\u200d👦',\n",
       " ':family_woman_girl_girl:': '👩\\u200d👧\\u200d👧',\n",
       " ':family_woman_woman_boy:': '👩\\u200d👩\\u200d👦',\n",
       " ':family_woman_woman_boy_boy:': '👩\\u200d👩\\u200d👦\\u200d👦',\n",
       " ':family_woman_woman_girl:': '👩\\u200d👩\\u200d👧',\n",
       " ':family_woman_woman_girl_boy:': '👩\\u200d👩\\u200d👧\\u200d👦',\n",
       " ':family_woman_woman_girl_girl:': '👩\\u200d👩\\u200d👧\\u200d👧',\n",
       " ':farmer:': '🧑\\u200d🌾',\n",
       " ':farmer_dark_skin_tone:': '🧑🏿\\u200d🌾',\n",
       " ':farmer_light_skin_tone:': '🧑🏻\\u200d🌾',\n",
       " ':farmer_medium-dark_skin_tone:': '🧑🏾\\u200d🌾',\n",
       " ':farmer_medium-light_skin_tone:': '🧑🏼\\u200d🌾',\n",
       " ':farmer_medium_skin_tone:': '🧑🏽\\u200d🌾',\n",
       " ':fast-forward_button:': '⏩',\n",
       " ':fast_down_button:': '⏬',\n",
       " ':fast_reverse_button:': '⏪',\n",
       " ':fast_up_button:': '⏫',\n",
       " ':fax_machine:': '📠',\n",
       " ':fearful_face:': '😨',\n",
       " ':feather:': '\\U0001fab6',\n",
       " ':female_sign:': '♀',\n",
       " ':ferris_wheel:': '🎡',\n",
       " ':ferry:': '⛴',\n",
       " ':field_hockey:': '🏑',\n",
       " ':file_cabinet:': '🗄',\n",
       " ':file_folder:': '📁',\n",
       " ':film_frames:': '🎞',\n",
       " ':film_projector:': '📽',\n",
       " ':fire:': '🔥',\n",
       " ':fire_engine:': '🚒',\n",
       " ':fire_extinguisher:': '🧯',\n",
       " ':firecracker:': '🧨',\n",
       " ':firefighter:': '🧑\\u200d🚒',\n",
       " ...}"
      ]
     },
     "execution_count": 9,
     "metadata": {},
     "output_type": "execute_result"
    }
   ],
   "source": [
    "emoji.EMOJI_UNICODE['en']"
   ]
  },
  {
   "cell_type": "code",
   "execution_count": 7,
   "metadata": {},
   "outputs": [
    {
     "data": {
      "text/plain": [
       "'⚾'"
      ]
     },
     "execution_count": 7,
     "metadata": {},
     "output_type": "execute_result"
    }
   ],
   "source": [
    "emoji.emojize(':baseball:')"
   ]
  },
  {
   "cell_type": "code",
   "execution_count": 10,
   "metadata": {},
   "outputs": [],
   "source": [
    "emoji_dict = {      \"0\": \"\\u2764\\uFE0F\",    \n",
    "                    \"1\": \":baseball:\",\n",
    "                    \"2\": \":beaming_face_with_smiling_eyes:\",\n",
    "                    \"3\": \":downcast_face_with_sweat:\",\n",
    "                    \"4\": \":fork_and_knife:\",\n",
    "                   }"
   ]
  },
  {
   "cell_type": "code",
   "execution_count": 13,
   "metadata": {},
   "outputs": [
    {
     "name": "stdout",
     "output_type": "stream",
     "text": [
      "❤️\n",
      "⚾\n",
      "😁\n",
      "😓\n",
      "🍴\n"
     ]
    }
   ],
   "source": [
    "for e in emoji_dict.values():\n",
    "    print(emoji.emojize(e))"
   ]
  },
  {
   "cell_type": "markdown",
   "metadata": {},
   "source": [
    "### Read Data"
   ]
  },
  {
   "cell_type": "code",
   "execution_count": 180,
   "metadata": {},
   "outputs": [],
   "source": [
    "import pandas as pd"
   ]
  },
  {
   "cell_type": "code",
   "execution_count": 181,
   "metadata": {},
   "outputs": [],
   "source": [
    "train  = pd.read_csv(\"./EmojifiedText/train_emoji.csv\", header = None)\n",
    "test = pd.read_csv(\"./EmojifiedText/test_emoji.csv\", header=None)"
   ]
  },
  {
   "cell_type": "code",
   "execution_count": 182,
   "metadata": {},
   "outputs": [],
   "source": [
    "train.drop(columns=[2,3], inplace=True)"
   ]
  },
  {
   "cell_type": "code",
   "execution_count": 183,
   "metadata": {},
   "outputs": [],
   "source": [
    "train.columns = ['Text', 'Label']\n",
    "test.columns = ['Text', 'Label']"
   ]
  },
  {
   "cell_type": "code",
   "execution_count": 184,
   "metadata": {},
   "outputs": [
    {
     "data": {
      "text/html": [
       "<div>\n",
       "<style scoped>\n",
       "    .dataframe tbody tr th:only-of-type {\n",
       "        vertical-align: middle;\n",
       "    }\n",
       "\n",
       "    .dataframe tbody tr th {\n",
       "        vertical-align: top;\n",
       "    }\n",
       "\n",
       "    .dataframe thead th {\n",
       "        text-align: right;\n",
       "    }\n",
       "</style>\n",
       "<table border=\"1\" class=\"dataframe\">\n",
       "  <thead>\n",
       "    <tr style=\"text-align: right;\">\n",
       "      <th></th>\n",
       "      <th>Text</th>\n",
       "      <th>Label</th>\n",
       "    </tr>\n",
       "  </thead>\n",
       "  <tbody>\n",
       "    <tr>\n",
       "      <th>0</th>\n",
       "      <td>never talk to me again</td>\n",
       "      <td>3</td>\n",
       "    </tr>\n",
       "    <tr>\n",
       "      <th>1</th>\n",
       "      <td>I am proud of your achievements</td>\n",
       "      <td>2</td>\n",
       "    </tr>\n",
       "    <tr>\n",
       "      <th>2</th>\n",
       "      <td>It is the worst day in my life</td>\n",
       "      <td>3</td>\n",
       "    </tr>\n",
       "    <tr>\n",
       "      <th>3</th>\n",
       "      <td>Miss you so much</td>\n",
       "      <td>0</td>\n",
       "    </tr>\n",
       "    <tr>\n",
       "      <th>4</th>\n",
       "      <td>food is life</td>\n",
       "      <td>4</td>\n",
       "    </tr>\n",
       "  </tbody>\n",
       "</table>\n",
       "</div>"
      ],
      "text/plain": [
       "                              Text  Label\n",
       "0           never talk to me again      3\n",
       "1  I am proud of your achievements      2\n",
       "2   It is the worst day in my life      3\n",
       "3                 Miss you so much      0\n",
       "4                     food is life      4"
      ]
     },
     "execution_count": 184,
     "metadata": {},
     "output_type": "execute_result"
    }
   ],
   "source": [
    "train.head()"
   ]
  },
  {
   "cell_type": "code",
   "execution_count": 185,
   "metadata": {},
   "outputs": [],
   "source": [
    "test['Text']  = test['Text'].apply(lambda x : x[:-1])"
   ]
  },
  {
   "cell_type": "code",
   "execution_count": 186,
   "metadata": {},
   "outputs": [
    {
     "data": {
      "text/html": [
       "<div>\n",
       "<style scoped>\n",
       "    .dataframe tbody tr th:only-of-type {\n",
       "        vertical-align: middle;\n",
       "    }\n",
       "\n",
       "    .dataframe tbody tr th {\n",
       "        vertical-align: top;\n",
       "    }\n",
       "\n",
       "    .dataframe thead th {\n",
       "        text-align: right;\n",
       "    }\n",
       "</style>\n",
       "<table border=\"1\" class=\"dataframe\">\n",
       "  <thead>\n",
       "    <tr style=\"text-align: right;\">\n",
       "      <th></th>\n",
       "      <th>Text</th>\n",
       "      <th>Label</th>\n",
       "    </tr>\n",
       "  </thead>\n",
       "  <tbody>\n",
       "    <tr>\n",
       "      <th>0</th>\n",
       "      <td>I want to eat</td>\n",
       "      <td>4</td>\n",
       "    </tr>\n",
       "    <tr>\n",
       "      <th>1</th>\n",
       "      <td>he did not answer</td>\n",
       "      <td>3</td>\n",
       "    </tr>\n",
       "    <tr>\n",
       "      <th>2</th>\n",
       "      <td>he got a raise</td>\n",
       "      <td>2</td>\n",
       "    </tr>\n",
       "    <tr>\n",
       "      <th>3</th>\n",
       "      <td>she got me a present</td>\n",
       "      <td>0</td>\n",
       "    </tr>\n",
       "    <tr>\n",
       "      <th>4</th>\n",
       "      <td>ha ha ha it was so funny</td>\n",
       "      <td>2</td>\n",
       "    </tr>\n",
       "  </tbody>\n",
       "</table>\n",
       "</div>"
      ],
      "text/plain": [
       "                       Text  Label\n",
       "0             I want to eat      4\n",
       "1         he did not answer      3\n",
       "2            he got a raise      2\n",
       "3      she got me a present      0\n",
       "4  ha ha ha it was so funny      2"
      ]
     },
     "execution_count": 186,
     "metadata": {},
     "output_type": "execute_result"
    }
   ],
   "source": [
    "test.head()"
   ]
  },
  {
   "cell_type": "code",
   "execution_count": 187,
   "metadata": {},
   "outputs": [],
   "source": [
    "X_train = train['Text'].values\n",
    "y_train = train['Label'].values\n",
    "\n",
    "X_test = test['Text'].values\n",
    "y_test = test['Label'].values"
   ]
  },
  {
   "cell_type": "code",
   "execution_count": 188,
   "metadata": {},
   "outputs": [
    {
     "data": {
      "text/plain": [
       "array(['never talk to me again', 'I am proud of your achievements',\n",
       "       'It is the worst day in my life', 'Miss you so much',\n",
       "       'food is life'], dtype=object)"
      ]
     },
     "execution_count": 188,
     "metadata": {},
     "output_type": "execute_result"
    }
   ],
   "source": [
    "X_train[:5]"
   ]
  },
  {
   "cell_type": "code",
   "execution_count": 189,
   "metadata": {},
   "outputs": [
    {
     "data": {
      "text/plain": [
       "array([3, 2, 3, 0, 4, 0, 3, 2, 3, 1, 3, 3, 1, 3, 2, 3, 2, 3, 1, 2, 3, 0,\n",
       "       2, 2, 2, 1, 4, 2, 2, 4, 0, 3, 4, 2, 0, 3, 2, 2, 3, 4, 2, 2, 0, 2,\n",
       "       3, 0, 3, 2, 4, 3, 0, 3, 3, 3, 4, 2, 1, 1, 1, 2, 3, 1, 0, 0, 0, 3,\n",
       "       4, 4, 2, 2, 1, 2, 0, 3, 2, 2, 0, 0, 3, 1, 2, 1, 2, 2, 4, 3, 3, 2,\n",
       "       4, 0, 0, 0, 3, 3, 3, 2, 0, 1, 2, 3, 0, 2, 2, 2, 3, 2, 2, 2, 4, 1,\n",
       "       1, 3, 3, 4, 1, 2, 1, 1, 3, 1, 0, 4, 0, 3, 3, 4, 4, 1, 4, 3, 0, 2])"
      ]
     },
     "execution_count": 189,
     "metadata": {},
     "output_type": "execute_result"
    }
   ],
   "source": [
    "y_train"
   ]
  },
  {
   "cell_type": "code",
   "execution_count": 190,
   "metadata": {},
   "outputs": [
    {
     "data": {
      "text/plain": [
       "((132,), (132,))"
      ]
     },
     "execution_count": 190,
     "metadata": {},
     "output_type": "execute_result"
    }
   ],
   "source": [
    "X_train.shape, y_train.shape"
   ]
  },
  {
   "cell_type": "code",
   "execution_count": 191,
   "metadata": {},
   "outputs": [
    {
     "data": {
      "text/plain": [
       "((56,), (56,))"
      ]
     },
     "execution_count": 191,
     "metadata": {},
     "output_type": "execute_result"
    }
   ],
   "source": [
    "X_test.shape, y_test.shape"
   ]
  },
  {
   "cell_type": "code",
   "execution_count": 192,
   "metadata": {},
   "outputs": [
    {
     "name": "stdout",
     "output_type": "stream",
     "text": [
      "Stop shouting at me 😓\n",
      "Sounds like a fun plan ha ha 😁\n",
      "no one likes him 😓\n",
      "the game just finished ⚾\n",
      "I will celebrate soon 😁\n",
      "So sad you are not coming 😓\n",
      "She is my dearest love ❤️\n",
      "Good job 😁\n"
     ]
    }
   ],
   "source": [
    "for i in range(15, 23):\n",
    "    print(X_train[i], emoji.emojize( emoji_dict[str(y_train[i])]) )"
   ]
  },
  {
   "cell_type": "code",
   "execution_count": null,
   "metadata": {},
   "outputs": [],
   "source": []
  },
  {
   "cell_type": "markdown",
   "metadata": {},
   "source": [
    "## Get Embedding"
   ]
  },
  {
   "cell_type": "code",
   "execution_count": 193,
   "metadata": {},
   "outputs": [],
   "source": [
    "import numpy as np"
   ]
  },
  {
   "cell_type": "code",
   "execution_count": 95,
   "metadata": {},
   "outputs": [],
   "source": [
    "f = open(\"glove.6B.50d.txt\", encoding='utf8')"
   ]
  },
  {
   "cell_type": "code",
   "execution_count": 96,
   "metadata": {},
   "outputs": [],
   "source": [
    "embedding_matrix = {}"
   ]
  },
  {
   "cell_type": "code",
   "execution_count": 97,
   "metadata": {},
   "outputs": [],
   "source": [
    "for line in f:\n",
    "    \n",
    "    values = line.split()\n",
    "    word = values[0]\n",
    "    emb = np.array(values[1:], dtype='float')\n",
    "    \n",
    "    embedding_matrix[word] = emb"
   ]
  },
  {
   "cell_type": "code",
   "execution_count": 107,
   "metadata": {},
   "outputs": [
    {
     "data": {
      "text/plain": [
       "(50,)"
      ]
     },
     "execution_count": 107,
     "metadata": {},
     "output_type": "execute_result"
    }
   ],
   "source": [
    "embedding_matrix['america'].shape"
   ]
  },
  {
   "cell_type": "code",
   "execution_count": null,
   "metadata": {},
   "outputs": [],
   "source": []
  },
  {
   "cell_type": "code",
   "execution_count": 197,
   "metadata": {},
   "outputs": [],
   "source": [
    "def get_embedding_matrix_for_data(data):\n",
    "    maxLen = 10\n",
    "    embedding_data = np.zeros( (len(data), maxLen, 50) )\n",
    "    \n",
    "    for ix in range(data.shape[0]):\n",
    "        words_in_sen = data[ix].split()\n",
    "        \n",
    "        for ij in range(len(words_in_sen)):\n",
    "            if embedding_matrix.get(words_in_sen[ij].lower()) is not None:\n",
    "                embedding_data[ix][ij] =  embedding_matrix[words_in_sen[ij].lower()]\n",
    "        \n",
    "    return embedding_data"
   ]
  },
  {
   "cell_type": "code",
   "execution_count": 198,
   "metadata": {},
   "outputs": [],
   "source": [
    "X_train = get_embedding_matrix_for_data(X_train)"
   ]
  },
  {
   "cell_type": "code",
   "execution_count": 199,
   "metadata": {},
   "outputs": [],
   "source": [
    "X_test = get_embedding_matrix_for_data(X_test)"
   ]
  },
  {
   "cell_type": "code",
   "execution_count": 200,
   "metadata": {},
   "outputs": [
    {
     "data": {
      "text/plain": [
       "(132, 10, 50)"
      ]
     },
     "execution_count": 200,
     "metadata": {},
     "output_type": "execute_result"
    }
   ],
   "source": [
    "X_train.shape"
   ]
  },
  {
   "cell_type": "code",
   "execution_count": 201,
   "metadata": {},
   "outputs": [
    {
     "data": {
      "text/plain": [
       "(56, 10, 50)"
      ]
     },
     "execution_count": 201,
     "metadata": {},
     "output_type": "execute_result"
    }
   ],
   "source": [
    "X_test.shape"
   ]
  },
  {
   "cell_type": "code",
   "execution_count": 208,
   "metadata": {},
   "outputs": [],
   "source": [
    "from tensorflow.keras.utils import to_categorical"
   ]
  },
  {
   "cell_type": "code",
   "execution_count": 209,
   "metadata": {},
   "outputs": [],
   "source": [
    "y_train = to_categorical(y_train)\n",
    "y_test = to_categorical(y_test)"
   ]
  },
  {
   "cell_type": "code",
   "execution_count": 211,
   "metadata": {},
   "outputs": [
    {
     "data": {
      "text/plain": [
       "(132, 5)"
      ]
     },
     "execution_count": 211,
     "metadata": {},
     "output_type": "execute_result"
    }
   ],
   "source": [
    "y_train.shape"
   ]
  },
  {
   "cell_type": "code",
   "execution_count": 212,
   "metadata": {},
   "outputs": [
    {
     "data": {
      "text/plain": [
       "(56, 5)"
      ]
     },
     "execution_count": 212,
     "metadata": {},
     "output_type": "execute_result"
    }
   ],
   "source": [
    "y_test.shape"
   ]
  },
  {
   "cell_type": "code",
   "execution_count": null,
   "metadata": {},
   "outputs": [],
   "source": []
  },
  {
   "cell_type": "markdown",
   "metadata": {},
   "source": [
    "### RNN/LSTM Model"
   ]
  },
  {
   "cell_type": "code",
   "execution_count": 213,
   "metadata": {},
   "outputs": [],
   "source": [
    "from tensorflow.keras.models import Sequential\n",
    "from tensorflow.keras.layers import LSTM, SimpleRNN, Dense, Dropout"
   ]
  },
  {
   "cell_type": "code",
   "execution_count": 215,
   "metadata": {},
   "outputs": [
    {
     "name": "stdout",
     "output_type": "stream",
     "text": [
      "Model: \"sequential\"\n",
      "_________________________________________________________________\n",
      "Layer (type)                 Output Shape              Param #   \n",
      "=================================================================\n",
      "lstm (LSTM)                  (None, 10, 64)            29440     \n",
      "_________________________________________________________________\n",
      "dropout (Dropout)            (None, 10, 64)            0         \n",
      "_________________________________________________________________\n",
      "lstm_1 (LSTM)                (None, 32)                12416     \n",
      "_________________________________________________________________\n",
      "dropout_1 (Dropout)          (None, 32)                0         \n",
      "_________________________________________________________________\n",
      "dense (Dense)                (None, 10)                330       \n",
      "_________________________________________________________________\n",
      "dense_1 (Dense)              (None, 5)                 55        \n",
      "=================================================================\n",
      "Total params: 42,241\n",
      "Trainable params: 42,241\n",
      "Non-trainable params: 0\n",
      "_________________________________________________________________\n"
     ]
    }
   ],
   "source": [
    "model = Sequential()\n",
    "model.add( LSTM(units=64, input_shape=(10,50), return_sequences = True ) )\n",
    "model.add( Dropout(0.3) )\n",
    "model.add( LSTM(units=32) )\n",
    "model.add(Dropout(0.2))\n",
    "model.add(Dense(units=10, activation = 'relu'))\n",
    "model.add(Dense(units=5, activation='softmax'))\n",
    "model.summary()"
   ]
  },
  {
   "cell_type": "code",
   "execution_count": 216,
   "metadata": {},
   "outputs": [],
   "source": [
    "model.compile(optimizer='adam', loss='categorical_crossentropy', metrics= ['accuracy'])"
   ]
  },
  {
   "cell_type": "code",
   "execution_count": null,
   "metadata": {},
   "outputs": [],
   "source": []
  },
  {
   "cell_type": "code",
   "execution_count": 217,
   "metadata": {
    "scrolled": false
   },
   "outputs": [
    {
     "name": "stdout",
     "output_type": "stream",
     "text": [
      "Epoch 1/50\n",
      "4/4 [==============================] - 7s 505ms/step - loss: 1.6103 - accuracy: 0.2431 - val_loss: 1.6287 - val_accuracy: 0.0714\n",
      "Epoch 2/50\n",
      "4/4 [==============================] - 0s 52ms/step - loss: 1.5853 - accuracy: 0.3051 - val_loss: 1.6437 - val_accuracy: 0.0714\n",
      "Epoch 3/50\n",
      "4/4 [==============================] - 0s 58ms/step - loss: 1.5506 - accuracy: 0.3582 - val_loss: 1.6484 - val_accuracy: 0.0714\n",
      "Epoch 4/50\n",
      "4/4 [==============================] - 0s 69ms/step - loss: 1.5304 - accuracy: 0.4203 - val_loss: 1.6534 - val_accuracy: 0.1429\n",
      "Epoch 5/50\n",
      "4/4 [==============================] - 0s 52ms/step - loss: 1.5143 - accuracy: 0.3267 - val_loss: 1.6611 - val_accuracy: 0.2857\n",
      "Epoch 6/50\n",
      "4/4 [==============================] - 0s 60ms/step - loss: 1.5018 - accuracy: 0.4122 - val_loss: 1.6647 - val_accuracy: 0.2857\n",
      "Epoch 7/50\n",
      "4/4 [==============================] - 0s 117ms/step - loss: 1.4959 - accuracy: 0.4411 - val_loss: 1.6662 - val_accuracy: 0.2143\n",
      "Epoch 8/50\n",
      "4/4 [==============================] - 0s 120ms/step - loss: 1.4581 - accuracy: 0.4578 - val_loss: 1.6934 - val_accuracy: 0.2143\n",
      "Epoch 9/50\n",
      "4/4 [==============================] - 0s 90ms/step - loss: 1.4215 - accuracy: 0.4500 - val_loss: 1.6178 - val_accuracy: 0.2143\n",
      "Epoch 10/50\n",
      "4/4 [==============================] - 0s 73ms/step - loss: 1.3524 - accuracy: 0.4481 - val_loss: 1.5245 - val_accuracy: 0.2857\n",
      "Epoch 11/50\n",
      "4/4 [==============================] - 0s 97ms/step - loss: 1.3101 - accuracy: 0.4877 - val_loss: 1.5135 - val_accuracy: 0.2857\n",
      "Epoch 12/50\n",
      "4/4 [==============================] - 0s 73ms/step - loss: 1.2768 - accuracy: 0.4815 - val_loss: 1.4778 - val_accuracy: 0.2857\n",
      "Epoch 13/50\n",
      "4/4 [==============================] - 0s 89ms/step - loss: 1.2095 - accuracy: 0.4909 - val_loss: 1.3967 - val_accuracy: 0.2857\n",
      "Epoch 14/50\n",
      "4/4 [==============================] - 0s 59ms/step - loss: 1.1634 - accuracy: 0.5146 - val_loss: 1.6238 - val_accuracy: 0.2857\n",
      "Epoch 15/50\n",
      "4/4 [==============================] - 0s 118ms/step - loss: 1.1446 - accuracy: 0.5136 - val_loss: 1.3517 - val_accuracy: 0.3571\n",
      "Epoch 16/50\n",
      "4/4 [==============================] - 0s 67ms/step - loss: 1.0409 - accuracy: 0.5964 - val_loss: 1.4780 - val_accuracy: 0.2857\n",
      "Epoch 17/50\n",
      "4/4 [==============================] - 0s 60ms/step - loss: 0.9974 - accuracy: 0.5943 - val_loss: 1.4756 - val_accuracy: 0.2857\n",
      "Epoch 18/50\n",
      "4/4 [==============================] - 0s 73ms/step - loss: 0.9256 - accuracy: 0.6944 - val_loss: 1.2703 - val_accuracy: 0.3571\n",
      "Epoch 19/50\n",
      "4/4 [==============================] - 0s 78ms/step - loss: 0.9455 - accuracy: 0.6365 - val_loss: 1.2646 - val_accuracy: 0.4286\n",
      "Epoch 20/50\n",
      "4/4 [==============================] - 0s 122ms/step - loss: 0.8781 - accuracy: 0.7282 - val_loss: 1.4290 - val_accuracy: 0.3571\n",
      "Epoch 21/50\n",
      "4/4 [==============================] - 0s 112ms/step - loss: 0.8670 - accuracy: 0.7163 - val_loss: 1.0959 - val_accuracy: 0.5714\n",
      "Epoch 22/50\n",
      "4/4 [==============================] - 0s 118ms/step - loss: 0.7601 - accuracy: 0.7600 - val_loss: 1.3013 - val_accuracy: 0.4286\n",
      "Epoch 23/50\n",
      "4/4 [==============================] - 0s 76ms/step - loss: 0.8038 - accuracy: 0.7139 - val_loss: 1.1045 - val_accuracy: 0.5714\n",
      "Epoch 24/50\n",
      "4/4 [==============================] - 0s 121ms/step - loss: 0.6600 - accuracy: 0.7908 - val_loss: 1.0332 - val_accuracy: 0.5714\n",
      "Epoch 25/50\n",
      "4/4 [==============================] - 0s 58ms/step - loss: 0.7734 - accuracy: 0.7066 - val_loss: 1.2995 - val_accuracy: 0.4286\n",
      "Epoch 26/50\n",
      "4/4 [==============================] - 1s 167ms/step - loss: 0.6807 - accuracy: 0.7410 - val_loss: 0.9227 - val_accuracy: 0.6429\n",
      "Epoch 27/50\n",
      "4/4 [==============================] - 0s 74ms/step - loss: 0.5703 - accuracy: 0.7689 - val_loss: 0.9093 - val_accuracy: 0.5714\n",
      "Epoch 28/50\n",
      "4/4 [==============================] - 0s 79ms/step - loss: 0.5619 - accuracy: 0.7783 - val_loss: 1.1139 - val_accuracy: 0.5000\n",
      "Epoch 29/50\n",
      "4/4 [==============================] - 0s 62ms/step - loss: 0.5314 - accuracy: 0.8015 - val_loss: 1.0281 - val_accuracy: 0.5000\n",
      "Epoch 30/50\n",
      "4/4 [==============================] - 0s 96ms/step - loss: 0.4744 - accuracy: 0.8166 - val_loss: 0.9231 - val_accuracy: 0.5000\n",
      "Epoch 31/50\n",
      "4/4 [==============================] - 0s 79ms/step - loss: 0.4114 - accuracy: 0.8356 - val_loss: 1.2073 - val_accuracy: 0.4286\n",
      "Epoch 32/50\n",
      "4/4 [==============================] - 0s 60ms/step - loss: 0.4367 - accuracy: 0.7871 - val_loss: 1.0007 - val_accuracy: 0.5714\n",
      "Epoch 33/50\n",
      "4/4 [==============================] - 1s 197ms/step - loss: 0.4009 - accuracy: 0.8202 - val_loss: 0.8372 - val_accuracy: 0.6429\n",
      "Epoch 34/50\n",
      "4/4 [==============================] - 0s 105ms/step - loss: 0.3992 - accuracy: 0.8184 - val_loss: 1.0920 - val_accuracy: 0.5714\n",
      "Epoch 35/50\n",
      "4/4 [==============================] - 0s 61ms/step - loss: 0.3766 - accuracy: 0.8517 - val_loss: 0.9057 - val_accuracy: 0.6429\n",
      "Epoch 36/50\n",
      "4/4 [==============================] - 0s 70ms/step - loss: 0.2932 - accuracy: 0.8817 - val_loss: 1.0094 - val_accuracy: 0.5714\n",
      "Epoch 37/50\n",
      "4/4 [==============================] - 0s 49ms/step - loss: 0.2617 - accuracy: 0.8869 - val_loss: 1.0658 - val_accuracy: 0.5000\n",
      "Epoch 38/50\n",
      "4/4 [==============================] - 0s 53ms/step - loss: 0.3328 - accuracy: 0.8241 - val_loss: 0.6790 - val_accuracy: 0.7143\n",
      "Epoch 39/50\n",
      "4/4 [==============================] - 0s 45ms/step - loss: 0.3320 - accuracy: 0.8314 - val_loss: 1.2297 - val_accuracy: 0.5000\n",
      "Epoch 40/50\n",
      "4/4 [==============================] - 0s 55ms/step - loss: 0.3819 - accuracy: 0.8418 - val_loss: 1.2906 - val_accuracy: 0.5714\n",
      "Epoch 41/50\n",
      "4/4 [==============================] - 0s 133ms/step - loss: 0.3222 - accuracy: 0.8121 - val_loss: 0.6568 - val_accuracy: 0.7857\n",
      "Epoch 42/50\n",
      "4/4 [==============================] - 0s 50ms/step - loss: 0.2841 - accuracy: 0.8580 - val_loss: 1.1566 - val_accuracy: 0.5714\n",
      "Epoch 43/50\n",
      "4/4 [==============================] - 0s 109ms/step - loss: 0.3509 - accuracy: 0.8004 - val_loss: 1.3098 - val_accuracy: 0.5000\n",
      "Epoch 44/50\n",
      "4/4 [==============================] - 0s 60ms/step - loss: 0.3042 - accuracy: 0.8366 - val_loss: 0.8514 - val_accuracy: 0.7143\n",
      "Epoch 45/50\n",
      "4/4 [==============================] - 0s 44ms/step - loss: 0.3922 - accuracy: 0.8002 - val_loss: 0.5779 - val_accuracy: 0.7857\n",
      "Epoch 46/50\n",
      "4/4 [==============================] - 1s 155ms/step - loss: 0.2390 - accuracy: 0.8596 - val_loss: 1.1085 - val_accuracy: 0.5714\n",
      "Epoch 47/50\n",
      "4/4 [==============================] - 0s 132ms/step - loss: 0.2828 - accuracy: 0.8231 - val_loss: 0.9256 - val_accuracy: 0.7143\n",
      "Epoch 48/50\n",
      "4/4 [==============================] - 0s 52ms/step - loss: 0.2207 - accuracy: 0.8674 - val_loss: 0.8007 - val_accuracy: 0.7857\n",
      "Epoch 49/50\n",
      "4/4 [==============================] - 0s 86ms/step - loss: 0.2112 - accuracy: 0.8663 - val_loss: 0.8428 - val_accuracy: 0.7143\n",
      "Epoch 50/50\n",
      "4/4 [==============================] - 0s 47ms/step - loss: 0.2250 - accuracy: 0.8999 - val_loss: 0.9214 - val_accuracy: 0.7143\n"
     ]
    }
   ],
   "source": [
    "his = model.fit(X_train, y_train, validation_split=0.1, batch_size=32, epochs= 50 )"
   ]
  },
  {
   "cell_type": "code",
   "execution_count": null,
   "metadata": {},
   "outputs": [],
   "source": []
  },
  {
   "cell_type": "code",
   "execution_count": 218,
   "metadata": {},
   "outputs": [
    {
     "name": "stdout",
     "output_type": "stream",
     "text": [
      "5/5 [==============================] - 0s 11ms/step - loss: 0.2587 - accuracy: 0.8636\n"
     ]
    },
    {
     "data": {
      "text/plain": [
       "[0.2586902678012848, 0.8636363744735718]"
      ]
     },
     "execution_count": 218,
     "metadata": {},
     "output_type": "execute_result"
    }
   ],
   "source": [
    "model.evaluate(X_train, y_train)"
   ]
  },
  {
   "cell_type": "code",
   "execution_count": 219,
   "metadata": {},
   "outputs": [
    {
     "name": "stdout",
     "output_type": "stream",
     "text": [
      "2/2 [==============================] - 0s 28ms/step - loss: 1.4983 - accuracy: 0.5714\n"
     ]
    },
    {
     "data": {
      "text/plain": [
       "[1.4983221292495728, 0.5714285969734192]"
      ]
     },
     "execution_count": 219,
     "metadata": {},
     "output_type": "execute_result"
    }
   ],
   "source": [
    "model.evaluate(X_test , y_test)"
   ]
  },
  {
   "cell_type": "code",
   "execution_count": null,
   "metadata": {},
   "outputs": [],
   "source": []
  },
  {
   "cell_type": "markdown",
   "metadata": {},
   "source": [
    "### Predictions"
   ]
  },
  {
   "cell_type": "code",
   "execution_count": 221,
   "metadata": {},
   "outputs": [
    {
     "name": "stderr",
     "output_type": "stream",
     "text": [
      "/Users/mohit/opt/anaconda3/lib/python3.8/site-packages/tensorflow/python/keras/engine/sequential.py:450: UserWarning: `model.predict_classes()` is deprecated and will be removed after 2021-01-01. Please use instead:* `np.argmax(model.predict(x), axis=-1)`,   if your model does multi-class classification   (e.g. if it uses a `softmax` last-layer activation).* `(model.predict(x) > 0.5).astype(\"int32\")`,   if your model does binary classification   (e.g. if it uses a `sigmoid` last-layer activation).\n",
      "  warnings.warn('`model.predict_classes()` is deprecated and '\n"
     ]
    }
   ],
   "source": [
    "y_pred = model.predict_classes(X_test)"
   ]
  },
  {
   "cell_type": "code",
   "execution_count": 222,
   "metadata": {},
   "outputs": [
    {
     "data": {
      "text/plain": [
       "array([4, 3, 3, 2, 2, 2, 3, 2, 4, 2, 3, 2, 0, 3, 3, 3, 2, 2, 3, 2, 0, 0,\n",
       "       4, 0, 3, 3, 2, 0, 3, 2, 0, 3, 3, 2, 0, 3, 2, 4, 1, 2, 0, 0, 0, 1,\n",
       "       2, 2, 2, 2, 3, 3, 3, 0, 3, 2, 2, 3])"
      ]
     },
     "execution_count": 222,
     "metadata": {},
     "output_type": "execute_result"
    }
   ],
   "source": [
    "y_pred"
   ]
  },
  {
   "cell_type": "code",
   "execution_count": 225,
   "metadata": {},
   "outputs": [
    {
     "data": {
      "text/plain": [
       "array([4, 3, 2, 0, 2, 0, 0, 0, 4, 2, 1, 3, 3, 2, 1, 3, 3, 2, 3, 4, 0, 2,\n",
       "       4, 3, 3, 3, 3, 0, 2, 0, 0, 1, 3, 2, 0, 1, 2, 4, 4, 2, 2, 2, 0, 1,\n",
       "       2, 0, 2, 2, 2, 3, 3, 0, 3, 2, 2, 3])"
      ]
     },
     "execution_count": 225,
     "metadata": {},
     "output_type": "execute_result"
    }
   ],
   "source": [
    "np.argmax(y_test, axis=1)"
   ]
  },
  {
   "cell_type": "code",
   "execution_count": null,
   "metadata": {},
   "outputs": [],
   "source": []
  },
  {
   "cell_type": "code",
   "execution_count": 233,
   "metadata": {},
   "outputs": [
    {
     "name": "stdout",
     "output_type": "stream",
     "text": [
      "I want to eat\n",
      "Prediction :  🍴\n",
      "Actual :  🍴\n",
      "\n",
      "he did not answer\n",
      "Prediction :  😓\n",
      "Actual :  😓\n",
      "\n",
      "he got a raise\n",
      "Prediction :  😓\n",
      "Actual :  😁\n",
      "\n",
      "she got me a present\n",
      "Prediction :  😁\n",
      "Actual :  ❤️\n",
      "\n",
      "ha ha ha it was so funny\n",
      "Prediction :  😁\n",
      "Actual :  😁\n",
      "\n",
      "he is a good friend\n",
      "Prediction :  😁\n",
      "Actual :  ❤️\n",
      "\n",
      "I am upset\n",
      "Prediction :  😓\n",
      "Actual :  ❤️\n",
      "\n",
      "We had such a lovely dinner tonight\n",
      "Prediction :  😁\n",
      "Actual :  ❤️\n",
      "\n",
      "where is the food\n",
      "Prediction :  🍴\n",
      "Actual :  🍴\n",
      "\n",
      "Stop making this joke ha ha ha\n",
      "Prediction :  😁\n",
      "Actual :  😁\n",
      "\n",
      "where is the ball\n",
      "Prediction :  😓\n",
      "Actual :  ⚾\n",
      "\n",
      "work is hard\n",
      "Prediction :  😁\n",
      "Actual :  😓\n",
      "\n",
      "This girl is messing with me\n",
      "Prediction :  ❤️\n",
      "Actual :  😓\n",
      "\n",
      "are you serious ha ha\n",
      "Prediction :  😓\n",
      "Actual :  😁\n",
      "\n",
      "Let us go play baseball\n",
      "Prediction :  😓\n",
      "Actual :  ⚾\n",
      "\n",
      "This stupid grader is not working \n",
      "Prediction :  😓\n",
      "Actual :  😓\n",
      "\n",
      "work is horrible\n",
      "Prediction :  😁\n",
      "Actual :  😓\n",
      "\n",
      "Congratulation for having a baby\n",
      "Prediction :  😁\n",
      "Actual :  😁\n",
      "\n",
      "stop messing around\n",
      "Prediction :  😓\n",
      "Actual :  😓\n",
      "\n",
      "any suggestions for dinner\n",
      "Prediction :  😁\n",
      "Actual :  🍴\n",
      "\n",
      "I love taking breaks\n",
      "Prediction :  ❤️\n",
      "Actual :  ❤️\n",
      "\n",
      "you brighten my day\n",
      "Prediction :  ❤️\n",
      "Actual :  😁\n",
      "\n",
      "I boiled rice\n",
      "Prediction :  🍴\n",
      "Actual :  🍴\n",
      "\n",
      "she is a bully\n",
      "Prediction :  ❤️\n",
      "Actual :  😓\n",
      "\n",
      "Why are you feeling bad\n",
      "Prediction :  😓\n",
      "Actual :  😓\n",
      "\n",
      "I am upset\n",
      "Prediction :  😓\n",
      "Actual :  😓\n",
      "\n",
      "I worked during my birthday\n",
      "Prediction :  😁\n",
      "Actual :  😓\n",
      "\n",
      "My grandmother is the love of my life\n",
      "Prediction :  ❤️\n",
      "Actual :  ❤️\n",
      "\n",
      "enjoy your break\n",
      "Prediction :  😓\n",
      "Actual :  😁\n",
      "\n",
      "valentine day is near\n",
      "Prediction :  😁\n",
      "Actual :  ❤️\n",
      "\n",
      "I miss you so much\n",
      "Prediction :  ❤️\n",
      "Actual :  ❤️\n",
      "\n",
      "throw the ball\n",
      "Prediction :  😓\n",
      "Actual :  ⚾\n",
      "\n",
      "My life is so boring\n",
      "Prediction :  😓\n",
      "Actual :  😓\n",
      "\n",
      "she said yes\n",
      "Prediction :  😁\n",
      "Actual :  😁\n",
      "\n",
      "will you be my valentine\n",
      "Prediction :  ❤️\n",
      "Actual :  ❤️\n",
      "\n",
      "he can pitch really well\n",
      "Prediction :  😓\n",
      "Actual :  ⚾\n",
      "\n",
      "dance with me\n",
      "Prediction :  😁\n",
      "Actual :  😁\n",
      "\n",
      "I am starving\n",
      "Prediction :  🍴\n",
      "Actual :  🍴\n",
      "\n",
      "See you at the restaurant\n",
      "Prediction :  ⚾\n",
      "Actual :  🍴\n",
      "\n",
      "I like to laugh\n",
      "Prediction :  😁\n",
      "Actual :  😁\n",
      "\n",
      "I will go danc\n",
      "Prediction :  ❤️\n",
      "Actual :  😁\n",
      "\n",
      "I like your jacket \n",
      "Prediction :  ❤️\n",
      "Actual :  😁\n",
      "\n",
      "i miss her\n",
      "Prediction :  ❤️\n",
      "Actual :  ❤️\n",
      "\n",
      "what is your favorite baseball game\n",
      "Prediction :  ⚾\n",
      "Actual :  ⚾\n",
      "\n",
      "Good job\n",
      "Prediction :  😁\n",
      "Actual :  😁\n",
      "\n",
      "I love to the stars and back\n",
      "Prediction :  😁\n",
      "Actual :  ❤️\n",
      "\n",
      "What you did was awesome\n",
      "Prediction :  😁\n",
      "Actual :  😁\n",
      "\n",
      "ha ha ha lol\n",
      "Prediction :  😁\n",
      "Actual :  😁\n",
      "\n",
      "I want to joke\n",
      "Prediction :  😓\n",
      "Actual :  😁\n",
      "\n",
      "go away\n",
      "Prediction :  😓\n",
      "Actual :  😓\n",
      "\n",
      "yesterday we lost again\n",
      "Prediction :  😓\n",
      "Actual :  😓\n",
      "\n",
      "family is all I have\n",
      "Prediction :  ❤️\n",
      "Actual :  ❤️\n",
      "\n",
      "you are failing this exercise\n",
      "Prediction :  😓\n",
      "Actual :  😓\n",
      "\n",
      "Good joke\n",
      "Prediction :  😁\n",
      "Actual :  😁\n",
      "\n",
      "You totally deserve this prize\n",
      "Prediction :  😁\n",
      "Actual :  😁\n",
      "\n",
      "I did not have breakfast\n",
      "Prediction :  😓\n",
      "Actual :  😓\n",
      "\n"
     ]
    }
   ],
   "source": [
    "for t in range(len(test)):\n",
    "    print(test['Text'].iloc[t])\n",
    "    print(\"Prediction : \",  emoji.emojize(emoji_dict[str(y_pred[t])]) )\n",
    "    print(\"Actual : \", emoji.emojize(emoji_dict[str( test['Label'].iloc[t] )]) )\n",
    "    print()"
   ]
  },
  {
   "cell_type": "markdown",
   "metadata": {},
   "source": [
    "### Prediction for Custom Text"
   ]
  },
  {
   "cell_type": "code",
   "execution_count": 294,
   "metadata": {},
   "outputs": [],
   "source": [
    "inp  = \"where is the food\""
   ]
  },
  {
   "cell_type": "code",
   "execution_count": 295,
   "metadata": {},
   "outputs": [
    {
     "data": {
      "text/plain": [
       "'where is the food'"
      ]
     },
     "execution_count": 295,
     "metadata": {},
     "output_type": "execute_result"
    }
   ],
   "source": [
    "inp"
   ]
  },
  {
   "cell_type": "code",
   "execution_count": 296,
   "metadata": {},
   "outputs": [],
   "source": [
    "embedding_x_query = []"
   ]
  },
  {
   "cell_type": "code",
   "execution_count": 297,
   "metadata": {},
   "outputs": [
    {
     "name": "stdout",
     "output_type": "stream",
     "text": [
      "where\n",
      "is\n",
      "the\n",
      "food\n"
     ]
    }
   ],
   "source": [
    "for w in inp.lower().split():\n",
    "    print(w)\n",
    "    e = embedding_matrix[w]\n",
    "    embedding_x_query.append(e)"
   ]
  },
  {
   "cell_type": "code",
   "execution_count": 298,
   "metadata": {},
   "outputs": [],
   "source": [
    "embedding_x_query = np.array(embedding_x_query)"
   ]
  },
  {
   "cell_type": "code",
   "execution_count": 299,
   "metadata": {},
   "outputs": [
    {
     "data": {
      "text/plain": [
       "(4, 50)"
      ]
     },
     "execution_count": 299,
     "metadata": {},
     "output_type": "execute_result"
    }
   ],
   "source": [
    "embedding_x_query.shape"
   ]
  },
  {
   "cell_type": "code",
   "execution_count": null,
   "metadata": {},
   "outputs": [],
   "source": []
  },
  {
   "cell_type": "code",
   "execution_count": 300,
   "metadata": {},
   "outputs": [],
   "source": [
    "if embedding_x_query.shape[0] < 10:\n",
    "    embedding_x_query = np.vstack( (embedding_x_query, np.zeros((10 - len(embedding_x_query) , 50))  ) )"
   ]
  },
  {
   "cell_type": "code",
   "execution_count": 301,
   "metadata": {},
   "outputs": [
    {
     "data": {
      "text/plain": [
       "(10, 50)"
      ]
     },
     "execution_count": 301,
     "metadata": {},
     "output_type": "execute_result"
    }
   ],
   "source": [
    "embedding_x_query.shape"
   ]
  },
  {
   "cell_type": "code",
   "execution_count": 302,
   "metadata": {},
   "outputs": [],
   "source": [
    "embedding_x_query = embedding_x_query.reshape(1, 10, 50)"
   ]
  },
  {
   "cell_type": "code",
   "execution_count": 303,
   "metadata": {},
   "outputs": [
    {
     "data": {
      "text/plain": [
       "(1, 10, 50)"
      ]
     },
     "execution_count": 303,
     "metadata": {},
     "output_type": "execute_result"
    }
   ],
   "source": [
    "embedding_x_query.shape"
   ]
  },
  {
   "cell_type": "code",
   "execution_count": 304,
   "metadata": {},
   "outputs": [],
   "source": [
    "pred = model.predict_classes(embedding_x_query)"
   ]
  },
  {
   "cell_type": "code",
   "execution_count": 305,
   "metadata": {},
   "outputs": [
    {
     "data": {
      "text/plain": [
       "'🍴'"
      ]
     },
     "execution_count": 305,
     "metadata": {},
     "output_type": "execute_result"
    }
   ],
   "source": [
    "emoji.emojize( emoji_dict[ str(pred[0])] )"
   ]
  },
  {
   "cell_type": "code",
   "execution_count": null,
   "metadata": {},
   "outputs": [],
   "source": []
  },
  {
   "cell_type": "code",
   "execution_count": null,
   "metadata": {},
   "outputs": [],
   "source": []
  },
  {
   "cell_type": "code",
   "execution_count": null,
   "metadata": {},
   "outputs": [],
   "source": []
  }
 ],
 "metadata": {
  "kernelspec": {
   "display_name": "Python 3",
   "language": "python",
   "name": "python3"
  },
  "language_info": {
   "codemirror_mode": {
    "name": "ipython",
    "version": 3
   },
   "file_extension": ".py",
   "mimetype": "text/x-python",
   "name": "python",
   "nbconvert_exporter": "python",
   "pygments_lexer": "ipython3",
   "version": "3.8.3"
  }
 },
 "nbformat": 4,
 "nbformat_minor": 4
}
