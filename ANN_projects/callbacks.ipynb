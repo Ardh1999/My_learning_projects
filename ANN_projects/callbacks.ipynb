{
  "nbformat": 4,
  "nbformat_minor": 0,
  "metadata": {
    "colab": {
      "name": "MNIST - ANN",
      "provenance": []
    },
    "kernelspec": {
      "name": "python3",
      "display_name": "Python 3"
    },
    "accelerator": "GPU"
  },
  "cells": [
    {
      "cell_type": "code",
      "metadata": {
        "id": "Xpdb9f6J3xHp"
      },
      "source": [
        "from keras.datasets import mnist\n",
        "import numpy as np\n",
        "import matplotlib.pyplot as plt"
      ],
      "execution_count": 54,
      "outputs": []
    },
    {
      "cell_type": "code",
      "metadata": {
        "id": "vA0Qks_v39U6"
      },
      "source": [
        "(X_train, y_train), (X_test, y_test) = mnist.load_data()"
      ],
      "execution_count": 55,
      "outputs": []
    },
    {
      "cell_type": "code",
      "metadata": {
        "colab": {
          "base_uri": "https://localhost:8080/"
        },
        "id": "uEXb382B4D74",
        "outputId": "ca049705-ea81-4345-a72c-f8595b3a7995"
      },
      "source": [
        "X_train.shape, y_train.shape"
      ],
      "execution_count": 56,
      "outputs": [
        {
          "output_type": "execute_result",
          "data": {
            "text/plain": [
              "((60000, 28, 28), (60000,))"
            ]
          },
          "metadata": {
            "tags": []
          },
          "execution_count": 56
        }
      ]
    },
    {
      "cell_type": "code",
      "metadata": {
        "colab": {
          "base_uri": "https://localhost:8080/"
        },
        "id": "dEQDG7154Ii0",
        "outputId": "4912d4a6-efb4-411b-fb1a-b6f5b3ee9fd6"
      },
      "source": [
        "X_train[9].shape"
      ],
      "execution_count": 57,
      "outputs": [
        {
          "output_type": "execute_result",
          "data": {
            "text/plain": [
              "(28, 28)"
            ]
          },
          "metadata": {
            "tags": []
          },
          "execution_count": 57
        }
      ]
    },
    {
      "cell_type": "code",
      "metadata": {
        "colab": {
          "base_uri": "https://localhost:8080/",
          "height": 281
        },
        "id": "_SylbZ9D4SC9",
        "outputId": "056a3657-39ee-436c-c5a0-a1fd3a940da4"
      },
      "source": [
        "plt.imshow(X_train[90], cmap=\"gray\")\n",
        "plt.title(y_train[90])\n",
        "plt.show()"
      ],
      "execution_count": 58,
      "outputs": [
        {
          "output_type": "display_data",
          "data": {
            "image/png": "[encoded data removed]",
            "text/plain": [
              "<Figure size 432x288 with 1 Axes>"
            ]
          },
          "metadata": {
            "tags": [],
            "needs_background": "light"
          }
        }
      ]
    },
    {
      "cell_type": "code",
      "metadata": {
        "id": "ODvD5IDg4XrR"
      },
      "source": [
        "X_train = X_train.reshape((-1, 784))\n",
        "X_test = X_test.reshape((-1, 784))"
      ],
      "execution_count": 59,
      "outputs": []
    },
    {
      "cell_type": "code",
      "metadata": {
        "colab": {
          "base_uri": "https://localhost:8080/"
        },
        "id": "EytAV0T84nFg",
        "outputId": "f68ca6b9-a013-4a41-d4ea-77d8a84445e6"
      },
      "source": [
        "X_train.shape"
      ],
      "execution_count": 60,
      "outputs": [
        {
          "output_type": "execute_result",
          "data": {
            "text/plain": [
              "(60000, 784)"
            ]
          },
          "metadata": {
            "tags": []
          },
          "execution_count": 60
        }
      ]
    },
    {
      "cell_type": "code",
      "metadata": {
        "colab": {
          "base_uri": "https://localhost:8080/"
        },
        "id": "03gSsG3R5QqW",
        "outputId": "b1b8d463-d5cb-4280-fad7-f0e4f8a53bfc"
      },
      "source": [
        "X_train[101].shape"
      ],
      "execution_count": 61,
      "outputs": [
        {
          "output_type": "execute_result",
          "data": {
            "text/plain": [
              "(784,)"
            ]
          },
          "metadata": {
            "tags": []
          },
          "execution_count": 61
        }
      ]
    },
    {
      "cell_type": "code",
      "metadata": {
        "colab": {
          "base_uri": "https://localhost:8080/",
          "height": 265
        },
        "id": "auzenUIZ5TKc",
        "outputId": "7d480b90-4176-48ea-9d79-7f8c222ecb64"
      },
      "source": [
        "plt.imshow(X_train[101].reshape(28,28), cmap=\"gray\")\n",
        "plt.show()"
      ],
      "execution_count": 62,
      "outputs": [
        {
          "output_type": "display_data",
          "data": {
            "image/png": "[encoded data removed]",
            "text/plain": [
              "<Figure size 432x288 with 1 Axes>"
            ]
          },
          "metadata": {
            "tags": [],
            "needs_background": "light"
          }
        }
      ]
    },
    {
      "cell_type": "markdown",
      "metadata": {
        "id": "DqivIGnQ5q-I"
      },
      "source": [
        "# Neural Network Model"
      ]
    },
    {
      "cell_type": "code",
      "metadata": {
        "id": "08wscBW65Z1C"
      },
      "source": [
        "from keras.models import Sequential\n",
        "from keras.layers import Dense"
      ],
      "execution_count": 63,
      "outputs": []
    },
    {
      "cell_type": "code",
      "metadata": {
        "id": "inNcCPx252Qr"
      },
      "source": [
        "model = Sequential()\n",
        "\n",
        "model.add( Dense(units=500, activation='relu', input_shape=(784,) ) )\n",
        "model.add( Dense(units=300, activation='relu') )\n",
        "model.add( Dense(units=200, activation='relu') )\n",
        "model.add( Dense(units=100, activation='relu'))\n",
        "model.add( Dense(units=32, activation='relu') )\n",
        "model.add( Dense(units=10, activation='softmax'))"
      ],
      "execution_count": 64,
      "outputs": []
    },
    {
      "cell_type": "code",
      "metadata": {
        "colab": {
          "base_uri": "https://localhost:8080/"
        },
        "id": "qlD5nPcc8g9Y",
        "outputId": "4fb52feb-6039-425b-c23a-0304feb669e3"
      },
      "source": [
        "model.summary()"
      ],
      "execution_count": 65,
      "outputs": [
        {
          "output_type": "stream",
          "text": [
            "Model: \"sequential_2\"\n",
            "_________________________________________________________________\n",
            "Layer (type)                 Output Shape              Param #   \n",
            "=================================================================\n",
            "dense_12 (Dense)             (None, 500)               392500    \n",
            "_________________________________________________________________\n",
            "dense_13 (Dense)             (None, 300)               150300    \n",
            "_________________________________________________________________\n",
            "dense_14 (Dense)             (None, 200)               60200     \n",
            "_________________________________________________________________\n",
            "dense_15 (Dense)             (None, 100)               20100     \n",
            "_________________________________________________________________\n",
            "dense_16 (Dense)             (None, 32)                3232      \n",
            "_________________________________________________________________\n",
            "dense_17 (Dense)             (None, 10)                330       \n",
            "=================================================================\n",
            "Total params: 626,662\n",
            "Trainable params: 626,662\n",
            "Non-trainable params: 0\n",
            "_________________________________________________________________\n"
          ],
          "name": "stdout"
        }
      ]
    },
    {
      "cell_type": "code",
      "metadata": {
        "id": "yDNm7eZ_8iQF"
      },
      "source": [
        "model.compile(optimizer='adam', loss=\"categorical_crossentropy\", metrics=['accuracy'])"
      ],
      "execution_count": 66,
      "outputs": []
    },
    {
      "cell_type": "code",
      "metadata": {
        "colab": {
          "base_uri": "https://localhost:8080/"
        },
        "id": "nHb4iHQX96V-",
        "outputId": "9319b105-e508-433b-b85b-9847876c4f3c"
      },
      "source": [
        "y_train[90]"
      ],
      "execution_count": 67,
      "outputs": [
        {
          "output_type": "execute_result",
          "data": {
            "text/plain": [
              "6"
            ]
          },
          "metadata": {
            "tags": []
          },
          "execution_count": 67
        }
      ]
    },
    {
      "cell_type": "code",
      "metadata": {
        "id": "x2defUBR-eVy"
      },
      "source": [
        "from keras.utils import to_categorical"
      ],
      "execution_count": 68,
      "outputs": []
    },
    {
      "cell_type": "code",
      "metadata": {
        "id": "Uhcodiim-z3i"
      },
      "source": [
        "y_train = to_categorical(y_train)"
      ],
      "execution_count": 69,
      "outputs": []
    },
    {
      "cell_type": "code",
      "metadata": {
        "colab": {
          "base_uri": "https://localhost:8080/"
        },
        "id": "V-HIlXB__MAV",
        "outputId": "8ce3dc59-076e-4cf8-885a-03c70e31fede"
      },
      "source": [
        "y_train.shape"
      ],
      "execution_count": 70,
      "outputs": [
        {
          "output_type": "execute_result",
          "data": {
            "text/plain": [
              "(60000, 10)"
            ]
          },
          "metadata": {
            "tags": []
          },
          "execution_count": 70
        }
      ]
    },
    {
      "cell_type": "code",
      "metadata": {
        "id": "gYGC3NDb_Mrv"
      },
      "source": [
        "y_test = to_categorical(y_test)"
      ],
      "execution_count": 71,
      "outputs": []
    },
    {
      "cell_type": "code",
      "metadata": {
        "colab": {
          "base_uri": "https://localhost:8080/"
        },
        "id": "-b97amYM_PbW",
        "outputId": "ff0d9b54-6995-4844-9bc7-bda3d6e1d0fd"
      },
      "source": [
        "y_test.shape"
      ],
      "execution_count": 72,
      "outputs": [
        {
          "output_type": "execute_result",
          "data": {
            "text/plain": [
              "(10000, 10)"
            ]
          },
          "metadata": {
            "tags": []
          },
          "execution_count": 72
        }
      ]
    },
    {
      "cell_type": "markdown",
      "metadata": {
        "id": "IdP8IBwz_huy"
      },
      "source": [
        "# Actual Training"
      ]
    },
    {
      "cell_type": "code",
      "metadata": {
        "id": "hw3aVZTiAa-Q"
      },
      "source": [
        "from keras.callbacks import ModelCheckpoint, EarlyStopping\n",
        "\n",
        "\n",
        "checkpoint = ModelCheckpoint('./best_model.h5', monitor='val_accuracy', verbose=1, save_best_only=True)\n",
        "early_stop = EarlyStopping(monitor='val_accuracy', min_delta=0.0001, patience=5,verbose=1, restore_best_weights=True )"
      ],
      "execution_count": 73,
      "outputs": []
    },
    {
      "cell_type": "code",
      "metadata": {
        "colab": {
          "base_uri": "https://localhost:8080/"
        },
        "id": "Pz2-vCR6_gdf",
        "outputId": "745637b4-00e2-458f-f684-61cede90c260"
      },
      "source": [
        "his = model.fit(x=X_train, y=y_train, batch_size=32, epochs=50, validation_split=0.2, callbacks=[checkpoint, early_stop])"
      ],
      "execution_count": 74,
      "outputs": [
        {
          "output_type": "stream",
          "text": [
            "Epoch 1/50\n",
            "1500/1500 [==============================] - 4s 3ms/step - loss: 1.3524 - accuracy: 0.7892 - val_loss: 0.2405 - val_accuracy: 0.9380\n",
            "\n",
            "Epoch 00001: val_accuracy improved from -inf to 0.93800, saving model to ./best_model.h5\n",
            "Epoch 2/50\n",
            "1500/1500 [==============================] - 4s 3ms/step - loss: 0.1969 - accuracy: 0.9474 - val_loss: 0.1613 - val_accuracy: 0.9563\n",
            "\n",
            "Epoch 00002: val_accuracy improved from 0.93800 to 0.95633, saving model to ./best_model.h5\n",
            "Epoch 3/50\n",
            "1500/1500 [==============================] - 4s 3ms/step - loss: 0.1431 - accuracy: 0.9615 - val_loss: 0.1719 - val_accuracy: 0.9559\n",
            "\n",
            "Epoch 00003: val_accuracy did not improve from 0.95633\n",
            "Epoch 4/50\n",
            "1500/1500 [==============================] - 4s 3ms/step - loss: 0.1178 - accuracy: 0.9666 - val_loss: 0.2484 - val_accuracy: 0.9355\n",
            "\n",
            "Epoch 00004: val_accuracy did not improve from 0.95633\n",
            "Epoch 5/50\n",
            "1500/1500 [==============================] - 4s 3ms/step - loss: 0.1013 - accuracy: 0.9726 - val_loss: 0.1415 - val_accuracy: 0.9640\n",
            "\n",
            "Epoch 00005: val_accuracy improved from 0.95633 to 0.96400, saving model to ./best_model.h5\n",
            "Epoch 6/50\n",
            "1500/1500 [==============================] - 4s 3ms/step - loss: 0.0920 - accuracy: 0.9750 - val_loss: 0.1286 - val_accuracy: 0.9677\n",
            "\n",
            "Epoch 00006: val_accuracy improved from 0.96400 to 0.96767, saving model to ./best_model.h5\n",
            "Epoch 7/50\n",
            "1500/1500 [==============================] - 4s 3ms/step - loss: 0.0823 - accuracy: 0.9792 - val_loss: 0.1685 - val_accuracy: 0.9662\n",
            "\n",
            "Epoch 00007: val_accuracy did not improve from 0.96767\n",
            "Epoch 8/50\n",
            "1500/1500 [==============================] - 4s 3ms/step - loss: 0.0734 - accuracy: 0.9816 - val_loss: 0.1296 - val_accuracy: 0.9705\n",
            "\n",
            "Epoch 00008: val_accuracy improved from 0.96767 to 0.97050, saving model to ./best_model.h5\n",
            "Epoch 9/50\n",
            "1500/1500 [==============================] - 4s 3ms/step - loss: 0.0616 - accuracy: 0.9843 - val_loss: 0.1258 - val_accuracy: 0.9723\n",
            "\n",
            "Epoch 00009: val_accuracy improved from 0.97050 to 0.97233, saving model to ./best_model.h5\n",
            "Epoch 10/50\n",
            "1500/1500 [==============================] - 4s 3ms/step - loss: 0.0511 - accuracy: 0.9862 - val_loss: 0.1351 - val_accuracy: 0.9729\n",
            "\n",
            "Epoch 00010: val_accuracy improved from 0.97233 to 0.97292, saving model to ./best_model.h5\n",
            "Epoch 11/50\n",
            "1500/1500 [==============================] - 4s 3ms/step - loss: 0.0531 - accuracy: 0.9870 - val_loss: 0.1145 - val_accuracy: 0.9753\n",
            "\n",
            "Epoch 00011: val_accuracy improved from 0.97292 to 0.97525, saving model to ./best_model.h5\n",
            "Epoch 12/50\n",
            "1500/1500 [==============================] - 4s 3ms/step - loss: 0.0445 - accuracy: 0.9899 - val_loss: 0.1721 - val_accuracy: 0.9680\n",
            "\n",
            "Epoch 00012: val_accuracy did not improve from 0.97525\n",
            "Epoch 13/50\n",
            "1500/1500 [==============================] - 4s 3ms/step - loss: 0.0454 - accuracy: 0.9885 - val_loss: 0.1522 - val_accuracy: 0.9740\n",
            "\n",
            "Epoch 00013: val_accuracy did not improve from 0.97525\n",
            "Epoch 14/50\n",
            "1500/1500 [==============================] - 4s 3ms/step - loss: 0.0428 - accuracy: 0.9893 - val_loss: 0.1677 - val_accuracy: 0.9748\n",
            "\n",
            "Epoch 00014: val_accuracy did not improve from 0.97525\n",
            "Epoch 15/50\n",
            "1500/1500 [==============================] - 4s 3ms/step - loss: 0.0525 - accuracy: 0.9897 - val_loss: 0.1190 - val_accuracy: 0.9770\n",
            "\n",
            "Epoch 00015: val_accuracy improved from 0.97525 to 0.97700, saving model to ./best_model.h5\n",
            "Epoch 16/50\n",
            "1500/1500 [==============================] - 4s 3ms/step - loss: 0.0452 - accuracy: 0.9905 - val_loss: 0.1808 - val_accuracy: 0.9753\n",
            "\n",
            "Epoch 00016: val_accuracy did not improve from 0.97700\n",
            "Epoch 17/50\n",
            "1500/1500 [==============================] - 4s 3ms/step - loss: 0.0438 - accuracy: 0.9909 - val_loss: 0.1236 - val_accuracy: 0.9753\n",
            "\n",
            "Epoch 00017: val_accuracy did not improve from 0.97700\n",
            "Epoch 18/50\n",
            "1500/1500 [==============================] - 4s 3ms/step - loss: 0.0339 - accuracy: 0.9920 - val_loss: 0.1683 - val_accuracy: 0.9732\n",
            "\n",
            "Epoch 00018: val_accuracy did not improve from 0.97700\n",
            "Epoch 19/50\n",
            "1500/1500 [==============================] - 4s 3ms/step - loss: 0.0415 - accuracy: 0.9914 - val_loss: 0.1367 - val_accuracy: 0.9747\n",
            "\n",
            "Epoch 00019: val_accuracy did not improve from 0.97700\n",
            "Epoch 20/50\n",
            "1500/1500 [==============================] - 4s 3ms/step - loss: 0.0316 - accuracy: 0.9930 - val_loss: 0.1700 - val_accuracy: 0.9772\n",
            "\n",
            "Epoch 00020: val_accuracy improved from 0.97700 to 0.97725, saving model to ./best_model.h5\n",
            "Epoch 21/50\n",
            "1500/1500 [==============================] - 4s 3ms/step - loss: 0.0359 - accuracy: 0.9927 - val_loss: 0.1598 - val_accuracy: 0.9758\n",
            "\n",
            "Epoch 00021: val_accuracy did not improve from 0.97725\n",
            "Epoch 22/50\n",
            "1500/1500 [==============================] - 4s 3ms/step - loss: 0.0309 - accuracy: 0.9933 - val_loss: 0.1745 - val_accuracy: 0.9757\n",
            "\n",
            "Epoch 00022: val_accuracy did not improve from 0.97725\n",
            "Epoch 23/50\n",
            "1500/1500 [==============================] - 4s 3ms/step - loss: 0.0260 - accuracy: 0.9938 - val_loss: 0.2310 - val_accuracy: 0.9734\n",
            "\n",
            "Epoch 00023: val_accuracy did not improve from 0.97725\n",
            "Epoch 24/50\n",
            "1500/1500 [==============================] - 4s 3ms/step - loss: 0.0622 - accuracy: 0.9907 - val_loss: 0.1768 - val_accuracy: 0.9772\n",
            "\n",
            "Epoch 00024: val_accuracy did not improve from 0.97725\n",
            "Epoch 25/50\n",
            "1500/1500 [==============================] - 4s 3ms/step - loss: 0.0230 - accuracy: 0.9950 - val_loss: 0.1763 - val_accuracy: 0.9775\n",
            "\n",
            "Epoch 00025: val_accuracy improved from 0.97725 to 0.97750, saving model to ./best_model.h5\n",
            "Epoch 26/50\n",
            "1500/1500 [==============================] - 4s 3ms/step - loss: 0.0431 - accuracy: 0.9929 - val_loss: 0.1627 - val_accuracy: 0.9766\n",
            "\n",
            "Epoch 00026: val_accuracy did not improve from 0.97750\n",
            "Epoch 27/50\n",
            "1500/1500 [==============================] - 4s 3ms/step - loss: 0.0200 - accuracy: 0.9960 - val_loss: 0.1604 - val_accuracy: 0.9779\n",
            "\n",
            "Epoch 00027: val_accuracy improved from 0.97750 to 0.97792, saving model to ./best_model.h5\n",
            "Epoch 28/50\n",
            "1500/1500 [==============================] - 4s 3ms/step - loss: 0.0245 - accuracy: 0.9953 - val_loss: 0.7629 - val_accuracy: 0.9657\n",
            "\n",
            "Epoch 00028: val_accuracy did not improve from 0.97792\n",
            "Epoch 29/50\n",
            "1500/1500 [==============================] - 4s 3ms/step - loss: 0.0901 - accuracy: 0.9872 - val_loss: 0.2432 - val_accuracy: 0.9742\n",
            "\n",
            "Epoch 00029: val_accuracy did not improve from 0.97792\n",
            "Epoch 30/50\n",
            "1500/1500 [==============================] - 4s 3ms/step - loss: 0.0259 - accuracy: 0.9946 - val_loss: 0.1697 - val_accuracy: 0.9753\n",
            "\n",
            "Epoch 00030: val_accuracy did not improve from 0.97792\n",
            "Epoch 31/50\n",
            "1500/1500 [==============================] - 4s 3ms/step - loss: 0.0169 - accuracy: 0.9966 - val_loss: 0.2843 - val_accuracy: 0.9753\n",
            "\n",
            "Epoch 00031: val_accuracy did not improve from 0.97792\n",
            "Epoch 32/50\n",
            "1500/1500 [==============================] - 4s 3ms/step - loss: 0.0369 - accuracy: 0.9931 - val_loss: 0.1987 - val_accuracy: 0.9783\n",
            "\n",
            "Epoch 00032: val_accuracy improved from 0.97792 to 0.97833, saving model to ./best_model.h5\n",
            "Epoch 33/50\n",
            "1500/1500 [==============================] - 4s 3ms/step - loss: 0.0267 - accuracy: 0.9950 - val_loss: 0.2248 - val_accuracy: 0.9769\n",
            "\n",
            "Epoch 00033: val_accuracy did not improve from 0.97833\n",
            "Epoch 34/50\n",
            "1500/1500 [==============================] - 4s 3ms/step - loss: 0.0300 - accuracy: 0.9944 - val_loss: 0.2463 - val_accuracy: 0.9728\n",
            "\n",
            "Epoch 00034: val_accuracy did not improve from 0.97833\n",
            "Epoch 35/50\n",
            "1500/1500 [==============================] - 4s 3ms/step - loss: 0.0212 - accuracy: 0.9952 - val_loss: 0.3112 - val_accuracy: 0.9768\n",
            "\n",
            "Epoch 00035: val_accuracy did not improve from 0.97833\n",
            "Epoch 36/50\n",
            "1500/1500 [==============================] - 4s 3ms/step - loss: 0.0305 - accuracy: 0.9943 - val_loss: 0.2979 - val_accuracy: 0.9623\n",
            "\n",
            "Epoch 00036: val_accuracy did not improve from 0.97833\n",
            "Epoch 37/50\n",
            "1500/1500 [==============================] - 4s 3ms/step - loss: 0.0366 - accuracy: 0.9921 - val_loss: 0.2194 - val_accuracy: 0.9765\n",
            "\n",
            "Epoch 00037: val_accuracy did not improve from 0.97833\n",
            "Restoring model weights from the end of the best epoch.\n",
            "Epoch 00037: early stopping\n"
          ],
          "name": "stdout"
        }
      ]
    },
    {
      "cell_type": "code",
      "metadata": {
        "colab": {
          "base_uri": "https://localhost:8080/"
        },
        "id": "Ygn2uLcgA1Jk",
        "outputId": "d9cec86d-85fc-4174-8e07-07e8953aa13d"
      },
      "source": [
        "his"
      ],
      "execution_count": 75,
      "outputs": [
        {
          "output_type": "execute_result",
          "data": {
            "text/plain": [
              "<tensorflow.python.keras.callbacks.History at 0x7f41572290f0>"
            ]
          },
          "metadata": {
            "tags": []
          },
          "execution_count": 75
        }
      ]
    },
    {
      "cell_type": "code",
      "metadata": {
        "id": "Nu1WifDaBX9N"
      },
      "source": [
        "history = his.history"
      ],
      "execution_count": 76,
      "outputs": []
    },
    {
      "cell_type": "code",
      "metadata": {
        "colab": {
          "base_uri": "https://localhost:8080/"
        },
        "id": "3Diie0bPBack",
        "outputId": "db9935e4-bc8e-4135-abbc-cc89f86812c4"
      },
      "source": [
        "history.keys()"
      ],
      "execution_count": 77,
      "outputs": [
        {
          "output_type": "execute_result",
          "data": {
            "text/plain": [
              "dict_keys(['loss', 'accuracy', 'val_loss', 'val_accuracy'])"
            ]
          },
          "metadata": {
            "tags": []
          },
          "execution_count": 77
        }
      ]
    },
    {
      "cell_type": "code",
      "metadata": {
        "colab": {
          "base_uri": "https://localhost:8080/",
          "height": 266
        },
        "id": "Fnpa4IqcBc1q",
        "outputId": "66083e5d-2fe7-42ef-836b-f669e3bd1739"
      },
      "source": [
        "plt.plot(history['accuracy'], label=\"accuracy\")\n",
        "plt.plot(history['val_accuracy'], label=\"val_accuracy\")\n",
        "plt.legend()\n",
        "plt.show()"
      ],
      "execution_count": 78,
      "outputs": [
        {
          "output_type": "display_data",
          "data": {
            "image/png": "[encoded data removed]",
            "text/plain": [
              "<Figure size 432x288 with 1 Axes>"
            ]
          },
          "metadata": {
            "tags": [],
            "needs_background": "light"
          }
        }
      ]
    },
    {
      "cell_type": "code",
      "metadata": {
        "colab": {
          "base_uri": "https://localhost:8080/",
          "height": 265
        },
        "id": "oDqPEjckBgHX",
        "outputId": "4ef8c099-2596-4ae8-aa6b-8e42c84036d6"
      },
      "source": [
        "plt.plot(history['loss'], label=\"loss\")\n",
        "plt.plot(history['val_loss'], label=\"val_loss\")\n",
        "plt.legend()\n",
        "plt.show()"
      ],
      "execution_count": 79,
      "outputs": [
        {
          "output_type": "display_data",
          "data": {
            "image/png": "[encoded data removed]",
            "text/plain": [
              "<Figure size 432x288 with 1 Axes>"
            ]
          },
          "metadata": {
            "tags": [],
            "needs_background": "light"
          }
        }
      ]
    },
    {
      "cell_type": "code",
      "metadata": {
        "colab": {
          "base_uri": "https://localhost:8080/"
        },
        "id": "AqQiVGS1DkJH",
        "outputId": "84af9f6f-60ad-434f-9180-a325a73662ea"
      },
      "source": [
        "model.evaluate(X_test, y_test)"
      ],
      "execution_count": 80,
      "outputs": [
        {
          "output_type": "stream",
          "text": [
            "313/313 [==============================] - 1s 2ms/step - loss: 0.1568 - accuracy: 0.9790\n"
          ],
          "name": "stdout"
        },
        {
          "output_type": "execute_result",
          "data": {
            "text/plain": [
              "[0.15682561695575714, 0.9789999723434448]"
            ]
          },
          "metadata": {
            "tags": []
          },
          "execution_count": 80
        }
      ]
    },
    {
      "cell_type": "code",
      "metadata": {
        "id": "B8A6VYg3Dudu"
      },
      "source": [
        "y_pred = model.predict(X_test)"
      ],
      "execution_count": 81,
      "outputs": []
    },
    {
      "cell_type": "code",
      "metadata": {
        "colab": {
          "base_uri": "https://localhost:8080/"
        },
        "id": "mZ85S29pD2M9",
        "outputId": "93de8ad2-82cb-4017-afc1-2ddc27a2314c"
      },
      "source": [
        "y_pred.shape"
      ],
      "execution_count": 82,
      "outputs": [
        {
          "output_type": "execute_result",
          "data": {
            "text/plain": [
              "(10000, 10)"
            ]
          },
          "metadata": {
            "tags": []
          },
          "execution_count": 82
        }
      ]
    },
    {
      "cell_type": "code",
      "metadata": {
        "colab": {
          "base_uri": "https://localhost:8080/"
        },
        "id": "Jaf92MjDD8U1",
        "outputId": "4ba01707-da83-452e-db37-6b021eb656f5"
      },
      "source": [
        "np.argmax(y_pred[888])"
      ],
      "execution_count": 83,
      "outputs": [
        {
          "output_type": "execute_result",
          "data": {
            "text/plain": [
              "2"
            ]
          },
          "metadata": {
            "tags": []
          },
          "execution_count": 83
        }
      ]
    },
    {
      "cell_type": "code",
      "metadata": {
        "colab": {
          "base_uri": "https://localhost:8080/",
          "height": 265
        },
        "id": "feXehOsOEBkT",
        "outputId": "d7e64982-66d8-4374-cdba-be771974d5ed"
      },
      "source": [
        "plt.imshow(X_test[888].reshape(28,28), cmap=\"gray\")\n",
        "plt.show()"
      ],
      "execution_count": 84,
      "outputs": [
        {
          "output_type": "display_data",
          "data": {
            "image/png": "[encoded data removed]",
            "text/plain": [
              "<Figure size 432x288 with 1 Axes>"
            ]
          },
          "metadata": {
            "tags": [],
            "needs_background": "light"
          }
        }
      ]
    },
    {
      "cell_type": "code",
      "metadata": {
        "id": "j-KzJEiMEPI8"
      },
      "source": [
        "model.save(\"mnist_model.h5\")"
      ],
      "execution_count": null,
      "outputs": []
    },
    {
      "cell_type": "markdown",
      "metadata": {
        "id": "3PNqQBwXGHEC"
      },
      "source": [
        "# Load Keras Model"
      ]
    },
    {
      "cell_type": "code",
      "metadata": {
        "id": "SJNicUZIFVqL"
      },
      "source": [
        "from keras.models import load_model"
      ],
      "execution_count": null,
      "outputs": []
    },
    {
      "cell_type": "code",
      "metadata": {
        "id": "vzETRutuGmIW"
      },
      "source": [
        "new_model = load_model(\"./mnist_model.h5\")"
      ],
      "execution_count": null,
      "outputs": []
    },
    {
      "cell_type": "code",
      "metadata": {
        "colab": {
          "base_uri": "https://localhost:8080/"
        },
        "id": "2L50ywAtGqGx",
        "outputId": "d49f47dd-2cca-4ff2-ebef-0baa64a8d90d"
      },
      "source": [
        "new_model"
      ],
      "execution_count": null,
      "outputs": [
        {
          "output_type": "execute_result",
          "data": {
            "text/plain": [
              "<tensorflow.python.keras.engine.sequential.Sequential at 0x7f038c7c6748>"
            ]
          },
          "metadata": {
            "tags": []
          },
          "execution_count": 34
        }
      ]
    },
    {
      "cell_type": "code",
      "metadata": {
        "colab": {
          "base_uri": "https://localhost:8080/"
        },
        "id": "GO0JNw4rGrjM",
        "outputId": "a517e2dc-ddea-4c25-acd0-69d846614c6d"
      },
      "source": [
        "new_model.evaluate(X_test, y_test)"
      ],
      "execution_count": null,
      "outputs": [
        {
          "output_type": "stream",
          "text": [
            "313/313 [==============================] - 1s 2ms/step - loss: 0.2419 - accuracy: 0.9775\n"
          ],
          "name": "stdout"
        },
        {
          "output_type": "execute_result",
          "data": {
            "text/plain": [
              "[0.24193164706230164, 0.9775000214576721]"
            ]
          },
          "metadata": {
            "tags": []
          },
          "execution_count": 35
        }
      ]
    },
    {
      "cell_type": "code",
      "metadata": {
        "id": "QnW9D-EIG90K"
      },
      "source": [
        ""
      ],
      "execution_count": null,
      "outputs": []
    }
  ]
}