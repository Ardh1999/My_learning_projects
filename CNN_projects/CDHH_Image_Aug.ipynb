{
  "nbformat": 4,
  "nbformat_minor": 0,
  "metadata": {
    "colab": {
      "name": "CDHH_Image_Aug",
      "provenance": [],
      "collapsed_sections": []
    },
    "kernelspec": {
      "name": "python3",
      "display_name": "Python 3"
    }
  },
  "cells": [
    {
      "cell_type": "code",
      "metadata": {
        "colab": {
          "base_uri": "https://localhost:8080/"
        },
        "id": "FoCDgn89uCOb",
        "outputId": "353a4032-d2c5-4cca-81c2-a9020e601a35"
      },
      "source": [
        "!wget \"https://www.dropbox.com/sh/3st0m56ysutsr90/AAB-193KAr7qhFrwbwBENjPNa?dl=0\""
      ],
      "execution_count": 2,
      "outputs": [
        {
          "output_type": "stream",
          "text": [
            "--2021-01-30 14:35:15--  https://www.dropbox.com/sh/3st0m56ysutsr90/AAB-193KAr7qhFrwbwBENjPNa?dl=0\n",
            "Resolving www.dropbox.com (www.dropbox.com)... 162.125.64.18, 2620:100:6022:18::a27d:4212\n",
            "Connecting to www.dropbox.com (www.dropbox.com)|162.125.64.18|:443... connected.\n",
            "HTTP request sent, awaiting response... 301 Moved Permanently\n",
            "Location: /sh/raw/3st0m56ysutsr90/AAB-193KAr7qhFrwbwBENjPNa [following]\n",
            "--2021-01-30 14:35:15--  https://www.dropbox.com/sh/raw/3st0m56ysutsr90/AAB-193KAr7qhFrwbwBENjPNa\n",
            "Reusing existing connection to www.dropbox.com:443.\n",
            "HTTP request sent, awaiting response... 302 Found\n",
            "Location: https://uc7c8f02dc8fe12bd1d27bc40ac0.dl.dropboxusercontent.com/zip_download_get/ArZ9HLSTeXdnEh1ytsQkYpXeSC0seAGI9_3hsX_T_G9DzvbYgoOWez9-Nn1Oxs1yq4E6dg4i1mpIpYKZzdhy6hH-9qnH5Pa3n6f-Z1mF_QKelg [following]\n",
            "--2021-01-30 14:35:16--  https://uc7c8f02dc8fe12bd1d27bc40ac0.dl.dropboxusercontent.com/zip_download_get/ArZ9HLSTeXdnEh1ytsQkYpXeSC0seAGI9_3hsX_T_G9DzvbYgoOWez9-Nn1Oxs1yq4E6dg4i1mpIpYKZzdhy6hH-9qnH5Pa3n6f-Z1mF_QKelg\n",
            "Resolving uc7c8f02dc8fe12bd1d27bc40ac0.dl.dropboxusercontent.com (uc7c8f02dc8fe12bd1d27bc40ac0.dl.dropboxusercontent.com)... 162.125.64.15, 2620:100:6020:15::a27d:400f\n",
            "Connecting to uc7c8f02dc8fe12bd1d27bc40ac0.dl.dropboxusercontent.com (uc7c8f02dc8fe12bd1d27bc40ac0.dl.dropboxusercontent.com)|162.125.64.15|:443... connected.\n",
            "HTTP request sent, awaiting response... 200 OK\n",
            "Length: 20859450 (20M) [application/zip]\n",
            "Saving to: ‘AAB-193KAr7qhFrwbwBENjPNa?dl=0’\n",
            "\n",
            "AAB-193KAr7qhFrwbwB 100%[===================>]  19.89M   735KB/s    in 35s     \n",
            "\n",
            "2021-01-30 14:35:52 (581 KB/s) - ‘AAB-193KAr7qhFrwbwBENjPNa?dl=0’ saved [20859450/20859450]\n",
            "\n"
          ],
          "name": "stdout"
        }
      ]
    },
    {
      "cell_type": "code",
      "metadata": {
        "colab": {
          "base_uri": "https://localhost:8080/"
        },
        "id": "zjwhWPtPuEKq",
        "outputId": "f5dab0c9-1d5f-478a-cf12-cd0537470e0e"
      },
      "source": [
        "!unzip AAB-193KAr7qhFrwbwBENjPNa?dl=0 -d images/"
      ],
      "execution_count": 4,
      "outputs": [
        {
          "output_type": "stream",
          "text": [
            "Archive:  AAB-193KAr7qhFrwbwBENjPNa?dl=0\n",
            "warning:  stripped absolute path spec from /\n",
            "mapname:  conversion of  failed\n",
            "   creating: images/cats/\n",
            "   creating: images/dogs/\n",
            "   creating: images/humans/\n",
            "   creating: images/horses/\n",
            " extracting: images/dogs/dog.3.jpg   \n",
            " extracting: images/cats/cat.3.jpg   \n",
            " extracting: images/dogs/dog.9.jpg   \n",
            " extracting: images/cats/cat.6.jpg   \n",
            " extracting: images/dogs/dog.4.jpg   \n",
            " extracting: images/cats/cat.8.jpg   \n",
            " extracting: images/dogs/dog.5.jpg   \n",
            " extracting: images/cats/cat.7.jpg   \n",
            " extracting: images/dogs/dog.2.jpg   \n",
            " extracting: images/dogs/dog.8.jpg   \n",
            " extracting: images/cats/cat.5.jpg   \n",
            " extracting: images/dogs/dog.7.jpg   \n",
            " extracting: images/cats/cat.2.jpg   \n",
            " extracting: images/dogs/dog.1.jpg   \n",
            " extracting: images/cats/cat.4.jpg   \n",
            " extracting: images/cats/cat.1.jpg   \n",
            " extracting: images/dogs/dog.6.jpg   \n",
            " extracting: images/cats/cat.9.jpg   \n",
            " extracting: images/dogs/dog.57.jpg  \n",
            " extracting: images/cats/cat.15.jpg  \n",
            " extracting: images/dogs/dog.76.jpg  \n",
            " extracting: images/cats/cat.22.jpg  \n",
            " extracting: images/cats/cat.12.jpg  \n",
            " extracting: images/cats/cat.70.jpg  \n",
            " extracting: images/dogs/dog.80.jpg  \n",
            " extracting: images/dogs/dog.69.jpg  \n",
            " extracting: images/cats/cat.31.jpg  \n",
            " extracting: images/dogs/dog.62.jpg  \n",
            " extracting: images/dogs/dog.54.jpg  \n",
            " extracting: images/dogs/dog.97.jpg  \n",
            " extracting: images/cats/cat.86.jpg  \n",
            " extracting: images/cats/cat.63.jpg  \n",
            " extracting: images/dogs/dog.88.jpg  \n",
            " extracting: images/dogs/dog.58.jpg  \n",
            " extracting: images/cats/cat.74.jpg  \n",
            " extracting: images/dogs/dog.24.jpg  \n",
            " extracting: images/cats/cat.76.jpg  \n",
            " extracting: images/dogs/dog.61.jpg  \n",
            " extracting: images/dogs/dog.41.jpg  \n",
            " extracting: images/dogs/dog.12.jpg  \n",
            " extracting: images/cats/cat.53.jpg  \n",
            " extracting: images/dogs/dog.82.jpg  \n",
            " extracting: images/dogs/dog.31.jpg  \n",
            " extracting: images/dogs/dog.86.jpg  \n",
            " extracting: images/dogs/dog.18.jpg  \n",
            " extracting: images/cats/cat.18.jpg  \n",
            " extracting: images/cats/cat.43.jpg  \n",
            " extracting: images/dogs/dog.70.jpg  \n",
            " extracting: images/dogs/dog.38.jpg  \n",
            " extracting: images/dogs/dog.60.jpg  \n",
            " extracting: images/dogs/dog.29.jpg  \n",
            " extracting: images/cats/cat.91.jpg  \n",
            " extracting: images/dogs/dog.14.jpg  \n",
            " extracting: images/cats/cat.79.jpg  \n",
            " extracting: images/dogs/dog.59.jpg  \n",
            " extracting: images/dogs/dog.77.jpg  \n",
            " extracting: images/cats/cat.36.jpg  \n",
            " extracting: images/cats/cat.13.jpg  \n",
            " extracting: images/cats/cat.21.jpg  \n",
            " extracting: images/dogs/dog.22.jpg  \n",
            " extracting: images/dogs/dog.45.jpg  \n",
            " extracting: images/dogs/dog.32.jpg  \n",
            " extracting: images/dogs/dog.92.jpg  \n",
            " extracting: images/dogs/dog.87.jpg  \n",
            " extracting: images/cats/cat.23.jpg  \n",
            " extracting: images/cats/cat.95.jpg  \n",
            " extracting: images/dogs/dog.93.jpg  \n",
            " extracting: images/dogs/dog.96.jpg  \n",
            " extracting: images/dogs/dog.65.jpg  \n",
            " extracting: images/cats/cat.73.jpg  \n",
            " extracting: images/dogs/dog.25.jpg  \n",
            " extracting: images/dogs/dog.48.jpg  \n",
            " extracting: images/cats/cat.47.jpg  \n",
            " extracting: images/cats/cat.69.jpg  \n",
            " extracting: images/cats/cat.68.jpg  \n",
            " extracting: images/cats/cat.54.jpg  \n",
            " extracting: images/cats/cat.19.jpg  \n",
            " extracting: images/dogs/dog.13.jpg  \n",
            " extracting: images/cats/cat.20.jpg  \n",
            " extracting: images/dogs/dog.71.jpg  \n",
            " extracting: images/dogs/dog.15.jpg  \n",
            " extracting: images/dogs/dog.39.jpg  \n",
            " extracting: images/dogs/dog.64.jpg  \n",
            " extracting: images/dogs/dog.83.jpg  \n",
            " extracting: images/cats/cat.84.jpg  \n",
            " extracting: images/cats/cat.45.jpg  \n",
            " extracting: images/dogs/dog.53.jpg  \n",
            " extracting: images/cats/cat.85.jpg  \n",
            " extracting: images/cats/cat.60.jpg  \n",
            " extracting: images/cats/cat.42.jpg  \n",
            " extracting: images/cats/cat.41.jpg  \n",
            " extracting: images/cats/cat.30.jpg  \n",
            " extracting: images/cats/cat.27.jpg  \n",
            " extracting: images/cats/cat.55.jpg  \n",
            " extracting: images/cats/cat.94.jpg  \n",
            " extracting: images/cats/cat.75.jpg  \n",
            " extracting: images/cats/cat.16.jpg  \n",
            " extracting: images/dogs/dog.33.jpg  \n",
            " extracting: images/dogs/dog.34.jpg  \n",
            " extracting: images/dogs/dog.47.jpg  \n",
            " extracting: images/cats/cat.64.jpg  \n",
            " extracting: images/dogs/dog.28.jpg  \n",
            " extracting: images/dogs/dog.52.jpg  \n",
            " extracting: images/cats/cat.96.jpg  \n",
            " extracting: images/dogs/dog.94.jpg  \n",
            " extracting: images/cats/cat.72.jpg  \n",
            " extracting: images/dogs/dog.23.jpg  \n",
            " extracting: images/dogs/dog.44.jpg  \n",
            " extracting: images/cats/cat.52.jpg  \n",
            " extracting: images/dogs/dog.42.jpg  \n",
            " extracting: images/cats/cat.61.jpg  \n",
            " extracting: images/cats/cat.51.jpg  \n",
            " extracting: images/dogs/dog.95.jpg  \n",
            " extracting: images/cats/cat.44.jpg  \n",
            " extracting: images/cats/cat.62.jpg  \n",
            " extracting: images/cats/cat.99.jpg  \n",
            " extracting: images/cats/cat.78.jpg  \n",
            " extracting: images/dogs/dog.98.jpg  \n",
            " extracting: images/cats/cat.67.jpg  \n",
            " extracting: images/dogs/dog.10.jpg  \n",
            " extracting: images/dogs/dog.26.jpg  \n",
            " extracting: images/cats/cat.26.jpg  \n",
            " extracting: images/cats/cat.48.jpg  \n",
            " extracting: images/cats/cat.58.jpg  \n",
            " extracting: images/dogs/dog.74.jpg  \n",
            " extracting: images/dogs/dog.84.jpg  \n",
            " extracting: images/dogs/dog.90.jpg  \n",
            " extracting: images/cats/cat.35.jpg  \n",
            " extracting: images/cats/cat.57.jpg  \n",
            " extracting: images/dogs/dog.40.jpg  \n",
            " extracting: images/cats/cat.92.jpg  \n",
            " extracting: images/cats/cat.29.jpg  \n",
            " extracting: images/cats/cat.89.jpg  \n",
            " extracting: images/dogs/dog.46.jpg  \n",
            " extracting: images/dogs/dog.99.jpg  \n",
            " extracting: images/dogs/dog.72.jpg  \n",
            " extracting: images/dogs/dog.66.jpg  \n",
            " extracting: images/cats/cat.98.jpg  \n",
            " extracting: images/cats/cat.81.jpg  \n",
            " extracting: images/dogs/dog.49.jpg  \n",
            " extracting: images/cats/cat.17.jpg  \n",
            " extracting: images/cats/cat.11.jpg  \n",
            " extracting: images/dogs/dog.85.jpg  \n",
            " extracting: images/dogs/dog.50.jpg  \n",
            " extracting: images/cats/cat.80.jpg  \n",
            " extracting: images/dogs/dog.67.jpg  \n",
            " extracting: images/dogs/dog.35.jpg  \n",
            " extracting: images/dogs/dog.56.jpg  \n",
            " extracting: images/dogs/dog.43.jpg  \n",
            " extracting: images/cats/cat.32.jpg  \n",
            " extracting: images/dogs/dog.75.jpg  \n",
            " extracting: images/dogs/dog.68.jpg  \n",
            " extracting: images/cats/cat.71.jpg  \n",
            " extracting: images/dogs/dog.16.jpg  \n",
            " extracting: images/dogs/dog.37.jpg  \n",
            " extracting: images/cats/cat.39.jpg  \n",
            " extracting: images/cats/cat.97.jpg  \n",
            " extracting: images/dogs/dog.73.jpg  \n",
            " extracting: images/dogs/dog.91.jpg  \n",
            " extracting: images/dogs/dog.11.jpg  \n",
            " extracting: images/cats/cat.93.jpg  \n",
            " extracting: images/cats/cat.50.jpg  \n",
            " extracting: images/cats/cat.66.jpg  \n",
            " extracting: images/dogs/dog.78.jpg  \n",
            " extracting: images/dogs/dog.63.jpg  \n",
            " extracting: images/cats/cat.88.jpg  \n",
            " extracting: images/dogs/dog.81.jpg  \n",
            " extracting: images/dogs/dog.20.jpg  \n",
            " extracting: images/cats/cat.46.jpg  \n",
            " extracting: images/dogs/dog.27.jpg  \n",
            " extracting: images/cats/cat.28.jpg  \n",
            " extracting: images/cats/cat.34.jpg  \n",
            " extracting: images/cats/cat.49.jpg  \n",
            " extracting: images/dogs/dog.55.jpg  \n",
            " extracting: images/cats/cat.82.jpg  \n",
            " extracting: images/cats/cat.56.jpg  \n",
            " extracting: images/dogs/dog.36.jpg  \n",
            " extracting: images/cats/cat.33.jpg  \n",
            " extracting: images/cats/cat.25.jpg  \n",
            " extracting: images/cats/cat.65.jpg  \n",
            " extracting: images/dogs/dog.17.jpg  \n",
            " extracting: images/cats/cat.14.jpg  \n",
            " extracting: images/cats/cat.38.jpg  \n",
            " extracting: images/dogs/dog.21.jpg  \n",
            " extracting: images/cats/cat.10.jpg  \n",
            " extracting: images/dogs/dog.89.jpg  \n",
            " extracting: images/dogs/dog.30.jpg  \n",
            " extracting: images/cats/cat.24.jpg  \n",
            " extracting: images/cats/cat.40.jpg  \n",
            " extracting: images/cats/cat.37.jpg  \n",
            " extracting: images/dogs/dog.79.jpg  \n",
            " extracting: images/cats/cat.59.jpg  \n",
            " extracting: images/cats/cat.90.jpg  \n",
            " extracting: images/dogs/dog.51.jpg  \n",
            " extracting: images/cats/cat.87.jpg  \n",
            " extracting: images/cats/cat.83.jpg  \n",
            " extracting: images/dogs/dog.19.jpg  \n",
            " extracting: images/cats/cat.77.jpg  \n",
            " extracting: images/cats/cat.196.jpg  \n",
            " extracting: images/cats/cat.115.jpg  \n",
            " extracting: images/cats/cat.195.jpg  \n",
            " extracting: images/cats/cat.136.jpg  \n",
            " extracting: images/dogs/dog.159.jpg  \n",
            " extracting: images/dogs/dog.137.jpg  \n",
            " extracting: images/cats/cat.155.jpg  \n",
            " extracting: images/cats/cat.131.jpg  \n",
            " extracting: images/dogs/dog.116.jpg  \n",
            " extracting: images/dogs/dog.187.jpg  \n",
            " extracting: images/cats/cat.148.jpg  \n",
            " extracting: images/cats/cat.190.jpg  \n",
            " extracting: images/cats/cat.170.jpg  \n",
            " extracting: images/cats/cat.113.jpg  \n",
            " extracting: images/cats/cat.193.jpg  \n",
            " extracting: images/cats/cat.138.jpg  \n",
            " extracting: images/dogs/dog.201.jpg  \n",
            " extracting: images/cats/cat.182.jpg  \n",
            " extracting: images/cats/cat.150.jpg  \n",
            " extracting: images/dogs/dog.131.jpg  \n",
            " extracting: images/dogs/dog.192.jpg  \n",
            " extracting: images/dogs/dog.182.jpg  \n",
            " extracting: images/dogs/dog.113.jpg  \n",
            " extracting: images/cats/cat.169.jpg  \n",
            " extracting: images/dogs/dog.124.jpg  \n",
            " extracting: images/dogs/dog.146.jpg  \n",
            " extracting: images/cats/cat.153.jpg  \n",
            " extracting: images/cats/cat.184.jpg  \n",
            " extracting: images/dogs/dog.112.jpg  \n",
            " extracting: images/cats/cat.175.jpg  \n",
            " extracting: images/cats/cat.141.jpg  \n",
            " extracting: images/cats/cat.108.jpg  \n",
            " extracting: images/dogs/dog.122.jpg  \n",
            " extracting: images/dogs/dog.111.jpg  \n",
            " extracting: images/cats/cat.139.jpg  \n",
            " extracting: images/cats/cat.174.jpg  \n",
            " extracting: images/dogs/dog.193.jpg  \n",
            " extracting: images/dogs/dog.128.jpg  \n",
            " extracting: images/cats/cat.120.jpg  \n",
            " extracting: images/cats/cat.149.jpg  \n",
            " extracting: images/cats/cat.151.jpg  \n",
            " extracting: images/dogs/dog.117.jpg  \n",
            " extracting: images/cats/cat.125.jpg  \n",
            " extracting: images/cats/cat.133.jpg  \n",
            " extracting: images/cats/cat.191.jpg  \n",
            " extracting: images/dogs/dog.186.jpg  \n",
            " extracting: images/dogs/dog.176.jpg  \n",
            " extracting: images/cats/cat.106.jpg  \n",
            " extracting: images/dogs/dog.125.jpg  \n",
            " extracting: images/dogs/dog.171.jpg  \n",
            " extracting: images/dogs/dog.123.jpg  \n",
            " extracting: images/dogs/dog.141.jpg  \n",
            " extracting: images/dogs/dog.183.jpg  \n",
            " extracting: images/dogs/dog.170.jpg  \n",
            " extracting: images/cats/cat.163.jpg  \n",
            " extracting: images/cats/cat.202.jpg  \n",
            " extracting: images/cats/cat.199.jpg  \n",
            " extracting: images/cats/cat.130.jpg  \n",
            " extracting: images/dogs/dog.198.jpg  \n",
            " extracting: images/cats/cat.165.jpg  \n",
            " extracting: images/cats/cat.147.jpg  \n",
            " extracting: images/cats/cat.143.jpg  \n",
            " extracting: images/dogs/dog.100.jpg  \n",
            " extracting: images/cats/cat.128.jpg  \n",
            " extracting: images/dogs/dog.148.jpg  \n",
            " extracting: images/cats/cat.107.jpg  \n",
            " extracting: images/cats/cat.132.jpg  \n",
            " extracting: images/cats/cat.154.jpg  \n",
            " extracting: images/cats/cat.124.jpg  \n",
            " extracting: images/dogs/dog.199.jpg  \n",
            " extracting: images/cats/cat.158.jpg  \n",
            " extracting: images/cats/cat.177.jpg  \n",
            " extracting: images/dogs/dog.167.jpg  \n",
            " extracting: images/dogs/dog.163.jpg  \n",
            " extracting: images/dogs/dog.140.jpg  \n",
            " extracting: images/cats/cat.101.jpg  \n",
            " extracting: images/dogs/dog.160.jpg  \n",
            " extracting: images/cats/cat.123.jpg  \n",
            " extracting: images/cats/cat.111.jpg  \n",
            " extracting: images/dogs/dog.177.jpg  \n",
            " extracting: images/cats/cat.172.jpg  \n",
            " extracting: images/cats/cat.146.jpg  \n",
            " extracting: images/dogs/dog.154.jpg  \n",
            " extracting: images/dogs/dog.129.jpg  \n",
            " extracting: images/dogs/dog.147.jpg  \n",
            " extracting: images/dogs/dog.166.jpg  \n",
            " extracting: images/cats/cat.100.jpg  \n",
            " extracting: images/cats/cat.164.jpg  \n",
            " extracting: images/dogs/dog.104.jpg  \n",
            " extracting: images/dogs/dog.138.jpg  \n",
            " extracting: images/dogs/dog.155.jpg  \n",
            " extracting: images/dogs/dog.118.jpg  \n",
            " extracting: images/cats/cat.162.jpg  \n",
            " extracting: images/cats/cat.103.jpg  \n",
            " extracting: images/cats/cat.197.jpg  \n",
            " extracting: images/dogs/dog.149.jpg  \n",
            " extracting: images/dogs/dog.134.jpg  \n",
            " extracting: images/cats/cat.135.jpg  \n",
            " extracting: images/cats/cat.142.jpg  \n",
            " extracting: images/dogs/dog.132.jpg  \n",
            " extracting: images/dogs/dog.196.jpg  \n",
            " extracting: images/dogs/dog.153.jpg  \n",
            " extracting: images/cats/cat.104.jpg  \n",
            " extracting: images/cats/cat.168.jpg  \n",
            " extracting: images/cats/cat.181.jpg  \n",
            " extracting: images/dogs/dog.185.jpg  \n",
            " extracting: images/cats/cat.110.jpg  \n",
            " extracting: images/dogs/dog.110.jpg  \n",
            " extracting: images/cats/cat.194.jpg  \n",
            " extracting: images/dogs/dog.119.jpg  \n",
            " extracting: images/cats/cat.117.jpg  \n",
            " extracting: images/dogs/dog.169.jpg  \n",
            " extracting: images/cats/cat.187.jpg  \n",
            " extracting: images/cats/cat.129.jpg  \n",
            " extracting: images/dogs/dog.135.jpg  \n",
            " extracting: images/cats/cat.188.jpg  \n",
            " extracting: images/cats/cat.122.jpg  \n",
            " extracting: images/dogs/dog.101.jpg  \n",
            " extracting: images/dogs/dog.144.jpg  \n",
            " extracting: images/dogs/dog.164.jpg  \n",
            " extracting: images/cats/cat.140.jpg  \n",
            " extracting: images/dogs/dog.105.jpg  \n",
            " extracting: images/cats/cat.179.jpg  \n",
            " extracting: images/cats/cat.152.jpg  \n",
            " extracting: images/dogs/dog.142.jpg  \n",
            " extracting: images/cats/cat.189.jpg  \n",
            " extracting: images/dogs/dog.139.jpg  \n",
            " extracting: images/cats/cat.180.jpg  \n",
            " extracting: images/dogs/dog.178.jpg  \n",
            " extracting: images/dogs/dog.107.jpg  \n",
            " extracting: images/dogs/dog.190.jpg  \n",
            " extracting: images/dogs/dog.194.jpg  \n",
            " extracting: images/dogs/dog.120.jpg  \n",
            " extracting: images/cats/cat.127.jpg  \n",
            " extracting: images/dogs/dog.143.jpg  \n",
            " extracting: images/dogs/dog.145.jpg  \n",
            " extracting: images/cats/cat.161.jpg  \n",
            " extracting: images/dogs/dog.165.jpg  \n",
            " extracting: images/dogs/dog.152.jpg  \n",
            " extracting: images/dogs/dog.202.jpg  \n",
            " extracting: images/cats/cat.105.jpg  \n",
            " extracting: images/dogs/dog.133.jpg  \n",
            " extracting: images/cats/cat.145.jpg  \n",
            " extracting: images/cats/cat.134.jpg  \n",
            " extracting: images/cats/cat.176.jpg  \n",
            " extracting: images/cats/cat.173.jpg  \n",
            " extracting: images/dogs/dog.108.jpg  \n",
            " extracting: images/cats/cat.167.jpg  \n",
            " extracting: images/cats/cat.166.jpg  \n",
            " extracting: images/dogs/dog.179.jpg  \n",
            " extracting: images/dogs/dog.102.jpg  \n",
            " extracting: images/dogs/dog.191.jpg  \n",
            " extracting: images/dogs/dog.151.jpg  \n",
            " extracting: images/dogs/dog.180.jpg  \n",
            " extracting: images/dogs/dog.106.jpg  \n",
            " extracting: images/cats/cat.186.jpg  \n",
            " extracting: images/dogs/dog.184.jpg  \n",
            " extracting: images/dogs/dog.115.jpg  \n",
            " extracting: images/cats/cat.137.jpg  \n",
            " extracting: images/dogs/dog.168.jpg  \n",
            " extracting: images/dogs/dog.150.jpg  \n",
            " extracting: images/dogs/dog.189.jpg  \n",
            " extracting: images/dogs/dog.197.jpg  \n",
            " extracting: images/dogs/dog.158.jpg  \n",
            " extracting: images/cats/cat.198.jpg  \n",
            " extracting: images/cats/cat.112.jpg  \n",
            " extracting: images/cats/cat.144.jpg  \n",
            " extracting: images/dogs/dog.157.jpg  \n",
            " extracting: images/dogs/dog.109.jpg  \n",
            " extracting: images/cats/cat.157.jpg  \n",
            " extracting: images/dogs/dog.127.jpg  \n",
            " extracting: images/dogs/dog.156.jpg  \n",
            " extracting: images/cats/cat.178.jpg  \n",
            " extracting: images/cats/cat.118.jpg  \n",
            " extracting: images/cats/cat.116.jpg  \n",
            " extracting: images/dogs/dog.172.jpg  \n",
            " extracting: images/cats/cat.200.jpg  \n",
            " extracting: images/dogs/dog.162.jpg  \n",
            " extracting: images/dogs/dog.200.jpg  \n",
            " extracting: images/dogs/dog.181.jpg  \n",
            " extracting: images/cats/cat.159.jpg  \n",
            " extracting: images/dogs/dog.188.jpg  \n",
            " extracting: images/dogs/dog.195.jpg  \n",
            " extracting: images/cats/cat.102.jpg  \n",
            " extracting: images/cats/cat.171.jpg  \n",
            " extracting: images/dogs/dog.114.jpg  \n",
            " extracting: images/cats/cat.114.jpg  \n",
            " extracting: images/cats/cat.119.jpg  \n",
            " extracting: images/dogs/dog.173.jpg  \n",
            " extracting: images/dogs/dog.136.jpg  \n",
            " extracting: images/dogs/dog.174.jpg  \n",
            " extracting: images/dogs/dog.130.jpg  \n",
            " extracting: images/cats/cat.121.jpg  \n",
            " extracting: images/cats/cat.156.jpg  \n",
            " extracting: images/cats/cat.160.jpg  \n",
            " extracting: images/dogs/dog.126.jpg  \n",
            " extracting: images/cats/cat.109.jpg  \n",
            " extracting: images/dogs/dog.161.jpg  \n",
            " extracting: images/cats/cat.201.jpg  \n",
            " extracting: images/cats/cat.126.jpg  \n",
            " extracting: images/dogs/dog.175.jpg  \n",
            " extracting: images/cats/cat.183.jpg  \n",
            " extracting: images/dogs/dog.103.jpg  \n",
            " extracting: images/dogs/dog.121.jpg  \n",
            " extracting: images/cats/cat.185.jpg  \n",
            " extracting: images/cats/cat.192.jpg  \n",
            " extracting: images/humans/rider-8.jpg  \n",
            " extracting: images/humans/rider-6.jpg  \n",
            " extracting: images/humans/rider-7.jpg  \n",
            " extracting: images/horses/horse-5.jpg  \n",
            " extracting: images/horses/horse-6.jpg  \n",
            " extracting: images/humans/rider-1.jpg  \n",
            " extracting: images/horses/horse-1.jpg  \n",
            " extracting: images/humans/rider-4.jpg  \n",
            " extracting: images/horses/horse-7.jpg  \n",
            " extracting: images/horses/horse-9.jpg  \n",
            " extracting: images/horses/horse-2.jpg  \n",
            " extracting: images/horses/horse-3.jpg  \n",
            " extracting: images/humans/rider-2.jpg  \n",
            " extracting: images/horses/horse-8.jpg  \n",
            " extracting: images/humans/rider-5.jpg  \n",
            " extracting: images/humans/rider-9.jpg  \n",
            " extracting: images/horses/horse-4.jpg  \n",
            " extracting: images/humans/rider-3.jpg  \n",
            " extracting: images/humans/rider-83.jpg  \n",
            " extracting: images/humans/rider-85.jpg  \n",
            " extracting: images/horses/horse-34.jpg  \n",
            " extracting: images/humans/rider-58.jpg  \n",
            " extracting: images/horses/horse-16.jpg  \n",
            " extracting: images/horses/horse-98.jpg  \n",
            " extracting: images/humans/rider-24.jpg  \n",
            " extracting: images/humans/rider-28.jpg  \n",
            " extracting: images/humans/rider-10.jpg  \n",
            " extracting: images/horses/horse-53.jpg  \n",
            " extracting: images/humans/rider-20.jpg  \n",
            " extracting: images/horses/horse-43.jpg  \n",
            " extracting: images/horses/horse-61.jpg  \n",
            " extracting: images/humans/rider-77.jpg  \n",
            " extracting: images/horses/horse-84.jpg  \n",
            " extracting: images/horses/horse-66.jpg  \n",
            " extracting: images/humans/rider-71.jpg  \n",
            " extracting: images/horses/horse-33.jpg  \n",
            " extracting: images/humans/rider-51.jpg  \n",
            " extracting: images/humans/rider-15.jpg  \n",
            " extracting: images/horses/horse-59.jpg  \n",
            " extracting: images/horses/horse-49.jpg  \n",
            " extracting: images/horses/horse-75.jpg  \n",
            " extracting: images/humans/rider-41.jpg  \n",
            " extracting: images/humans/rider-96.jpg  \n",
            " extracting: images/horses/horse-48.jpg  \n",
            " extracting: images/humans/rider-25.jpg  \n",
            " extracting: images/horses/horse-29.jpg  \n",
            " extracting: images/humans/rider-38.jpg  \n",
            " extracting: images/horses/horse-79.jpg  \n",
            " extracting: images/humans/rider-35.jpg  \n",
            " extracting: images/horses/horse-45.jpg  \n",
            " extracting: images/humans/rider-23.jpg  \n",
            " extracting: images/humans/rider-31.jpg  \n",
            " extracting: images/horses/horse-70.jpg  \n",
            " extracting: images/humans/rider-32.jpg  \n",
            " extracting: images/horses/horse-83.jpg  \n",
            " extracting: images/humans/rider-19.jpg  \n",
            " extracting: images/horses/horse-26.jpg  \n",
            " extracting: images/humans/rider-29.jpg  \n",
            " extracting: images/humans/rider-59.jpg  \n",
            " extracting: images/horses/horse-56.jpg  \n",
            " extracting: images/horses/horse-11.jpg  \n",
            " extracting: images/humans/rider-46.jpg  \n",
            " extracting: images/horses/horse-38.jpg  \n",
            " extracting: images/horses/horse-13.jpg  \n",
            " extracting: images/humans/rider-56.jpg  \n",
            " extracting: images/humans/rider-34.jpg  \n",
            " extracting: images/humans/rider-21.jpg  \n",
            " extracting: images/humans/rider-92.jpg  \n",
            " extracting: images/horses/horse-55.jpg  \n",
            " extracting: images/horses/horse-86.jpg  \n",
            " extracting: images/humans/rider-62.jpg  \n",
            " extracting: images/horses/horse-91.jpg  \n",
            " extracting: images/humans/rider-55.jpg  \n",
            " extracting: images/horses/horse-74.jpg  \n",
            " extracting: images/humans/rider-64.jpg  \n",
            " extracting: images/horses/horse-39.jpg  \n",
            " extracting: images/horses/horse-51.jpg  \n",
            " extracting: images/horses/horse-67.jpg  \n",
            " extracting: images/horses/horse-72.jpg  \n",
            " extracting: images/horses/horse-52.jpg  \n",
            " extracting: images/humans/rider-13.jpg  \n",
            " extracting: images/humans/rider-82.jpg  \n",
            " extracting: images/horses/horse-27.jpg  \n",
            " extracting: images/horses/horse-36.jpg  \n",
            " extracting: images/horses/horse-18.jpg  \n",
            " extracting: images/horses/horse-40.jpg  \n",
            " extracting: images/horses/horse-19.jpg  \n",
            " extracting: images/horses/horse-65.jpg  \n",
            " extracting: images/horses/horse-21.jpg  \n",
            " extracting: images/horses/horse-68.jpg  \n",
            " extracting: images/humans/rider-63.jpg  \n",
            " extracting: images/humans/rider-97.jpg  \n",
            " extracting: images/humans/rider-93.jpg  \n",
            " extracting: images/humans/rider-36.jpg  \n",
            " extracting: images/horses/horse-76.jpg  \n",
            " extracting: images/humans/rider-69.jpg  \n",
            " extracting: images/horses/horse-96.jpg  \n",
            " extracting: images/humans/rider-48.jpg  \n",
            " extracting: images/humans/rider-26.jpg  \n",
            " extracting: images/horses/horse-71.jpg  \n",
            " extracting: images/humans/rider-91.jpg  \n",
            " extracting: images/horses/horse-30.jpg  \n",
            " extracting: images/horses/horse-17.jpg  \n",
            " extracting: images/humans/rider-98.jpg  \n",
            " extracting: images/horses/horse-69.jpg  \n",
            " extracting: images/horses/horse-64.jpg  \n",
            " extracting: images/humans/rider-72.jpg  \n",
            " extracting: images/horses/horse-87.jpg  \n",
            " extracting: images/humans/rider-40.jpg  \n",
            " extracting: images/humans/rider-37.jpg  \n",
            " extracting: images/horses/horse-77.jpg  \n",
            " extracting: images/humans/rider-65.jpg  \n",
            " extracting: images/horses/horse-57.jpg  \n",
            " extracting: images/humans/rider-78.jpg  \n",
            " extracting: images/horses/horse-41.jpg  \n",
            " extracting: images/horses/horse-97.jpg  \n",
            " extracting: images/horses/horse-62.jpg  \n",
            " extracting: images/humans/rider-27.jpg  \n",
            " extracting: images/humans/rider-94.jpg  \n",
            " extracting: images/horses/horse-46.jpg  \n",
            " extracting: images/horses/horse-15.jpg  \n",
            " extracting: images/humans/rider-16.jpg  \n",
            " extracting: images/humans/rider-90.jpg  \n",
            " extracting: images/horses/horse-12.jpg  \n",
            " extracting: images/humans/rider-12.jpg  \n",
            " extracting: images/humans/rider-87.jpg  \n",
            " extracting: images/horses/horse-90.jpg  \n",
            " extracting: images/humans/rider-42.jpg  \n",
            " extracting: images/humans/rider-18.jpg  \n",
            " extracting: images/horses/horse-24.jpg  \n",
            " extracting: images/humans/rider-99.jpg  \n",
            " extracting: images/horses/horse-85.jpg  \n",
            " extracting: images/humans/rider-45.jpg  \n",
            " extracting: images/horses/horse-20.jpg  \n",
            " extracting: images/humans/rider-75.jpg  \n",
            " extracting: images/humans/rider-44.jpg  \n",
            " extracting: images/horses/horse-78.jpg  \n",
            " extracting: images/horses/horse-37.jpg  \n",
            " extracting: images/humans/rider-30.jpg  \n",
            " extracting: images/horses/horse-89.jpg  \n",
            " extracting: images/humans/rider-17.jpg  \n",
            " extracting: images/humans/rider-86.jpg  \n",
            " extracting: images/horses/horse-54.jpg  \n",
            " extracting: images/humans/rider-60.jpg  \n",
            " extracting: images/horses/horse-95.jpg  \n",
            " extracting: images/humans/rider-66.jpg  \n",
            " extracting: images/humans/rider-47.jpg  \n",
            " extracting: images/humans/rider-53.jpg  \n",
            " extracting: images/humans/rider-49.jpg  \n",
            " extracting: images/humans/rider-57.jpg  \n",
            " extracting: images/humans/rider-74.jpg  \n",
            " extracting: images/humans/rider-54.jpg  \n",
            " extracting: images/humans/rider-33.jpg  \n",
            " extracting: images/horses/horse-81.jpg  \n",
            " extracting: images/humans/rider-43.jpg  \n",
            " extracting: images/horses/horse-88.jpg  \n",
            " extracting: images/horses/horse-63.jpg  \n",
            " extracting: images/humans/rider-95.jpg  \n",
            " extracting: images/humans/rider-73.jpg  \n",
            " extracting: images/horses/horse-82.jpg  \n",
            " extracting: images/horses/horse-93.jpg  \n",
            " extracting: images/humans/rider-52.jpg  \n",
            " extracting: images/humans/rider-68.jpg  \n",
            " extracting: images/humans/rider-84.jpg  \n",
            " extracting: images/humans/rider-61.jpg  \n",
            " extracting: images/humans/rider-11.jpg  \n",
            " extracting: images/horses/horse-31.jpg  \n",
            " extracting: images/horses/horse-25.jpg  \n",
            " extracting: images/humans/rider-79.jpg  \n",
            " extracting: images/horses/horse-47.jpg  \n",
            " extracting: images/humans/rider-88.jpg  \n",
            " extracting: images/horses/horse-14.jpg  \n",
            " extracting: images/horses/horse-28.jpg  \n",
            " extracting: images/horses/horse-94.jpg  \n",
            " extracting: images/horses/horse-32.jpg  \n",
            " extracting: images/humans/rider-67.jpg  \n",
            " extracting: images/horses/horse-60.jpg  \n",
            " extracting: images/horses/horse-92.jpg  \n",
            " extracting: images/humans/rider-22.jpg  \n",
            " extracting: images/horses/horse-50.jpg  \n",
            " extracting: images/horses/horse-80.jpg  \n",
            " extracting: images/humans/rider-14.jpg  \n",
            " extracting: images/humans/rider-81.jpg  \n",
            " extracting: images/horses/horse-22.jpg  \n",
            " extracting: images/humans/rider-76.jpg  \n",
            " extracting: images/horses/horse-73.jpg  \n",
            " extracting: images/horses/horse-44.jpg  \n",
            " extracting: images/horses/horse-35.jpg  \n",
            " extracting: images/humans/rider-39.jpg  \n",
            " extracting: images/horses/horse-10.jpg  \n",
            " extracting: images/horses/horse-23.jpg  \n",
            " extracting: images/humans/rider-80.jpg  \n",
            " extracting: images/horses/horse-42.jpg  \n",
            " extracting: images/humans/rider-89.jpg  \n",
            " extracting: images/horses/horse-99.jpg  \n",
            " extracting: images/humans/rider-70.jpg  \n",
            " extracting: images/humans/rider-50.jpg  \n",
            " extracting: images/horses/horse-58.jpg  \n",
            " extracting: images/humans/rider-177.jpg  \n",
            " extracting: images/horses/horse-193.jpg  \n",
            " extracting: images/horses/horse-129.jpg  \n",
            " extracting: images/humans/rider-197.jpg  \n",
            " extracting: images/humans/rider-132.jpg  \n",
            " extracting: images/horses/horse-126.jpg  \n",
            " extracting: images/humans/rider-106.jpg  \n",
            " extracting: images/humans/rider-138.jpg  \n",
            " extracting: images/horses/horse-120.jpg  \n",
            " extracting: images/horses/horse-140.jpg  \n",
            " extracting: images/humans/rider-171.jpg  \n",
            " extracting: images/humans/rider-102.jpg  \n",
            " extracting: images/horses/horse-130.jpg  \n",
            " extracting: images/humans/rider-190.jpg  \n",
            " extracting: images/humans/rider-119.jpg  \n",
            " extracting: images/horses/horse-164.jpg  \n",
            " extracting: images/humans/rider-183.jpg  \n",
            " extracting: images/humans/rider-168.jpg  \n",
            " extracting: images/humans/rider-140.jpg  \n",
            " extracting: images/humans/rider-156.jpg  \n",
            " extracting: images/horses/horse-191.jpg  \n",
            " extracting: images/humans/rider-123.jpg  \n",
            " extracting: images/horses/horse-196.jpg  \n",
            " extracting: images/humans/rider-184.jpg  \n",
            " extracting: images/horses/horse-112.jpg  \n",
            " extracting: images/humans/rider-154.jpg  \n",
            " extracting: images/horses/horse-190.jpg  \n",
            " extracting: images/humans/rider-162.jpg  \n",
            " extracting: images/horses/horse-160.jpg  \n",
            " extracting: images/humans/rider-188.jpg  \n",
            " extracting: images/horses/horse-163.jpg  \n",
            " extracting: images/horses/horse-188.jpg  \n",
            " extracting: images/humans/rider-196.jpg  \n",
            " extracting: images/humans/rider-118.jpg  \n",
            " extracting: images/horses/horse-148.jpg  \n",
            " extracting: images/humans/rider-182.jpg  \n",
            " extracting: images/horses/horse-187.jpg  \n",
            " extracting: images/horses/horse-171.jpg  \n",
            " extracting: images/horses/horse-147.jpg  \n",
            " extracting: images/humans/rider-134.jpg  \n",
            " extracting: images/humans/rider-122.jpg  \n",
            " extracting: images/horses/horse-165.jpg  \n",
            " extracting: images/horses/horse-192.jpg  \n",
            " extracting: images/horses/horse-184.jpg  \n",
            " extracting: images/humans/rider-148.jpg  \n",
            " extracting: images/humans/rider-150.jpg  \n",
            " extracting: images/horses/horse-170.jpg  \n",
            " extracting: images/horses/horse-135.jpg  \n",
            " extracting: images/humans/rider-198.jpg  \n",
            " extracting: images/humans/rider-107.jpg  \n",
            " extracting: images/humans/rider-125.jpg  \n",
            " extracting: images/horses/horse-133.jpg  \n",
            " extracting: images/horses/horse-151.jpg  \n",
            " extracting: images/horses/horse-113.jpg  \n",
            " extracting: images/humans/rider-166.jpg  \n",
            " extracting: images/humans/rider-133.jpg  \n",
            " extracting: images/horses/horse-157.jpg  \n",
            " extracting: images/humans/rider-142.jpg  \n",
            " extracting: images/horses/horse-176.jpg  \n",
            " extracting: images/humans/rider-189.jpg  \n",
            " extracting: images/horses/horse-158.jpg  \n",
            " extracting: images/humans/rider-141.jpg  \n",
            " extracting: images/humans/rider-186.jpg  \n",
            " extracting: images/humans/rider-178.jpg  \n",
            " extracting: images/humans/rider-155.jpg  \n",
            " extracting: images/humans/rider-116.jpg  \n",
            " extracting: images/humans/rider-147.jpg  \n",
            " extracting: images/horses/horse-182.jpg  \n",
            " extracting: images/humans/rider-135.jpg  \n",
            " extracting: images/horses/horse-134.jpg  \n",
            " extracting: images/horses/horse-111.jpg  \n",
            " extracting: images/horses/horse-159.jpg  \n",
            " extracting: images/humans/rider-159.jpg  \n",
            " extracting: images/humans/rider-110.jpg  \n",
            " extracting: images/horses/horse-150.jpg  \n",
            " extracting: images/humans/rider-129.jpg  \n",
            " extracting: images/humans/rider-187.jpg  \n",
            " extracting: images/humans/rider-120.jpg  \n",
            " extracting: images/horses/horse-106.jpg  \n",
            " extracting: images/horses/horse-167.jpg  \n",
            " extracting: images/horses/horse-102.jpg  \n",
            " extracting: images/humans/rider-169.jpg  \n",
            " extracting: images/humans/rider-176.jpg  \n",
            " extracting: images/horses/horse-132.jpg  \n",
            " extracting: images/humans/rider-193.jpg  \n",
            " extracting: images/horses/horse-195.jpg  \n",
            " extracting: images/humans/rider-117.jpg  \n",
            " extracting: images/horses/horse-100.jpg  \n",
            " extracting: images/horses/horse-114.jpg  \n",
            " extracting: images/humans/rider-126.jpg  \n",
            " extracting: images/humans/rider-202.jpg  \n",
            " extracting: images/horses/horse-109.jpg  \n",
            " extracting: images/humans/rider-163.jpg  \n",
            " extracting: images/humans/rider-167.jpg  \n",
            " extracting: images/humans/rider-199.jpg  \n",
            " extracting: images/horses/horse-177.jpg  \n",
            " extracting: images/horses/horse-123.jpg  \n",
            " extracting: images/humans/rider-180.jpg  \n",
            " extracting: images/horses/horse-108.jpg  \n",
            " extracting: images/humans/rider-179.jpg  \n",
            " extracting: images/humans/rider-195.jpg  \n",
            " extracting: images/horses/horse-201.jpg  \n",
            " extracting: images/horses/horse-166.jpg  \n",
            " extracting: images/humans/rider-158.jpg  \n",
            " extracting: images/humans/rider-128.jpg  \n",
            " extracting: images/horses/horse-156.jpg  \n",
            " extracting: images/humans/rider-165.jpg  \n",
            " extracting: images/humans/rider-153.jpg  \n",
            " extracting: images/horses/horse-116.jpg  \n",
            " extracting: images/humans/rider-121.jpg  \n",
            " extracting: images/humans/rider-181.jpg  \n",
            " extracting: images/horses/horse-194.jpg  \n",
            " extracting: images/horses/horse-105.jpg  \n",
            " extracting: images/humans/rider-127.jpg  \n",
            " extracting: images/horses/horse-110.jpg  \n",
            " extracting: images/horses/horse-101.jpg  \n",
            " extracting: images/humans/rider-111.jpg  \n",
            " extracting: images/humans/rider-146.jpg  \n",
            " extracting: images/horses/horse-183.jpg  \n",
            " extracting: images/horses/horse-138.jpg  \n",
            " extracting: images/horses/horse-179.jpg  \n",
            " extracting: images/horses/horse-175.jpg  \n",
            " extracting: images/humans/rider-104.jpg  \n",
            " extracting: images/horses/horse-200.jpg  \n",
            " extracting: images/horses/horse-173.jpg  \n",
            " extracting: images/horses/horse-189.jpg  \n",
            " extracting: images/humans/rider-192.jpg  \n",
            " extracting: images/humans/rider-160.jpg  \n",
            " extracting: images/horses/horse-172.jpg  \n",
            " extracting: images/horses/horse-124.jpg  \n",
            " extracting: images/humans/rider-194.jpg  \n",
            " extracting: images/humans/rider-164.jpg  \n",
            " extracting: images/horses/horse-144.jpg  \n",
            " extracting: images/humans/rider-173.jpg  \n",
            " extracting: images/horses/horse-161.jpg  \n",
            " extracting: images/horses/horse-186.jpg  \n",
            " extracting: images/humans/rider-201.jpg  \n",
            " extracting: images/humans/rider-152.jpg  \n",
            " extracting: images/horses/horse-139.jpg  \n",
            " extracting: images/horses/horse-169.jpg  \n",
            " extracting: images/humans/rider-109.jpg  \n",
            " extracting: images/horses/horse-153.jpg  \n",
            " extracting: images/humans/rider-149.jpg  \n",
            " extracting: images/horses/horse-155.jpg  \n",
            " extracting: images/horses/horse-142.jpg  \n",
            " extracting: images/horses/horse-146.jpg  \n",
            " extracting: images/horses/horse-125.jpg  \n",
            " extracting: images/horses/horse-145.jpg  \n",
            " extracting: images/horses/horse-152.jpg  \n",
            " extracting: images/horses/horse-162.jpg  \n",
            " extracting: images/humans/rider-100.jpg  \n",
            " extracting: images/humans/rider-172.jpg  \n",
            " extracting: images/horses/horse-174.jpg  \n",
            " extracting: images/horses/horse-103.jpg  \n",
            " extracting: images/horses/horse-198.jpg  \n",
            " extracting: images/humans/rider-114.jpg  \n",
            " extracting: images/humans/rider-143.jpg  \n",
            " extracting: images/horses/horse-202.jpg  \n",
            " extracting: images/horses/horse-104.jpg  \n",
            " extracting: images/horses/horse-122.jpg  \n",
            " extracting: images/humans/rider-112.jpg  \n",
            " extracting: images/humans/rider-130.jpg  \n",
            " extracting: images/humans/rider-108.jpg  \n",
            " extracting: images/horses/horse-143.jpg  \n",
            " extracting: images/horses/horse-180.jpg  \n",
            " extracting: images/horses/horse-115.jpg  \n",
            " extracting: images/humans/rider-136.jpg  \n",
            " extracting: images/horses/horse-107.jpg  \n",
            " extracting: images/humans/rider-139.jpg  \n",
            " extracting: images/humans/rider-161.jpg  \n",
            " extracting: images/horses/horse-128.jpg  \n",
            " extracting: images/horses/horse-119.jpg  \n",
            " extracting: images/humans/rider-191.jpg  \n",
            " extracting: images/humans/rider-185.jpg  \n",
            " extracting: images/horses/horse-154.jpg  \n",
            " extracting: images/humans/rider-115.jpg  \n",
            " extracting: images/humans/rider-170.jpg  \n",
            " extracting: images/horses/horse-131.jpg  \n",
            " extracting: images/humans/rider-131.jpg  \n",
            " extracting: images/horses/horse-185.jpg  \n",
            " extracting: images/horses/horse-137.jpg  \n",
            " extracting: images/humans/rider-145.jpg  \n",
            " extracting: images/horses/horse-127.jpg  \n",
            " extracting: images/humans/rider-105.jpg  \n",
            " extracting: images/humans/rider-101.jpg  \n",
            " extracting: images/humans/rider-200.jpg  \n",
            " extracting: images/horses/horse-168.jpg  \n",
            " extracting: images/horses/horse-117.jpg  \n",
            " extracting: images/humans/rider-113.jpg  \n",
            " extracting: images/horses/horse-199.jpg  \n",
            " extracting: images/horses/horse-136.jpg  \n",
            " extracting: images/humans/rider-103.jpg  \n",
            " extracting: images/humans/rider-175.jpg  \n",
            " extracting: images/horses/horse-178.jpg  \n",
            " extracting: images/horses/horse-121.jpg  \n",
            " extracting: images/horses/horse-141.jpg  \n",
            " extracting: images/horses/horse-197.jpg  \n",
            " extracting: images/humans/rider-124.jpg  \n",
            " extracting: images/humans/rider-151.jpg  \n",
            " extracting: images/horses/horse-118.jpg  \n",
            " extracting: images/humans/rider-174.jpg  \n",
            " extracting: images/humans/rider-144.jpg  \n",
            " extracting: images/humans/rider-137.jpg  \n",
            " extracting: images/horses/horse-149.jpg  \n",
            " extracting: images/humans/rider-157.jpg  \n",
            " extracting: images/horses/horse-181.jpg  \n",
            "\n",
            "1 archive had fatal errors.\n"
          ],
          "name": "stdout"
        }
      ]
    },
    {
      "cell_type": "code",
      "metadata": {
        "id": "5LcEu3vStg-a"
      },
      "source": [
        "import os, shutil\n",
        "import matplotlib.pyplot as plt\n",
        "import numpy as np"
      ],
      "execution_count": 1,
      "outputs": []
    },
    {
      "cell_type": "code",
      "metadata": {
        "id": "zhsBvJift5fc"
      },
      "source": [
        "if not os.path.isdir(\"val_images\"):\n",
        "    os.mkdir(\"val_images\")"
      ],
      "execution_count": 3,
      "outputs": []
    },
    {
      "cell_type": "code",
      "metadata": {
        "id": "HzihWRW2ukHu"
      },
      "source": [
        "classes = ['cats', 'dogs', 'horses', 'humans']"
      ],
      "execution_count": 5,
      "outputs": []
    },
    {
      "cell_type": "code",
      "metadata": {
        "id": "7nsMMuPaut68"
      },
      "source": [
        "for c in classes:\n",
        "    if not os.path.isdir(\"val_images/\"+ c):\n",
        "        os.mkdir(\"val_images/\"+ c)"
      ],
      "execution_count": 6,
      "outputs": []
    },
    {
      "cell_type": "code",
      "metadata": {
        "colab": {
          "base_uri": "https://localhost:8080/"
        },
        "id": "HsA7jaFNu0zm",
        "outputId": "0cdb0d87-8c1b-4c4a-c6cf-413b8e2ea791"
      },
      "source": [
        "SPLIT = 0.9\n",
        "\n",
        "for dirc in os.listdir(\"images\"):\n",
        "\n",
        "    p = \"images/\" + dirc\n",
        "    if \".\" in p:\n",
        "        continue\n",
        "    imgs = os.listdir(p)\n",
        "    split_size = int(len(imgs)*SPLIT)\n",
        "    files_to_move = imgs[split_size:]\n",
        "    print(files_to_move)\n",
        "\n",
        "    for f in files_to_move:\n",
        "        src =  os.path.join(p, f)\n",
        "        dest = os.path.join(\"val_images/\", dirc)\n",
        "\n",
        "        shutil.move(src, dest)"
      ],
      "execution_count": 7,
      "outputs": [
        {
          "output_type": "stream",
          "text": [
            "['rider-201.jpg', 'rider-86.jpg', 'rider-123.jpg', 'rider-36.jpg', 'rider-101.jpg', 'rider-178.jpg', 'rider-147.jpg', 'rider-74.jpg', 'rider-33.jpg', 'rider-174.jpg', 'rider-172.jpg', 'rider-29.jpg', 'rider-6.jpg', 'rider-179.jpg', 'rider-170.jpg', 'rider-72.jpg', 'rider-105.jpg', 'rider-34.jpg', 'rider-150.jpg', 'rider-9.jpg', 'rider-42.jpg']\n",
            "['dog.114.jpg', 'dog.151.jpg', 'dog.168.jpg', 'dog.140.jpg', 'dog.133.jpg', 'dog.117.jpg', 'dog.141.jpg', 'dog.130.jpg', 'dog.110.jpg', 'dog.44.jpg', 'dog.71.jpg', 'dog.148.jpg', 'dog.192.jpg', 'dog.92.jpg', 'dog.184.jpg', 'dog.43.jpg', 'dog.45.jpg', 'dog.181.jpg', 'dog.10.jpg', 'dog.113.jpg', 'dog.137.jpg']\n",
            "['cat.47.jpg', 'cat.125.jpg', 'cat.87.jpg', 'cat.131.jpg', 'cat.65.jpg', 'cat.74.jpg', 'cat.58.jpg', 'cat.159.jpg', 'cat.2.jpg', 'cat.156.jpg', 'cat.153.jpg', 'cat.24.jpg', 'cat.119.jpg', 'cat.188.jpg', 'cat.133.jpg', 'cat.141.jpg', 'cat.194.jpg', 'cat.92.jpg', 'cat.77.jpg', 'cat.162.jpg', 'cat.23.jpg']\n",
            "['horse-136.jpg', 'horse-4.jpg', 'horse-184.jpg', 'horse-24.jpg', 'horse-55.jpg', 'horse-158.jpg', 'horse-111.jpg', 'horse-115.jpg', 'horse-48.jpg', 'horse-69.jpg', 'horse-26.jpg', 'horse-60.jpg', 'horse-47.jpg', 'horse-73.jpg', 'horse-96.jpg', 'horse-110.jpg', 'horse-18.jpg', 'horse-128.jpg', 'horse-188.jpg', 'horse-32.jpg', 'horse-134.jpg']\n"
          ],
          "name": "stdout"
        }
      ]
    },
    {
      "cell_type": "code",
      "metadata": {
        "colab": {
          "base_uri": "https://localhost:8080/"
        },
        "id": "RgetxE4TvrLt",
        "outputId": "c3456f3c-a2fe-4fc9-bf4e-2ee2d753bf59"
      },
      "source": [
        "for dirc in os.listdir(\"images/\"):\n",
        "    p = \"images/\" + dirc\n",
        "    if \".\" in p:\n",
        "        continue\n",
        "    img = os.listdir(p)\n",
        "    print(dirc, len(img))"
      ],
      "execution_count": 8,
      "outputs": [
        {
          "output_type": "stream",
          "text": [
            "humans 181\n",
            "dogs 181\n",
            "cats 181\n",
            "horses 181\n"
          ],
          "name": "stdout"
        }
      ]
    },
    {
      "cell_type": "code",
      "metadata": {
        "colab": {
          "base_uri": "https://localhost:8080/"
        },
        "id": "7O_BFiycv5Fa",
        "outputId": "63ed82d9-d155-44c6-94bc-973f542fa6a4"
      },
      "source": [
        "for dirc in os.listdir(\"val_images/\"):\n",
        "    p = \"val_images/\" + dirc\n",
        "    if \".\" in p:\n",
        "        continue\n",
        "    img = os.listdir(p)\n",
        "    print(dirc, len(img))"
      ],
      "execution_count": 9,
      "outputs": [
        {
          "output_type": "stream",
          "text": [
            "humans 21\n",
            "dogs 21\n",
            "cats 21\n",
            "horses 21\n"
          ],
          "name": "stdout"
        }
      ]
    },
    {
      "cell_type": "markdown",
      "metadata": {
        "id": "HwFs-67iwFQE"
      },
      "source": [
        "# CNN MODEL"
      ]
    },
    {
      "cell_type": "code",
      "metadata": {
        "id": "gRSBuYCWv9Hu"
      },
      "source": [
        "from keras.models import Sequential\n",
        "from keras.layers import Dense, Conv2D, MaxPool2D, Flatten, Dropout"
      ],
      "execution_count": 10,
      "outputs": []
    },
    {
      "cell_type": "code",
      "metadata": {
        "id": "TpTl_QO-wOry"
      },
      "source": [
        "model = Sequential()\n",
        "model.add( Conv2D(filters=32,kernel_size=(3,3), strides=(1,1), activation='relu', input_shape= (50,50,3)) )\n",
        "model.add( MaxPool2D(pool_size=(2,2), strides=(2,2)) )\n",
        "\n",
        "model.add( Conv2D(filters=64,kernel_size=(3,3),activation='relu' ) )\n",
        "model.add( MaxPool2D(pool_size=(2,2), strides=(2,2)) )\n",
        "\n",
        "# model.add( Conv2D(filters=128,kernel_size=(3,3),activation='relu' ) )\n",
        "model.add( MaxPool2D(pool_size=(2,2), strides=(2,2)) )\n",
        "\n",
        "\n",
        "model.add( Flatten() )\n",
        "model.add( Dense(units = 100, activation='relu') )\n",
        "model.add( Dropout(0.3) )\n",
        "model.add( Dense(units = 4, activation='softmax' ) )"
      ],
      "execution_count": 11,
      "outputs": []
    },
    {
      "cell_type": "code",
      "metadata": {
        "colab": {
          "base_uri": "https://localhost:8080/"
        },
        "id": "GwLoLtrJwQW4",
        "outputId": "92133803-8677-42c4-f91b-84dd36bf458f"
      },
      "source": [
        "model.summary()"
      ],
      "execution_count": 12,
      "outputs": [
        {
          "output_type": "stream",
          "text": [
            "Model: \"sequential\"\n",
            "_________________________________________________________________\n",
            "Layer (type)                 Output Shape              Param #   \n",
            "=================================================================\n",
            "conv2d (Conv2D)              (None, 48, 48, 32)        896       \n",
            "_________________________________________________________________\n",
            "max_pooling2d (MaxPooling2D) (None, 24, 24, 32)        0         \n",
            "_________________________________________________________________\n",
            "conv2d_1 (Conv2D)            (None, 22, 22, 64)        18496     \n",
            "_________________________________________________________________\n",
            "max_pooling2d_1 (MaxPooling2 (None, 11, 11, 64)        0         \n",
            "_________________________________________________________________\n",
            "max_pooling2d_2 (MaxPooling2 (None, 5, 5, 64)          0         \n",
            "_________________________________________________________________\n",
            "flatten (Flatten)            (None, 1600)              0         \n",
            "_________________________________________________________________\n",
            "dense (Dense)                (None, 100)               160100    \n",
            "_________________________________________________________________\n",
            "dropout (Dropout)            (None, 100)               0         \n",
            "_________________________________________________________________\n",
            "dense_1 (Dense)              (None, 4)                 404       \n",
            "=================================================================\n",
            "Total params: 179,896\n",
            "Trainable params: 179,896\n",
            "Non-trainable params: 0\n",
            "_________________________________________________________________\n"
          ],
          "name": "stdout"
        }
      ]
    },
    {
      "cell_type": "code",
      "metadata": {
        "id": "gvDcNcxmwSMV"
      },
      "source": [
        "model.compile(loss=\"categorical_crossentropy\", optimizer='adam', metrics=['acc'])"
      ],
      "execution_count": 13,
      "outputs": []
    },
    {
      "cell_type": "markdown",
      "metadata": {
        "id": "HUPsgQRYwkYb"
      },
      "source": [
        "# Image Augmentation"
      ]
    },
    {
      "cell_type": "code",
      "metadata": {
        "id": "FXaFLUafwXxy"
      },
      "source": [
        "from keras.preprocessing import image"
      ],
      "execution_count": 14,
      "outputs": []
    },
    {
      "cell_type": "code",
      "metadata": {
        "id": "47iK1N9RwZFr"
      },
      "source": [
        "train_datagen = image.ImageDataGenerator(rotation_range=20, \n",
        "                         width_shift_range=0.2,\n",
        "                         height_shift_range=0.2,\n",
        "                         shear_range=0.2,\n",
        "                         zoom_range=0.3,\n",
        "                         horizontal_flip=True,\n",
        "                        rescale=1/255.)"
      ],
      "execution_count": 15,
      "outputs": []
    },
    {
      "cell_type": "code",
      "metadata": {
        "id": "zZmSmnf2wY1_"
      },
      "source": [
        "val_datagen = image.ImageDataGenerator(rescale=1/255.)"
      ],
      "execution_count": 16,
      "outputs": []
    },
    {
      "cell_type": "code",
      "metadata": {
        "colab": {
          "base_uri": "https://localhost:8080/"
        },
        "id": "Q_rFJ1mowYqX",
        "outputId": "d4a970fa-ae12-4577-bfaa-a92f267ef4bd"
      },
      "source": [
        "train_generator = train_datagen.flow_from_directory(directory='./images', target_size=(50,50))"
      ],
      "execution_count": 17,
      "outputs": [
        {
          "output_type": "stream",
          "text": [
            "Found 724 images belonging to 4 classes.\n"
          ],
          "name": "stdout"
        }
      ]
    },
    {
      "cell_type": "code",
      "metadata": {
        "colab": {
          "base_uri": "https://localhost:8080/"
        },
        "id": "quGiZi6dwYfc",
        "outputId": "ef3a3868-fd44-411d-ecf4-70d1560d5315"
      },
      "source": [
        "train_generator.class_indices"
      ],
      "execution_count": 18,
      "outputs": [
        {
          "output_type": "execute_result",
          "data": {
            "text/plain": [
              "{'cats': 0, 'dogs': 1, 'horses': 2, 'humans': 3}"
            ]
          },
          "metadata": {
            "tags": []
          },
          "execution_count": 18
        }
      ]
    },
    {
      "cell_type": "code",
      "metadata": {
        "colab": {
          "base_uri": "https://localhost:8080/",
          "height": 319
        },
        "id": "irnLKlPByfGy",
        "outputId": "aa2e7e75-e4f1-4437-98e5-6c577c9f0763"
      },
      "source": [
        "for X, y in train_generator:\n",
        "  print(X.shape)\n",
        "  print(y.shape)\n",
        "  plt.imshow(X[0])\n",
        "  print(y[0])\n",
        "  break"
      ],
      "execution_count": 28,
      "outputs": [
        {
          "output_type": "stream",
          "text": [
            "(32, 50, 50, 3)\n",
            "(32, 4)\n",
            "[0. 0. 0. 1.]\n"
          ],
          "name": "stdout"
        },
        {
          "output_type": "display_data",
          "data": {
            "image/png": "[encoded data removed]",
            "text/plain": [
              "<Figure size 432x288 with 1 Axes>"
            ]
          },
          "metadata": {
            "tags": [],
            "needs_background": "light"
          }
        }
      ]
    },
    {
      "cell_type": "code",
      "metadata": {
        "colab": {
          "base_uri": "https://localhost:8080/"
        },
        "id": "dkn_ZwsRyuNk",
        "outputId": "a7382143-b335-4ce9-a11c-65e347248f68"
      },
      "source": [
        "val_generator = val_datagen.flow_from_directory(directory='./val_images', target_size=(50,50))"
      ],
      "execution_count": 29,
      "outputs": [
        {
          "output_type": "stream",
          "text": [
            "Found 84 images belonging to 4 classes.\n"
          ],
          "name": "stdout"
        }
      ]
    },
    {
      "cell_type": "markdown",
      "metadata": {
        "id": "_PhQWTf40R_I"
      },
      "source": [
        "## Model Training"
      ]
    },
    {
      "cell_type": "code",
      "metadata": {
        "colab": {
          "base_uri": "https://localhost:8080/"
        },
        "id": "5-fCOOTGy1Zw",
        "outputId": "ad4eacc4-2c74-4800-9f89-c74cd7595006"
      },
      "source": [
        "his = model.fit_generator(train_generator, \n",
        "                          steps_per_epoch=724//32,\n",
        "                          epochs=20, \n",
        "                          validation_data=val_generator,\n",
        "                          validation_steps=81//32)"
      ],
      "execution_count": 31,
      "outputs": [
        {
          "output_type": "stream",
          "text": [
            "/usr/local/lib/python3.6/dist-packages/tensorflow/python/keras/engine/training.py:1844: UserWarning: `Model.fit_generator` is deprecated and will be removed in a future version. Please use `Model.fit`, which supports generators.\n",
            "  warnings.warn('`Model.fit_generator` is deprecated and '\n"
          ],
          "name": "stderr"
        },
        {
          "output_type": "stream",
          "text": [
            "Epoch 1/20\n",
            "22/22 [==============================] - 4s 191ms/step - loss: 0.8765 - acc: 0.6445 - val_loss: 0.8199 - val_acc: 0.6875\n",
            "Epoch 2/20\n",
            "22/22 [==============================] - 4s 182ms/step - loss: 0.9168 - acc: 0.5954 - val_loss: 0.8641 - val_acc: 0.6250\n",
            "Epoch 3/20\n",
            "22/22 [==============================] - 4s 186ms/step - loss: 0.8546 - acc: 0.6272 - val_loss: 0.8267 - val_acc: 0.7188\n",
            "Epoch 4/20\n",
            "22/22 [==============================] - 4s 180ms/step - loss: 0.9090 - acc: 0.6023 - val_loss: 0.7960 - val_acc: 0.6562\n",
            "Epoch 5/20\n",
            "22/22 [==============================] - 4s 183ms/step - loss: 0.8963 - acc: 0.6402 - val_loss: 0.8520 - val_acc: 0.6562\n",
            "Epoch 6/20\n",
            "22/22 [==============================] - 4s 181ms/step - loss: 0.8238 - acc: 0.6460 - val_loss: 0.9837 - val_acc: 0.6406\n",
            "Epoch 7/20\n",
            "22/22 [==============================] - 4s 181ms/step - loss: 0.8566 - acc: 0.6373 - val_loss: 0.9522 - val_acc: 0.5938\n",
            "Epoch 8/20\n",
            "22/22 [==============================] - 4s 182ms/step - loss: 0.8313 - acc: 0.6662 - val_loss: 0.7094 - val_acc: 0.7500\n",
            "Epoch 9/20\n",
            "22/22 [==============================] - 4s 181ms/step - loss: 0.8102 - acc: 0.6604 - val_loss: 1.0425 - val_acc: 0.6250\n",
            "Epoch 10/20\n",
            "22/22 [==============================] - 4s 183ms/step - loss: 0.7935 - acc: 0.6806 - val_loss: 0.9001 - val_acc: 0.6094\n",
            "Epoch 11/20\n",
            "22/22 [==============================] - 4s 182ms/step - loss: 0.7912 - acc: 0.6546 - val_loss: 0.8808 - val_acc: 0.6406\n",
            "Epoch 12/20\n",
            "22/22 [==============================] - 4s 178ms/step - loss: 0.7845 - acc: 0.6691 - val_loss: 0.8529 - val_acc: 0.6875\n",
            "Epoch 13/20\n",
            "22/22 [==============================] - 4s 180ms/step - loss: 0.8059 - acc: 0.6691 - val_loss: 0.9745 - val_acc: 0.6250\n",
            "Epoch 14/20\n",
            "22/22 [==============================] - 4s 183ms/step - loss: 0.7306 - acc: 0.6893 - val_loss: 0.8011 - val_acc: 0.6875\n",
            "Epoch 15/20\n",
            "22/22 [==============================] - 4s 180ms/step - loss: 0.7692 - acc: 0.6676 - val_loss: 0.9369 - val_acc: 0.6094\n",
            "Epoch 16/20\n",
            "22/22 [==============================] - 4s 180ms/step - loss: 0.7544 - acc: 0.6936 - val_loss: 0.6957 - val_acc: 0.7031\n",
            "Epoch 17/20\n",
            "22/22 [==============================] - 4s 181ms/step - loss: 0.7291 - acc: 0.6821 - val_loss: 1.0866 - val_acc: 0.5938\n",
            "Epoch 18/20\n",
            "22/22 [==============================] - 4s 180ms/step - loss: 0.7971 - acc: 0.6705 - val_loss: 0.8186 - val_acc: 0.6406\n",
            "Epoch 19/20\n",
            "22/22 [==============================] - 4s 181ms/step - loss: 0.7682 - acc: 0.6864 - val_loss: 1.0137 - val_acc: 0.5938\n",
            "Epoch 20/20\n",
            "22/22 [==============================] - 4s 179ms/step - loss: 0.7253 - acc: 0.7095 - val_loss: 0.8410 - val_acc: 0.7500\n"
          ],
          "name": "stdout"
        }
      ]
    },
    {
      "cell_type": "code",
      "metadata": {
        "id": "ls4GjnRw1KWE"
      },
      "source": [
        "# model.save(\"my_best_model.h5\")\n",
        "\n",
        "\n",
        "# from keras.models import load_model\n",
        "# my_new_model = load_model(\"my_best_model.h5\")"
      ],
      "execution_count": 32,
      "outputs": []
    },
    {
      "cell_type": "code",
      "metadata": {
        "colab": {
          "base_uri": "https://localhost:8080/"
        },
        "id": "PriAmoze2OqY",
        "outputId": "2fcfe11e-ea89-4b70-95a7-6e2a52412407"
      },
      "source": [
        "model.evaluate_generator(train_generator)"
      ],
      "execution_count": 33,
      "outputs": [
        {
          "output_type": "stream",
          "text": [
            "/usr/local/lib/python3.6/dist-packages/tensorflow/python/keras/engine/training.py:1877: UserWarning: `Model.evaluate_generator` is deprecated and will be removed in a future version. Please use `Model.evaluate`, which supports generators.\n",
            "  warnings.warn('`Model.evaluate_generator` is deprecated and '\n"
          ],
          "name": "stderr"
        },
        {
          "output_type": "execute_result",
          "data": {
            "text/plain": [
              "[0.6737536191940308, 0.7223756909370422]"
            ]
          },
          "metadata": {
            "tags": []
          },
          "execution_count": 33
        }
      ]
    },
    {
      "cell_type": "code",
      "metadata": {
        "colab": {
          "base_uri": "https://localhost:8080/"
        },
        "id": "fBCEdCcs2bc6",
        "outputId": "159104c1-0a50-4b6f-d6d4-de6608ddafb1"
      },
      "source": [
        "model.evaluate_generator(val_generator)"
      ],
      "execution_count": 34,
      "outputs": [
        {
          "output_type": "stream",
          "text": [
            "/usr/local/lib/python3.6/dist-packages/tensorflow/python/keras/engine/training.py:1877: UserWarning: `Model.evaluate_generator` is deprecated and will be removed in a future version. Please use `Model.evaluate`, which supports generators.\n",
            "  warnings.warn('`Model.evaluate_generator` is deprecated and '\n"
          ],
          "name": "stderr"
        },
        {
          "output_type": "execute_result",
          "data": {
            "text/plain": [
              "[0.8989960551261902, 0.6904761791229248]"
            ]
          },
          "metadata": {
            "tags": []
          },
          "execution_count": 34
        }
      ]
    },
    {
      "cell_type": "code",
      "metadata": {
        "id": "YJa_hiGH2h5g"
      },
      "source": [
        ""
      ],
      "execution_count": null,
      "outputs": []
    }
  ]
}