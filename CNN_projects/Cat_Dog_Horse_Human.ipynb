{
  "nbformat": 4,
  "nbformat_minor": 0,
  "metadata": {
    "colab": {
      "name": "Cat_Dog_Horse_Human",
      "provenance": []
    },
    "kernelspec": {
      "name": "python3",
      "display_name": "Python 3"
    },
    "accelerator": "GPU"
  },
  "cells": [
    {
      "cell_type": "code",
      "metadata": {
        "colab": {
          "base_uri": "https://localhost:8080/"
        },
        "id": "TD8M5VM_1iEl",
        "outputId": "e3a6618f-72a9-41be-b669-75a8c7e327ea"
      },
      "source": [
        "!wget \"https://www.dropbox.com/sh/3st0m56ysutsr90/AAB-193KAr7qhFrwbwBENjPNa?dl=0\""
      ],
      "execution_count": null,
      "outputs": [
        {
          "output_type": "stream",
          "text": [
            "--2021-01-24 14:40:58--  https://www.dropbox.com/sh/3st0m56ysutsr90/AAB-193KAr7qhFrwbwBENjPNa?dl=0\n",
            "Resolving www.dropbox.com (www.dropbox.com)... 162.125.1.18, 2620:100:6016:18::a27d:112\n",
            "Connecting to www.dropbox.com (www.dropbox.com)|162.125.1.18|:443... connected.\n",
            "HTTP request sent, awaiting response... 301 Moved Permanently\n",
            "Location: /sh/raw/3st0m56ysutsr90/AAB-193KAr7qhFrwbwBENjPNa [following]\n",
            "--2021-01-24 14:40:59--  https://www.dropbox.com/sh/raw/3st0m56ysutsr90/AAB-193KAr7qhFrwbwBENjPNa\n",
            "Reusing existing connection to www.dropbox.com:443.\n",
            "HTTP request sent, awaiting response... 302 Found\n",
            "Location: https://uc438ea6d618e2b58fe8bdae2d75.dl.dropboxusercontent.com/zip_download_get/ArCwrWl_TztXoVeD0rWpSlJ0PC1mjbTaa5Dk-sAn7Ifq8o0Wxdq7Vsin_MNOwxgfjDqWTr-deaveG1sGVm6sEmVtZ8dE9GNbJDpIFOF_b7687g [following]\n",
            "--2021-01-24 14:40:59--  https://uc438ea6d618e2b58fe8bdae2d75.dl.dropboxusercontent.com/zip_download_get/ArCwrWl_TztXoVeD0rWpSlJ0PC1mjbTaa5Dk-sAn7Ifq8o0Wxdq7Vsin_MNOwxgfjDqWTr-deaveG1sGVm6sEmVtZ8dE9GNbJDpIFOF_b7687g\n",
            "Resolving uc438ea6d618e2b58fe8bdae2d75.dl.dropboxusercontent.com (uc438ea6d618e2b58fe8bdae2d75.dl.dropboxusercontent.com)... 162.125.1.15, 2620:100:6016:15::a27d:10f\n",
            "Connecting to uc438ea6d618e2b58fe8bdae2d75.dl.dropboxusercontent.com (uc438ea6d618e2b58fe8bdae2d75.dl.dropboxusercontent.com)|162.125.1.15|:443... connected.\n",
            "HTTP request sent, awaiting response... 200 OK\n",
            "Length: 20859450 (20M) [application/zip]\n",
            "Saving to: ‘AAB-193KAr7qhFrwbwBENjPNa?dl=0’\n",
            "\n",
            "AAB-193KAr7qhFrwbwB 100%[===================>]  19.89M   341KB/s    in 71s     \n",
            "\n",
            "2021-01-24 14:42:10 (289 KB/s) - ‘AAB-193KAr7qhFrwbwBENjPNa?dl=0’ saved [20859450/20859450]\n",
            "\n"
          ],
          "name": "stdout"
        }
      ]
    },
    {
      "cell_type": "code",
      "metadata": {
        "colab": {
          "base_uri": "https://localhost:8080/"
        },
        "id": "ieIb7hhl10Hg",
        "outputId": "ba0cf46b-af92-4de6-c781-352c989a7de1"
      },
      "source": [
        "!unzip AAB-193KAr7qhFrwbwBENjPNa?dl=0 -d images/"
      ],
      "execution_count": null,
      "outputs": [
        {
          "output_type": "stream",
          "text": [
            "Archive:  AAB-193KAr7qhFrwbwBENjPNa?dl=0\n",
            "warning:  stripped absolute path spec from /\n",
            "mapname:  conversion of  failed\n",
            "   creating: images/cats/\n",
            "   creating: images/dogs/\n",
            "   creating: images/humans/\n",
            "   creating: images/horses/\n",
            " extracting: images/dogs/dog.3.jpg   \n",
            " extracting: images/cats/cat.3.jpg   \n",
            " extracting: images/dogs/dog.9.jpg   \n",
            " extracting: images/cats/cat.6.jpg   \n",
            " extracting: images/dogs/dog.4.jpg   \n",
            " extracting: images/cats/cat.8.jpg   \n",
            " extracting: images/dogs/dog.5.jpg   \n",
            " extracting: images/cats/cat.7.jpg   \n",
            " extracting: images/dogs/dog.2.jpg   \n",
            " extracting: images/dogs/dog.8.jpg   \n",
            " extracting: images/cats/cat.5.jpg   \n",
            " extracting: images/dogs/dog.7.jpg   \n",
            " extracting: images/cats/cat.2.jpg   \n",
            " extracting: images/dogs/dog.1.jpg   \n",
            " extracting: images/cats/cat.4.jpg   \n",
            " extracting: images/cats/cat.1.jpg   \n",
            " extracting: images/dogs/dog.6.jpg   \n",
            " extracting: images/cats/cat.9.jpg   \n",
            " extracting: images/dogs/dog.57.jpg  \n",
            " extracting: images/cats/cat.15.jpg  \n",
            " extracting: images/dogs/dog.76.jpg  \n",
            " extracting: images/cats/cat.22.jpg  \n",
            " extracting: images/cats/cat.12.jpg  \n",
            " extracting: images/cats/cat.70.jpg  \n",
            " extracting: images/dogs/dog.80.jpg  \n",
            " extracting: images/dogs/dog.69.jpg  \n",
            " extracting: images/cats/cat.31.jpg  \n",
            " extracting: images/dogs/dog.62.jpg  \n",
            " extracting: images/dogs/dog.54.jpg  \n",
            " extracting: images/dogs/dog.97.jpg  \n",
            " extracting: images/cats/cat.86.jpg  \n",
            " extracting: images/cats/cat.63.jpg  \n",
            " extracting: images/dogs/dog.88.jpg  \n",
            " extracting: images/dogs/dog.58.jpg  \n",
            " extracting: images/cats/cat.74.jpg  \n",
            " extracting: images/dogs/dog.24.jpg  \n",
            " extracting: images/cats/cat.76.jpg  \n",
            " extracting: images/dogs/dog.61.jpg  \n",
            " extracting: images/dogs/dog.41.jpg  \n",
            " extracting: images/dogs/dog.12.jpg  \n",
            " extracting: images/cats/cat.53.jpg  \n",
            " extracting: images/dogs/dog.82.jpg  \n",
            " extracting: images/dogs/dog.31.jpg  \n",
            " extracting: images/dogs/dog.86.jpg  \n",
            " extracting: images/dogs/dog.18.jpg  \n",
            " extracting: images/cats/cat.18.jpg  \n",
            " extracting: images/cats/cat.43.jpg  \n",
            " extracting: images/dogs/dog.70.jpg  \n",
            " extracting: images/dogs/dog.38.jpg  \n",
            " extracting: images/dogs/dog.60.jpg  \n",
            " extracting: images/dogs/dog.29.jpg  \n",
            " extracting: images/cats/cat.91.jpg  \n",
            " extracting: images/dogs/dog.14.jpg  \n",
            " extracting: images/cats/cat.79.jpg  \n",
            " extracting: images/dogs/dog.59.jpg  \n",
            " extracting: images/dogs/dog.77.jpg  \n",
            " extracting: images/cats/cat.36.jpg  \n",
            " extracting: images/cats/cat.13.jpg  \n",
            " extracting: images/cats/cat.21.jpg  \n",
            " extracting: images/dogs/dog.22.jpg  \n",
            " extracting: images/dogs/dog.45.jpg  \n",
            " extracting: images/dogs/dog.32.jpg  \n",
            " extracting: images/dogs/dog.92.jpg  \n",
            " extracting: images/dogs/dog.87.jpg  \n",
            " extracting: images/cats/cat.23.jpg  \n",
            " extracting: images/cats/cat.95.jpg  \n",
            " extracting: images/dogs/dog.93.jpg  \n",
            " extracting: images/dogs/dog.96.jpg  \n",
            " extracting: images/dogs/dog.65.jpg  \n",
            " extracting: images/cats/cat.73.jpg  \n",
            " extracting: images/dogs/dog.25.jpg  \n",
            " extracting: images/dogs/dog.48.jpg  \n",
            " extracting: images/cats/cat.47.jpg  \n",
            " extracting: images/cats/cat.69.jpg  \n",
            " extracting: images/cats/cat.68.jpg  \n",
            " extracting: images/cats/cat.54.jpg  \n",
            " extracting: images/cats/cat.19.jpg  \n",
            " extracting: images/dogs/dog.13.jpg  \n",
            " extracting: images/cats/cat.20.jpg  \n",
            " extracting: images/dogs/dog.71.jpg  \n",
            " extracting: images/dogs/dog.15.jpg  \n",
            " extracting: images/dogs/dog.39.jpg  \n",
            " extracting: images/dogs/dog.64.jpg  \n",
            " extracting: images/dogs/dog.83.jpg  \n",
            " extracting: images/cats/cat.84.jpg  \n",
            " extracting: images/cats/cat.45.jpg  \n",
            " extracting: images/dogs/dog.53.jpg  \n",
            " extracting: images/cats/cat.85.jpg  \n",
            " extracting: images/cats/cat.60.jpg  \n",
            " extracting: images/cats/cat.42.jpg  \n",
            " extracting: images/cats/cat.41.jpg  \n",
            " extracting: images/cats/cat.30.jpg  \n",
            " extracting: images/cats/cat.27.jpg  \n",
            " extracting: images/cats/cat.55.jpg  \n",
            " extracting: images/cats/cat.94.jpg  \n",
            " extracting: images/cats/cat.75.jpg  \n",
            " extracting: images/cats/cat.16.jpg  \n",
            " extracting: images/dogs/dog.33.jpg  \n",
            " extracting: images/dogs/dog.34.jpg  \n",
            " extracting: images/dogs/dog.47.jpg  \n",
            " extracting: images/cats/cat.64.jpg  \n",
            " extracting: images/dogs/dog.28.jpg  \n",
            " extracting: images/dogs/dog.52.jpg  \n",
            " extracting: images/cats/cat.96.jpg  \n",
            " extracting: images/dogs/dog.94.jpg  \n",
            " extracting: images/cats/cat.72.jpg  \n",
            " extracting: images/dogs/dog.23.jpg  \n",
            " extracting: images/dogs/dog.44.jpg  \n",
            " extracting: images/cats/cat.52.jpg  \n",
            " extracting: images/dogs/dog.42.jpg  \n",
            " extracting: images/cats/cat.61.jpg  \n",
            " extracting: images/cats/cat.51.jpg  \n",
            " extracting: images/dogs/dog.95.jpg  \n",
            " extracting: images/cats/cat.44.jpg  \n",
            " extracting: images/cats/cat.62.jpg  \n",
            " extracting: images/cats/cat.99.jpg  \n",
            " extracting: images/cats/cat.78.jpg  \n",
            " extracting: images/dogs/dog.98.jpg  \n",
            " extracting: images/cats/cat.67.jpg  \n",
            " extracting: images/dogs/dog.10.jpg  \n",
            " extracting: images/dogs/dog.26.jpg  \n",
            " extracting: images/cats/cat.26.jpg  \n",
            " extracting: images/cats/cat.48.jpg  \n",
            " extracting: images/cats/cat.58.jpg  \n",
            " extracting: images/dogs/dog.74.jpg  \n",
            " extracting: images/dogs/dog.84.jpg  \n",
            " extracting: images/dogs/dog.90.jpg  \n",
            " extracting: images/cats/cat.35.jpg  \n",
            " extracting: images/cats/cat.57.jpg  \n",
            " extracting: images/dogs/dog.40.jpg  \n",
            " extracting: images/cats/cat.92.jpg  \n",
            " extracting: images/cats/cat.29.jpg  \n",
            " extracting: images/cats/cat.89.jpg  \n",
            " extracting: images/dogs/dog.46.jpg  \n",
            " extracting: images/dogs/dog.99.jpg  \n",
            " extracting: images/dogs/dog.72.jpg  \n",
            " extracting: images/dogs/dog.66.jpg  \n",
            " extracting: images/cats/cat.98.jpg  \n",
            " extracting: images/cats/cat.81.jpg  \n",
            " extracting: images/dogs/dog.49.jpg  \n",
            " extracting: images/cats/cat.17.jpg  \n",
            " extracting: images/cats/cat.11.jpg  \n",
            " extracting: images/dogs/dog.85.jpg  \n",
            " extracting: images/dogs/dog.50.jpg  \n",
            " extracting: images/cats/cat.80.jpg  \n",
            " extracting: images/dogs/dog.67.jpg  \n",
            " extracting: images/dogs/dog.35.jpg  \n",
            " extracting: images/dogs/dog.56.jpg  \n",
            " extracting: images/dogs/dog.43.jpg  \n",
            " extracting: images/cats/cat.32.jpg  \n",
            " extracting: images/dogs/dog.75.jpg  \n",
            " extracting: images/dogs/dog.68.jpg  \n",
            " extracting: images/cats/cat.71.jpg  \n",
            " extracting: images/dogs/dog.16.jpg  \n",
            " extracting: images/dogs/dog.37.jpg  \n",
            " extracting: images/cats/cat.39.jpg  \n",
            " extracting: images/cats/cat.97.jpg  \n",
            " extracting: images/dogs/dog.73.jpg  \n",
            " extracting: images/dogs/dog.91.jpg  \n",
            " extracting: images/dogs/dog.11.jpg  \n",
            " extracting: images/cats/cat.93.jpg  \n",
            " extracting: images/cats/cat.50.jpg  \n",
            " extracting: images/cats/cat.66.jpg  \n",
            " extracting: images/dogs/dog.78.jpg  \n",
            " extracting: images/dogs/dog.63.jpg  \n",
            " extracting: images/cats/cat.88.jpg  \n",
            " extracting: images/dogs/dog.81.jpg  \n",
            " extracting: images/dogs/dog.20.jpg  \n",
            " extracting: images/cats/cat.46.jpg  \n",
            " extracting: images/dogs/dog.27.jpg  \n",
            " extracting: images/cats/cat.28.jpg  \n",
            " extracting: images/cats/cat.34.jpg  \n",
            " extracting: images/cats/cat.49.jpg  \n",
            " extracting: images/dogs/dog.55.jpg  \n",
            " extracting: images/cats/cat.82.jpg  \n",
            " extracting: images/cats/cat.56.jpg  \n",
            " extracting: images/dogs/dog.36.jpg  \n",
            " extracting: images/cats/cat.33.jpg  \n",
            " extracting: images/cats/cat.25.jpg  \n",
            " extracting: images/cats/cat.65.jpg  \n",
            " extracting: images/dogs/dog.17.jpg  \n",
            " extracting: images/cats/cat.14.jpg  \n",
            " extracting: images/cats/cat.38.jpg  \n",
            " extracting: images/dogs/dog.21.jpg  \n",
            " extracting: images/cats/cat.10.jpg  \n",
            " extracting: images/dogs/dog.89.jpg  \n",
            " extracting: images/dogs/dog.30.jpg  \n",
            " extracting: images/cats/cat.24.jpg  \n",
            " extracting: images/cats/cat.40.jpg  \n",
            " extracting: images/cats/cat.37.jpg  \n",
            " extracting: images/dogs/dog.79.jpg  \n",
            " extracting: images/cats/cat.59.jpg  \n",
            " extracting: images/cats/cat.90.jpg  \n",
            " extracting: images/dogs/dog.51.jpg  \n",
            " extracting: images/cats/cat.87.jpg  \n",
            " extracting: images/cats/cat.83.jpg  \n",
            " extracting: images/dogs/dog.19.jpg  \n",
            " extracting: images/cats/cat.77.jpg  \n",
            " extracting: images/cats/cat.196.jpg  \n",
            " extracting: images/cats/cat.115.jpg  \n",
            " extracting: images/cats/cat.195.jpg  \n",
            " extracting: images/cats/cat.136.jpg  \n",
            " extracting: images/dogs/dog.159.jpg  \n",
            " extracting: images/dogs/dog.137.jpg  \n",
            " extracting: images/cats/cat.155.jpg  \n",
            " extracting: images/cats/cat.131.jpg  \n",
            " extracting: images/dogs/dog.116.jpg  \n",
            " extracting: images/dogs/dog.187.jpg  \n",
            " extracting: images/cats/cat.148.jpg  \n",
            " extracting: images/cats/cat.190.jpg  \n",
            " extracting: images/cats/cat.170.jpg  \n",
            " extracting: images/cats/cat.113.jpg  \n",
            " extracting: images/cats/cat.193.jpg  \n",
            " extracting: images/cats/cat.138.jpg  \n",
            " extracting: images/dogs/dog.201.jpg  \n",
            " extracting: images/cats/cat.182.jpg  \n",
            " extracting: images/cats/cat.150.jpg  \n",
            " extracting: images/dogs/dog.131.jpg  \n",
            " extracting: images/dogs/dog.192.jpg  \n",
            " extracting: images/dogs/dog.182.jpg  \n",
            " extracting: images/dogs/dog.113.jpg  \n",
            " extracting: images/cats/cat.169.jpg  \n",
            " extracting: images/dogs/dog.124.jpg  \n",
            " extracting: images/dogs/dog.146.jpg  \n",
            " extracting: images/cats/cat.153.jpg  \n",
            " extracting: images/cats/cat.184.jpg  \n",
            " extracting: images/dogs/dog.112.jpg  \n",
            " extracting: images/cats/cat.175.jpg  \n",
            " extracting: images/cats/cat.141.jpg  \n",
            " extracting: images/cats/cat.108.jpg  \n",
            " extracting: images/dogs/dog.122.jpg  \n",
            " extracting: images/dogs/dog.111.jpg  \n",
            " extracting: images/cats/cat.139.jpg  \n",
            " extracting: images/cats/cat.174.jpg  \n",
            " extracting: images/dogs/dog.193.jpg  \n",
            " extracting: images/dogs/dog.128.jpg  \n",
            " extracting: images/cats/cat.120.jpg  \n",
            " extracting: images/cats/cat.149.jpg  \n",
            " extracting: images/cats/cat.151.jpg  \n",
            " extracting: images/dogs/dog.117.jpg  \n",
            " extracting: images/cats/cat.125.jpg  \n",
            " extracting: images/cats/cat.133.jpg  \n",
            " extracting: images/cats/cat.191.jpg  \n",
            " extracting: images/dogs/dog.186.jpg  \n",
            " extracting: images/dogs/dog.176.jpg  \n",
            " extracting: images/cats/cat.106.jpg  \n",
            " extracting: images/dogs/dog.125.jpg  \n",
            " extracting: images/dogs/dog.171.jpg  \n",
            " extracting: images/dogs/dog.123.jpg  \n",
            " extracting: images/dogs/dog.141.jpg  \n",
            " extracting: images/dogs/dog.183.jpg  \n",
            " extracting: images/dogs/dog.170.jpg  \n",
            " extracting: images/cats/cat.163.jpg  \n",
            " extracting: images/cats/cat.202.jpg  \n",
            " extracting: images/cats/cat.199.jpg  \n",
            " extracting: images/cats/cat.130.jpg  \n",
            " extracting: images/dogs/dog.198.jpg  \n",
            " extracting: images/cats/cat.165.jpg  \n",
            " extracting: images/cats/cat.147.jpg  \n",
            " extracting: images/cats/cat.143.jpg  \n",
            " extracting: images/dogs/dog.100.jpg  \n",
            " extracting: images/cats/cat.128.jpg  \n",
            " extracting: images/dogs/dog.148.jpg  \n",
            " extracting: images/cats/cat.107.jpg  \n",
            " extracting: images/cats/cat.132.jpg  \n",
            " extracting: images/cats/cat.154.jpg  \n",
            " extracting: images/cats/cat.124.jpg  \n",
            " extracting: images/dogs/dog.199.jpg  \n",
            " extracting: images/cats/cat.158.jpg  \n",
            " extracting: images/cats/cat.177.jpg  \n",
            " extracting: images/dogs/dog.167.jpg  \n",
            " extracting: images/dogs/dog.163.jpg  \n",
            " extracting: images/dogs/dog.140.jpg  \n",
            " extracting: images/cats/cat.101.jpg  \n",
            " extracting: images/dogs/dog.160.jpg  \n",
            " extracting: images/cats/cat.123.jpg  \n",
            " extracting: images/cats/cat.111.jpg  \n",
            " extracting: images/dogs/dog.177.jpg  \n",
            " extracting: images/cats/cat.172.jpg  \n",
            " extracting: images/cats/cat.146.jpg  \n",
            " extracting: images/dogs/dog.154.jpg  \n",
            " extracting: images/dogs/dog.129.jpg  \n",
            " extracting: images/dogs/dog.147.jpg  \n",
            " extracting: images/dogs/dog.166.jpg  \n",
            " extracting: images/cats/cat.100.jpg  \n",
            " extracting: images/cats/cat.164.jpg  \n",
            " extracting: images/dogs/dog.104.jpg  \n",
            " extracting: images/dogs/dog.138.jpg  \n",
            " extracting: images/dogs/dog.155.jpg  \n",
            " extracting: images/dogs/dog.118.jpg  \n",
            " extracting: images/cats/cat.162.jpg  \n",
            " extracting: images/cats/cat.103.jpg  \n",
            " extracting: images/cats/cat.197.jpg  \n",
            " extracting: images/dogs/dog.149.jpg  \n",
            " extracting: images/dogs/dog.134.jpg  \n",
            " extracting: images/cats/cat.135.jpg  \n",
            " extracting: images/cats/cat.142.jpg  \n",
            " extracting: images/dogs/dog.132.jpg  \n",
            " extracting: images/dogs/dog.196.jpg  \n",
            " extracting: images/dogs/dog.153.jpg  \n",
            " extracting: images/cats/cat.104.jpg  \n",
            " extracting: images/cats/cat.168.jpg  \n",
            " extracting: images/cats/cat.181.jpg  \n",
            " extracting: images/dogs/dog.185.jpg  \n",
            " extracting: images/cats/cat.110.jpg  \n",
            " extracting: images/dogs/dog.110.jpg  \n",
            " extracting: images/cats/cat.194.jpg  \n",
            " extracting: images/dogs/dog.119.jpg  \n",
            " extracting: images/cats/cat.117.jpg  \n",
            " extracting: images/dogs/dog.169.jpg  \n",
            " extracting: images/cats/cat.187.jpg  \n",
            " extracting: images/cats/cat.129.jpg  \n",
            " extracting: images/dogs/dog.135.jpg  \n",
            " extracting: images/cats/cat.188.jpg  \n",
            " extracting: images/cats/cat.122.jpg  \n",
            " extracting: images/dogs/dog.101.jpg  \n",
            " extracting: images/dogs/dog.144.jpg  \n",
            " extracting: images/dogs/dog.164.jpg  \n",
            " extracting: images/cats/cat.140.jpg  \n",
            " extracting: images/dogs/dog.105.jpg  \n",
            " extracting: images/cats/cat.179.jpg  \n",
            " extracting: images/cats/cat.152.jpg  \n",
            " extracting: images/dogs/dog.142.jpg  \n",
            " extracting: images/cats/cat.189.jpg  \n",
            " extracting: images/dogs/dog.139.jpg  \n",
            " extracting: images/cats/cat.180.jpg  \n",
            " extracting: images/dogs/dog.178.jpg  \n",
            " extracting: images/dogs/dog.107.jpg  \n",
            " extracting: images/dogs/dog.190.jpg  \n",
            " extracting: images/dogs/dog.194.jpg  \n",
            " extracting: images/dogs/dog.120.jpg  \n",
            " extracting: images/cats/cat.127.jpg  \n",
            " extracting: images/dogs/dog.143.jpg  \n",
            " extracting: images/dogs/dog.145.jpg  \n",
            " extracting: images/cats/cat.161.jpg  \n",
            " extracting: images/dogs/dog.165.jpg  \n",
            " extracting: images/dogs/dog.152.jpg  \n",
            " extracting: images/dogs/dog.202.jpg  \n",
            " extracting: images/cats/cat.105.jpg  \n",
            " extracting: images/dogs/dog.133.jpg  \n",
            " extracting: images/cats/cat.145.jpg  \n",
            " extracting: images/cats/cat.134.jpg  \n",
            " extracting: images/cats/cat.176.jpg  \n",
            " extracting: images/cats/cat.173.jpg  \n",
            " extracting: images/dogs/dog.108.jpg  \n",
            " extracting: images/cats/cat.167.jpg  \n",
            " extracting: images/cats/cat.166.jpg  \n",
            " extracting: images/dogs/dog.179.jpg  \n",
            " extracting: images/dogs/dog.102.jpg  \n",
            " extracting: images/dogs/dog.191.jpg  \n",
            " extracting: images/dogs/dog.151.jpg  \n",
            " extracting: images/dogs/dog.180.jpg  \n",
            " extracting: images/dogs/dog.106.jpg  \n",
            " extracting: images/cats/cat.186.jpg  \n",
            " extracting: images/dogs/dog.184.jpg  \n",
            " extracting: images/dogs/dog.115.jpg  \n",
            " extracting: images/cats/cat.137.jpg  \n",
            " extracting: images/dogs/dog.168.jpg  \n",
            " extracting: images/dogs/dog.150.jpg  \n",
            " extracting: images/dogs/dog.189.jpg  \n",
            " extracting: images/dogs/dog.197.jpg  \n",
            " extracting: images/dogs/dog.158.jpg  \n",
            " extracting: images/cats/cat.198.jpg  \n",
            " extracting: images/cats/cat.112.jpg  \n",
            " extracting: images/cats/cat.144.jpg  \n",
            " extracting: images/dogs/dog.157.jpg  \n",
            " extracting: images/dogs/dog.109.jpg  \n",
            " extracting: images/cats/cat.157.jpg  \n",
            " extracting: images/dogs/dog.127.jpg  \n",
            " extracting: images/dogs/dog.156.jpg  \n",
            " extracting: images/cats/cat.178.jpg  \n",
            " extracting: images/cats/cat.118.jpg  \n",
            " extracting: images/cats/cat.116.jpg  \n",
            " extracting: images/dogs/dog.172.jpg  \n",
            " extracting: images/cats/cat.200.jpg  \n",
            " extracting: images/dogs/dog.162.jpg  \n",
            " extracting: images/dogs/dog.200.jpg  \n",
            " extracting: images/dogs/dog.181.jpg  \n",
            " extracting: images/cats/cat.159.jpg  \n",
            " extracting: images/dogs/dog.188.jpg  \n",
            " extracting: images/dogs/dog.195.jpg  \n",
            " extracting: images/cats/cat.102.jpg  \n",
            " extracting: images/cats/cat.171.jpg  \n",
            " extracting: images/dogs/dog.114.jpg  \n",
            " extracting: images/cats/cat.114.jpg  \n",
            " extracting: images/cats/cat.119.jpg  \n",
            " extracting: images/dogs/dog.173.jpg  \n",
            " extracting: images/dogs/dog.136.jpg  \n",
            " extracting: images/dogs/dog.174.jpg  \n",
            " extracting: images/dogs/dog.130.jpg  \n",
            " extracting: images/cats/cat.121.jpg  \n",
            " extracting: images/cats/cat.156.jpg  \n",
            " extracting: images/cats/cat.160.jpg  \n",
            " extracting: images/dogs/dog.126.jpg  \n",
            " extracting: images/cats/cat.109.jpg  \n",
            " extracting: images/dogs/dog.161.jpg  \n",
            " extracting: images/cats/cat.201.jpg  \n",
            " extracting: images/cats/cat.126.jpg  \n",
            " extracting: images/dogs/dog.175.jpg  \n",
            " extracting: images/cats/cat.183.jpg  \n",
            " extracting: images/dogs/dog.103.jpg  \n",
            " extracting: images/dogs/dog.121.jpg  \n",
            " extracting: images/cats/cat.185.jpg  \n",
            " extracting: images/cats/cat.192.jpg  \n",
            " extracting: images/humans/rider-8.jpg  \n",
            " extracting: images/humans/rider-6.jpg  \n",
            " extracting: images/humans/rider-7.jpg  \n",
            " extracting: images/horses/horse-5.jpg  \n",
            " extracting: images/horses/horse-6.jpg  \n",
            " extracting: images/humans/rider-1.jpg  \n",
            " extracting: images/horses/horse-1.jpg  \n",
            " extracting: images/humans/rider-4.jpg  \n",
            " extracting: images/horses/horse-7.jpg  \n",
            " extracting: images/horses/horse-9.jpg  \n",
            " extracting: images/horses/horse-2.jpg  \n",
            " extracting: images/horses/horse-3.jpg  \n",
            " extracting: images/humans/rider-2.jpg  \n",
            " extracting: images/horses/horse-8.jpg  \n",
            " extracting: images/humans/rider-5.jpg  \n",
            " extracting: images/humans/rider-9.jpg  \n",
            " extracting: images/horses/horse-4.jpg  \n",
            " extracting: images/humans/rider-3.jpg  \n",
            " extracting: images/humans/rider-83.jpg  \n",
            " extracting: images/humans/rider-85.jpg  \n",
            " extracting: images/horses/horse-34.jpg  \n",
            " extracting: images/humans/rider-58.jpg  \n",
            " extracting: images/horses/horse-16.jpg  \n",
            " extracting: images/horses/horse-98.jpg  \n",
            " extracting: images/humans/rider-24.jpg  \n",
            " extracting: images/humans/rider-28.jpg  \n",
            " extracting: images/humans/rider-10.jpg  \n",
            " extracting: images/horses/horse-53.jpg  \n",
            " extracting: images/humans/rider-20.jpg  \n",
            " extracting: images/horses/horse-43.jpg  \n",
            " extracting: images/horses/horse-61.jpg  \n",
            " extracting: images/humans/rider-77.jpg  \n",
            " extracting: images/horses/horse-84.jpg  \n",
            " extracting: images/horses/horse-66.jpg  \n",
            " extracting: images/humans/rider-71.jpg  \n",
            " extracting: images/horses/horse-33.jpg  \n",
            " extracting: images/humans/rider-51.jpg  \n",
            " extracting: images/humans/rider-15.jpg  \n",
            " extracting: images/horses/horse-59.jpg  \n",
            " extracting: images/horses/horse-49.jpg  \n",
            " extracting: images/horses/horse-75.jpg  \n",
            " extracting: images/humans/rider-41.jpg  \n",
            " extracting: images/humans/rider-96.jpg  \n",
            " extracting: images/horses/horse-48.jpg  \n",
            " extracting: images/humans/rider-25.jpg  \n",
            " extracting: images/horses/horse-29.jpg  \n",
            " extracting: images/humans/rider-38.jpg  \n",
            " extracting: images/horses/horse-79.jpg  \n",
            " extracting: images/humans/rider-35.jpg  \n",
            " extracting: images/horses/horse-45.jpg  \n",
            " extracting: images/humans/rider-23.jpg  \n",
            " extracting: images/humans/rider-31.jpg  \n",
            " extracting: images/horses/horse-70.jpg  \n",
            " extracting: images/humans/rider-32.jpg  \n",
            " extracting: images/horses/horse-83.jpg  \n",
            " extracting: images/humans/rider-19.jpg  \n",
            " extracting: images/horses/horse-26.jpg  \n",
            " extracting: images/humans/rider-29.jpg  \n",
            " extracting: images/humans/rider-59.jpg  \n",
            " extracting: images/horses/horse-56.jpg  \n",
            " extracting: images/horses/horse-11.jpg  \n",
            " extracting: images/humans/rider-46.jpg  \n",
            " extracting: images/horses/horse-38.jpg  \n",
            " extracting: images/horses/horse-13.jpg  \n",
            " extracting: images/humans/rider-56.jpg  \n",
            " extracting: images/humans/rider-34.jpg  \n",
            " extracting: images/humans/rider-21.jpg  \n",
            " extracting: images/humans/rider-92.jpg  \n",
            " extracting: images/horses/horse-55.jpg  \n",
            " extracting: images/horses/horse-86.jpg  \n",
            " extracting: images/humans/rider-62.jpg  \n",
            " extracting: images/horses/horse-91.jpg  \n",
            " extracting: images/humans/rider-55.jpg  \n",
            " extracting: images/horses/horse-74.jpg  \n",
            " extracting: images/humans/rider-64.jpg  \n",
            " extracting: images/horses/horse-39.jpg  \n",
            " extracting: images/horses/horse-51.jpg  \n",
            " extracting: images/horses/horse-67.jpg  \n",
            " extracting: images/horses/horse-72.jpg  \n",
            " extracting: images/horses/horse-52.jpg  \n",
            " extracting: images/humans/rider-13.jpg  \n",
            " extracting: images/humans/rider-82.jpg  \n",
            " extracting: images/horses/horse-27.jpg  \n",
            " extracting: images/horses/horse-36.jpg  \n",
            " extracting: images/horses/horse-18.jpg  \n",
            " extracting: images/horses/horse-40.jpg  \n",
            " extracting: images/horses/horse-19.jpg  \n",
            " extracting: images/horses/horse-65.jpg  \n",
            " extracting: images/horses/horse-21.jpg  \n",
            " extracting: images/horses/horse-68.jpg  \n",
            " extracting: images/humans/rider-63.jpg  \n",
            " extracting: images/humans/rider-97.jpg  \n",
            " extracting: images/humans/rider-93.jpg  \n",
            " extracting: images/humans/rider-36.jpg  \n",
            " extracting: images/horses/horse-76.jpg  \n",
            " extracting: images/humans/rider-69.jpg  \n",
            " extracting: images/horses/horse-96.jpg  \n",
            " extracting: images/humans/rider-48.jpg  \n",
            " extracting: images/humans/rider-26.jpg  \n",
            " extracting: images/horses/horse-71.jpg  \n",
            " extracting: images/humans/rider-91.jpg  \n",
            " extracting: images/horses/horse-30.jpg  \n",
            " extracting: images/horses/horse-17.jpg  \n",
            " extracting: images/humans/rider-98.jpg  \n",
            " extracting: images/horses/horse-69.jpg  \n",
            " extracting: images/horses/horse-64.jpg  \n",
            " extracting: images/humans/rider-72.jpg  \n",
            " extracting: images/horses/horse-87.jpg  \n",
            " extracting: images/humans/rider-40.jpg  \n",
            " extracting: images/humans/rider-37.jpg  \n",
            " extracting: images/horses/horse-77.jpg  \n",
            " extracting: images/humans/rider-65.jpg  \n",
            " extracting: images/horses/horse-57.jpg  \n",
            " extracting: images/humans/rider-78.jpg  \n",
            " extracting: images/horses/horse-41.jpg  \n",
            " extracting: images/horses/horse-97.jpg  \n",
            " extracting: images/horses/horse-62.jpg  \n",
            " extracting: images/humans/rider-27.jpg  \n",
            " extracting: images/humans/rider-94.jpg  \n",
            " extracting: images/horses/horse-46.jpg  \n",
            " extracting: images/horses/horse-15.jpg  \n",
            " extracting: images/humans/rider-16.jpg  \n",
            " extracting: images/humans/rider-90.jpg  \n",
            " extracting: images/horses/horse-12.jpg  \n",
            " extracting: images/humans/rider-12.jpg  \n",
            " extracting: images/humans/rider-87.jpg  \n",
            " extracting: images/horses/horse-90.jpg  \n",
            " extracting: images/humans/rider-42.jpg  \n",
            " extracting: images/humans/rider-18.jpg  \n",
            " extracting: images/horses/horse-24.jpg  \n",
            " extracting: images/humans/rider-99.jpg  \n",
            " extracting: images/horses/horse-85.jpg  \n",
            " extracting: images/humans/rider-45.jpg  \n",
            " extracting: images/horses/horse-20.jpg  \n",
            " extracting: images/humans/rider-75.jpg  \n",
            " extracting: images/humans/rider-44.jpg  \n",
            " extracting: images/horses/horse-78.jpg  \n",
            " extracting: images/horses/horse-37.jpg  \n",
            " extracting: images/humans/rider-30.jpg  \n",
            " extracting: images/horses/horse-89.jpg  \n",
            " extracting: images/humans/rider-17.jpg  \n",
            " extracting: images/humans/rider-86.jpg  \n",
            " extracting: images/horses/horse-54.jpg  \n",
            " extracting: images/humans/rider-60.jpg  \n",
            " extracting: images/horses/horse-95.jpg  \n",
            " extracting: images/humans/rider-66.jpg  \n",
            " extracting: images/humans/rider-47.jpg  \n",
            " extracting: images/humans/rider-53.jpg  \n",
            " extracting: images/humans/rider-49.jpg  \n",
            " extracting: images/humans/rider-57.jpg  \n",
            " extracting: images/humans/rider-74.jpg  \n",
            " extracting: images/humans/rider-54.jpg  \n",
            " extracting: images/humans/rider-33.jpg  \n",
            " extracting: images/horses/horse-81.jpg  \n",
            " extracting: images/humans/rider-43.jpg  \n",
            " extracting: images/horses/horse-88.jpg  \n",
            " extracting: images/horses/horse-63.jpg  \n",
            " extracting: images/humans/rider-95.jpg  \n",
            " extracting: images/humans/rider-73.jpg  \n",
            " extracting: images/horses/horse-82.jpg  \n",
            " extracting: images/horses/horse-93.jpg  \n",
            " extracting: images/humans/rider-52.jpg  \n",
            " extracting: images/humans/rider-68.jpg  \n",
            " extracting: images/humans/rider-84.jpg  \n",
            " extracting: images/humans/rider-61.jpg  \n",
            " extracting: images/humans/rider-11.jpg  \n",
            " extracting: images/horses/horse-31.jpg  \n",
            " extracting: images/horses/horse-25.jpg  \n",
            " extracting: images/humans/rider-79.jpg  \n",
            " extracting: images/horses/horse-47.jpg  \n",
            " extracting: images/humans/rider-88.jpg  \n",
            " extracting: images/horses/horse-14.jpg  \n",
            " extracting: images/horses/horse-28.jpg  \n",
            " extracting: images/horses/horse-94.jpg  \n",
            " extracting: images/horses/horse-32.jpg  \n",
            " extracting: images/humans/rider-67.jpg  \n",
            " extracting: images/horses/horse-60.jpg  \n",
            " extracting: images/horses/horse-92.jpg  \n",
            " extracting: images/humans/rider-22.jpg  \n",
            " extracting: images/horses/horse-50.jpg  \n",
            " extracting: images/horses/horse-80.jpg  \n",
            " extracting: images/humans/rider-14.jpg  \n",
            " extracting: images/humans/rider-81.jpg  \n",
            " extracting: images/horses/horse-22.jpg  \n",
            " extracting: images/humans/rider-76.jpg  \n",
            " extracting: images/horses/horse-73.jpg  \n",
            " extracting: images/horses/horse-44.jpg  \n",
            " extracting: images/horses/horse-35.jpg  \n",
            " extracting: images/humans/rider-39.jpg  \n",
            " extracting: images/horses/horse-10.jpg  \n",
            " extracting: images/horses/horse-23.jpg  \n",
            " extracting: images/humans/rider-80.jpg  \n",
            " extracting: images/horses/horse-42.jpg  \n",
            " extracting: images/humans/rider-89.jpg  \n",
            " extracting: images/horses/horse-99.jpg  \n",
            " extracting: images/humans/rider-70.jpg  \n",
            " extracting: images/humans/rider-50.jpg  \n",
            " extracting: images/horses/horse-58.jpg  \n",
            " extracting: images/humans/rider-177.jpg  \n",
            " extracting: images/horses/horse-193.jpg  \n",
            " extracting: images/horses/horse-129.jpg  \n",
            " extracting: images/humans/rider-197.jpg  \n",
            " extracting: images/humans/rider-132.jpg  \n",
            " extracting: images/horses/horse-126.jpg  \n",
            " extracting: images/humans/rider-106.jpg  \n",
            " extracting: images/humans/rider-138.jpg  \n",
            " extracting: images/horses/horse-120.jpg  \n",
            " extracting: images/horses/horse-140.jpg  \n",
            " extracting: images/humans/rider-171.jpg  \n",
            " extracting: images/humans/rider-102.jpg  \n",
            " extracting: images/horses/horse-130.jpg  \n",
            " extracting: images/humans/rider-190.jpg  \n",
            " extracting: images/humans/rider-119.jpg  \n",
            " extracting: images/horses/horse-164.jpg  \n",
            " extracting: images/humans/rider-183.jpg  \n",
            " extracting: images/humans/rider-168.jpg  \n",
            " extracting: images/humans/rider-140.jpg  \n",
            " extracting: images/humans/rider-156.jpg  \n",
            " extracting: images/horses/horse-191.jpg  \n",
            " extracting: images/humans/rider-123.jpg  \n",
            " extracting: images/horses/horse-196.jpg  \n",
            " extracting: images/humans/rider-184.jpg  \n",
            " extracting: images/horses/horse-112.jpg  \n",
            " extracting: images/humans/rider-154.jpg  \n",
            " extracting: images/horses/horse-190.jpg  \n",
            " extracting: images/humans/rider-162.jpg  \n",
            " extracting: images/horses/horse-160.jpg  \n",
            " extracting: images/humans/rider-188.jpg  \n",
            " extracting: images/horses/horse-163.jpg  \n",
            " extracting: images/horses/horse-188.jpg  \n",
            " extracting: images/humans/rider-196.jpg  \n",
            " extracting: images/humans/rider-118.jpg  \n",
            " extracting: images/horses/horse-148.jpg  \n",
            " extracting: images/humans/rider-182.jpg  \n",
            " extracting: images/horses/horse-187.jpg  \n",
            " extracting: images/horses/horse-171.jpg  \n",
            " extracting: images/horses/horse-147.jpg  \n",
            " extracting: images/humans/rider-134.jpg  \n",
            " extracting: images/humans/rider-122.jpg  \n",
            " extracting: images/horses/horse-165.jpg  \n",
            " extracting: images/horses/horse-192.jpg  \n",
            " extracting: images/horses/horse-184.jpg  \n",
            " extracting: images/humans/rider-148.jpg  \n",
            " extracting: images/humans/rider-150.jpg  \n",
            " extracting: images/horses/horse-170.jpg  \n",
            " extracting: images/horses/horse-135.jpg  \n",
            " extracting: images/humans/rider-198.jpg  \n",
            " extracting: images/humans/rider-107.jpg  \n",
            " extracting: images/humans/rider-125.jpg  \n",
            " extracting: images/horses/horse-133.jpg  \n",
            " extracting: images/horses/horse-151.jpg  \n",
            " extracting: images/horses/horse-113.jpg  \n",
            " extracting: images/humans/rider-166.jpg  \n",
            " extracting: images/humans/rider-133.jpg  \n",
            " extracting: images/horses/horse-157.jpg  \n",
            " extracting: images/humans/rider-142.jpg  \n",
            " extracting: images/horses/horse-176.jpg  \n",
            " extracting: images/humans/rider-189.jpg  \n",
            " extracting: images/horses/horse-158.jpg  \n",
            " extracting: images/humans/rider-141.jpg  \n",
            " extracting: images/humans/rider-186.jpg  \n",
            " extracting: images/humans/rider-178.jpg  \n",
            " extracting: images/humans/rider-155.jpg  \n",
            " extracting: images/humans/rider-116.jpg  \n",
            " extracting: images/humans/rider-147.jpg  \n",
            " extracting: images/horses/horse-182.jpg  \n",
            " extracting: images/humans/rider-135.jpg  \n",
            " extracting: images/horses/horse-134.jpg  \n",
            " extracting: images/horses/horse-111.jpg  \n",
            " extracting: images/horses/horse-159.jpg  \n",
            " extracting: images/humans/rider-159.jpg  \n",
            " extracting: images/humans/rider-110.jpg  \n",
            " extracting: images/horses/horse-150.jpg  \n",
            " extracting: images/humans/rider-129.jpg  \n",
            " extracting: images/humans/rider-187.jpg  \n",
            " extracting: images/humans/rider-120.jpg  \n",
            " extracting: images/horses/horse-106.jpg  \n",
            " extracting: images/horses/horse-167.jpg  \n",
            " extracting: images/horses/horse-102.jpg  \n",
            " extracting: images/humans/rider-169.jpg  \n",
            " extracting: images/humans/rider-176.jpg  \n",
            " extracting: images/horses/horse-132.jpg  \n",
            " extracting: images/humans/rider-193.jpg  \n",
            " extracting: images/horses/horse-195.jpg  \n",
            " extracting: images/humans/rider-117.jpg  \n",
            " extracting: images/horses/horse-100.jpg  \n",
            " extracting: images/horses/horse-114.jpg  \n",
            " extracting: images/humans/rider-126.jpg  \n",
            " extracting: images/humans/rider-202.jpg  \n",
            " extracting: images/horses/horse-109.jpg  \n",
            " extracting: images/humans/rider-163.jpg  \n",
            " extracting: images/humans/rider-167.jpg  \n",
            " extracting: images/humans/rider-199.jpg  \n",
            " extracting: images/horses/horse-177.jpg  \n",
            " extracting: images/horses/horse-123.jpg  \n",
            " extracting: images/humans/rider-180.jpg  \n",
            " extracting: images/horses/horse-108.jpg  \n",
            " extracting: images/humans/rider-179.jpg  \n",
            " extracting: images/humans/rider-195.jpg  \n",
            " extracting: images/horses/horse-201.jpg  \n",
            " extracting: images/horses/horse-166.jpg  \n",
            " extracting: images/humans/rider-158.jpg  \n",
            " extracting: images/humans/rider-128.jpg  \n",
            " extracting: images/horses/horse-156.jpg  \n",
            " extracting: images/humans/rider-165.jpg  \n",
            " extracting: images/humans/rider-153.jpg  \n",
            " extracting: images/horses/horse-116.jpg  \n",
            " extracting: images/humans/rider-121.jpg  \n",
            " extracting: images/humans/rider-181.jpg  \n",
            " extracting: images/horses/horse-194.jpg  \n",
            " extracting: images/horses/horse-105.jpg  \n",
            " extracting: images/humans/rider-127.jpg  \n",
            " extracting: images/horses/horse-110.jpg  \n",
            " extracting: images/horses/horse-101.jpg  \n",
            " extracting: images/humans/rider-111.jpg  \n",
            " extracting: images/humans/rider-146.jpg  \n",
            " extracting: images/horses/horse-183.jpg  \n",
            " extracting: images/horses/horse-138.jpg  \n",
            " extracting: images/horses/horse-179.jpg  \n",
            " extracting: images/horses/horse-175.jpg  \n",
            " extracting: images/humans/rider-104.jpg  \n",
            " extracting: images/horses/horse-200.jpg  \n",
            " extracting: images/horses/horse-173.jpg  \n",
            " extracting: images/horses/horse-189.jpg  \n",
            " extracting: images/humans/rider-192.jpg  \n",
            " extracting: images/humans/rider-160.jpg  \n",
            " extracting: images/horses/horse-172.jpg  \n",
            " extracting: images/horses/horse-124.jpg  \n",
            " extracting: images/humans/rider-194.jpg  \n",
            " extracting: images/humans/rider-164.jpg  \n",
            " extracting: images/horses/horse-144.jpg  \n",
            " extracting: images/humans/rider-173.jpg  \n",
            " extracting: images/horses/horse-161.jpg  \n",
            " extracting: images/horses/horse-186.jpg  \n",
            " extracting: images/humans/rider-201.jpg  \n",
            " extracting: images/humans/rider-152.jpg  \n",
            " extracting: images/horses/horse-139.jpg  \n",
            " extracting: images/horses/horse-169.jpg  \n",
            " extracting: images/humans/rider-109.jpg  \n",
            " extracting: images/horses/horse-153.jpg  \n",
            " extracting: images/humans/rider-149.jpg  \n",
            " extracting: images/horses/horse-155.jpg  \n",
            " extracting: images/horses/horse-142.jpg  \n",
            " extracting: images/horses/horse-146.jpg  \n",
            " extracting: images/horses/horse-125.jpg  \n",
            " extracting: images/horses/horse-145.jpg  \n",
            " extracting: images/horses/horse-152.jpg  \n",
            " extracting: images/horses/horse-162.jpg  \n",
            " extracting: images/humans/rider-100.jpg  \n",
            " extracting: images/humans/rider-172.jpg  \n",
            " extracting: images/horses/horse-174.jpg  \n",
            " extracting: images/horses/horse-103.jpg  \n",
            " extracting: images/horses/horse-198.jpg  \n",
            " extracting: images/humans/rider-114.jpg  \n",
            " extracting: images/humans/rider-143.jpg  \n",
            " extracting: images/horses/horse-202.jpg  \n",
            " extracting: images/horses/horse-104.jpg  \n",
            " extracting: images/horses/horse-122.jpg  \n",
            " extracting: images/humans/rider-112.jpg  \n",
            " extracting: images/humans/rider-130.jpg  \n",
            " extracting: images/humans/rider-108.jpg  \n",
            " extracting: images/horses/horse-143.jpg  \n",
            " extracting: images/horses/horse-180.jpg  \n",
            " extracting: images/horses/horse-115.jpg  \n",
            " extracting: images/humans/rider-136.jpg  \n",
            " extracting: images/horses/horse-107.jpg  \n",
            " extracting: images/humans/rider-139.jpg  \n",
            " extracting: images/humans/rider-161.jpg  \n",
            " extracting: images/horses/horse-128.jpg  \n",
            " extracting: images/horses/horse-119.jpg  \n",
            " extracting: images/humans/rider-191.jpg  \n",
            " extracting: images/humans/rider-185.jpg  \n",
            " extracting: images/horses/horse-154.jpg  \n",
            " extracting: images/humans/rider-115.jpg  \n",
            " extracting: images/humans/rider-170.jpg  \n",
            " extracting: images/horses/horse-131.jpg  \n",
            " extracting: images/humans/rider-131.jpg  \n",
            " extracting: images/horses/horse-185.jpg  \n",
            " extracting: images/horses/horse-137.jpg  \n",
            " extracting: images/humans/rider-145.jpg  \n",
            " extracting: images/horses/horse-127.jpg  \n",
            " extracting: images/humans/rider-105.jpg  \n",
            " extracting: images/humans/rider-101.jpg  \n",
            " extracting: images/humans/rider-200.jpg  \n",
            " extracting: images/horses/horse-168.jpg  \n",
            " extracting: images/horses/horse-117.jpg  \n",
            " extracting: images/humans/rider-113.jpg  \n",
            " extracting: images/horses/horse-199.jpg  \n",
            " extracting: images/horses/horse-136.jpg  \n",
            " extracting: images/humans/rider-103.jpg  \n",
            " extracting: images/humans/rider-175.jpg  \n",
            " extracting: images/horses/horse-178.jpg  \n",
            " extracting: images/horses/horse-121.jpg  \n",
            " extracting: images/horses/horse-141.jpg  \n",
            " extracting: images/horses/horse-197.jpg  \n",
            " extracting: images/humans/rider-124.jpg  \n",
            " extracting: images/humans/rider-151.jpg  \n",
            " extracting: images/horses/horse-118.jpg  \n",
            " extracting: images/humans/rider-174.jpg  \n",
            " extracting: images/humans/rider-144.jpg  \n",
            " extracting: images/humans/rider-137.jpg  \n",
            " extracting: images/horses/horse-149.jpg  \n",
            " extracting: images/humans/rider-157.jpg  \n",
            " extracting: images/horses/horse-181.jpg  \n",
            "\n",
            "1 archive had fatal errors.\n"
          ],
          "name": "stdout"
        }
      ]
    },
    {
      "cell_type": "code",
      "metadata": {
        "id": "Ix33Hylw2TfM"
      },
      "source": [
        "import numpy as np\n",
        "import matplotlib.pyplot as plt\n",
        "import cv2\n",
        "import os\n",
        "from keras.preprocessing import image"
      ],
      "execution_count": null,
      "outputs": []
    },
    {
      "cell_type": "code",
      "metadata": {
        "id": "8sVLmhIk22hz"
      },
      "source": [
        "DATA_DIR = \"./images/\""
      ],
      "execution_count": 60,
      "outputs": []
    },
    {
      "cell_type": "code",
      "metadata": {
        "id": "S39K8iZ53250"
      },
      "source": [
        "map = {'cat' : 0, 'dog': 1, 'horse':2, 'human' :3 }\n",
        "map_rev = {v:k for k,v in map.items()}\n",
        "X = []\n",
        "y = []"
      ],
      "execution_count": 61,
      "outputs": []
    },
    {
      "cell_type": "code",
      "metadata": {
        "id": "7l7HQ4sq26os"
      },
      "source": [
        "for folder in os.listdir(DATA_DIR):\n",
        "  \n",
        "  folder_path = DATA_DIR + folder\n",
        "  all_imgs = os.listdir(folder_path)\n",
        "  \n",
        "  \n",
        "  for img in all_imgs:\n",
        "    \n",
        "    img_path = folder_path +\"/\"+img\n",
        "    # print(img_path)\n",
        "    one_image = image.load_img(img_path,target_size=(50,50))\n",
        "    one_image = image.img_to_array(one_image)/255.\n",
        "    \n",
        "    X.append(one_image)\n",
        "    y.append( map[folder[0:-1]] )\n",
        "    "
      ],
      "execution_count": 62,
      "outputs": []
    },
    {
      "cell_type": "code",
      "metadata": {
        "colab": {
          "base_uri": "https://localhost:8080/"
        },
        "id": "U2-VAKYH2_9O",
        "outputId": "481bae1c-2d90-46e9-c7db-49b5c260a10a"
      },
      "source": [
        "len(X)"
      ],
      "execution_count": 63,
      "outputs": [
        {
          "output_type": "execute_result",
          "data": {
            "text/plain": [
              "808"
            ]
          },
          "metadata": {
            "tags": []
          },
          "execution_count": 63
        }
      ]
    },
    {
      "cell_type": "code",
      "metadata": {
        "colab": {
          "base_uri": "https://localhost:8080/"
        },
        "id": "K64ApXYw6b4Y",
        "outputId": "213ab454-2e94-4e85-c9a3-fb5b79ee60f1"
      },
      "source": [
        "len(y)"
      ],
      "execution_count": 64,
      "outputs": [
        {
          "output_type": "execute_result",
          "data": {
            "text/plain": [
              "808"
            ]
          },
          "metadata": {
            "tags": []
          },
          "execution_count": 64
        }
      ]
    },
    {
      "cell_type": "code",
      "metadata": {
        "id": "ACyXbFCH65jC"
      },
      "source": [
        "X = np.array(X)\n",
        "y = np.array(y)"
      ],
      "execution_count": 65,
      "outputs": []
    },
    {
      "cell_type": "code",
      "metadata": {
        "colab": {
          "base_uri": "https://localhost:8080/"
        },
        "id": "ALFGXims67r8",
        "outputId": "66b51248-cf33-4d90-9313-bafe5a6b4700"
      },
      "source": [
        "X.shape"
      ],
      "execution_count": 66,
      "outputs": [
        {
          "output_type": "execute_result",
          "data": {
            "text/plain": [
              "(808, 50, 50, 3)"
            ]
          },
          "metadata": {
            "tags": []
          },
          "execution_count": 66
        }
      ]
    },
    {
      "cell_type": "code",
      "metadata": {
        "colab": {
          "base_uri": "https://localhost:8080/"
        },
        "id": "BKp-rpeK7EaZ",
        "outputId": "baa9367b-e596-4601-f2ca-767f43bf0622"
      },
      "source": [
        "y.shape"
      ],
      "execution_count": 67,
      "outputs": [
        {
          "output_type": "execute_result",
          "data": {
            "text/plain": [
              "(808,)"
            ]
          },
          "metadata": {
            "tags": []
          },
          "execution_count": 67
        }
      ]
    },
    {
      "cell_type": "code",
      "metadata": {
        "id": "-uY_J8gh7xLC"
      },
      "source": [
        "from sklearn.utils import shuffle\n",
        "# np.random.shuffle"
      ],
      "execution_count": 68,
      "outputs": []
    },
    {
      "cell_type": "code",
      "metadata": {
        "id": "NoojCXmz7ExO"
      },
      "source": [
        "X, y = shuffle(X, y)"
      ],
      "execution_count": 69,
      "outputs": []
    },
    {
      "cell_type": "code",
      "metadata": {
        "colab": {
          "base_uri": "https://localhost:8080/"
        },
        "id": "Be9-dbc78slN",
        "outputId": "8d6f6bed-c8b8-42ea-e681-a10565ba3f5f"
      },
      "source": [
        "X.shape"
      ],
      "execution_count": 70,
      "outputs": [
        {
          "output_type": "execute_result",
          "data": {
            "text/plain": [
              "(808, 50, 50, 3)"
            ]
          },
          "metadata": {
            "tags": []
          },
          "execution_count": 70
        }
      ]
    },
    {
      "cell_type": "code",
      "metadata": {
        "colab": {
          "base_uri": "https://localhost:8080/"
        },
        "id": "m3mhD2YJ8tYG",
        "outputId": "4db49c43-1301-4bba-837e-8d382ebc830c"
      },
      "source": [
        "y[:10]"
      ],
      "execution_count": 71,
      "outputs": [
        {
          "output_type": "execute_result",
          "data": {
            "text/plain": [
              "array([1, 3, 0, 0, 2, 0, 3, 3, 1, 0])"
            ]
          },
          "metadata": {
            "tags": []
          },
          "execution_count": 71
        }
      ]
    },
    {
      "cell_type": "code",
      "metadata": {
        "id": "vCh4ulLb8usd"
      },
      "source": [
        "def drawImg(img, title=None):\n",
        "  plt.imshow(img.reshape(50,50,3))\n",
        "  plt.axis('off')\n",
        "  if title is not None:\n",
        "    plt.title(map_rev[title])\n",
        "  plt.show()"
      ],
      "execution_count": 92,
      "outputs": []
    },
    {
      "cell_type": "code",
      "metadata": {
        "colab": {
          "base_uri": "https://localhost:8080/",
          "height": 264
        },
        "id": "0L2K36yJ8_rD",
        "outputId": "2d0284cc-3597-427f-a4d6-38000352403f"
      },
      "source": [
        "drawImg(X[13], y[13])"
      ],
      "execution_count": 93,
      "outputs": [
        {
          "output_type": "display_data",
          "data": {
            "image/png": "[encoded data removed]",
            "text/plain": [
              "<Figure size 432x288 with 1 Axes>"
            ]
          },
          "metadata": {
            "tags": [],
            "needs_background": "light"
          }
        }
      ]
    },
    {
      "cell_type": "code",
      "metadata": {
        "id": "a8U5Yd669Dy2"
      },
      "source": [
        "from sklearn.model_selection import train_test_split"
      ],
      "execution_count": 94,
      "outputs": []
    },
    {
      "cell_type": "code",
      "metadata": {
        "id": "7xfj0i189Iwe"
      },
      "source": [
        "X_train, X_test, y_train, y_test = train_test_split(\n",
        "...     X, y, test_size=0.2, random_state=42)"
      ],
      "execution_count": 97,
      "outputs": []
    },
    {
      "cell_type": "code",
      "metadata": {
        "colab": {
          "base_uri": "https://localhost:8080/"
        },
        "id": "SClIRP2M_l7a",
        "outputId": "b6c99609-f99c-48aa-a2ca-2d9412eb295b"
      },
      "source": [
        "X_train.shape, y_train.shape"
      ],
      "execution_count": 102,
      "outputs": [
        {
          "output_type": "execute_result",
          "data": {
            "text/plain": [
              "((646, 50, 50, 3), (646,))"
            ]
          },
          "metadata": {
            "tags": []
          },
          "execution_count": 102
        }
      ]
    },
    {
      "cell_type": "markdown",
      "metadata": {
        "id": "mvnQpztP_QqH"
      },
      "source": [
        "# CNN Model"
      ]
    },
    {
      "cell_type": "code",
      "metadata": {
        "id": "NTJmQWGz_QHW"
      },
      "source": [
        "from keras.models import Sequential\n",
        "from keras.layers import Dense, Conv2D, MaxPool2D, Flatten, Dropout\n",
        "from keras.utils import to_categorical"
      ],
      "execution_count": 143,
      "outputs": []
    },
    {
      "cell_type": "code",
      "metadata": {
        "id": "_HqzE_PI-1wl"
      },
      "source": [
        "model = Sequential()\n",
        "model.add( Conv2D(filters=32,kernel_size=(3,3), strides=(1,1), activation='relu', input_shape= (50,50,3)) )\n",
        "model.add( MaxPool2D(pool_size=(2,2), strides=(2,2)) )\n",
        "\n",
        "model.add( Conv2D(filters=64,kernel_size=(3,3),activation='relu' ) )\n",
        "model.add( MaxPool2D(pool_size=(2,2), strides=(2,2)) )\n",
        "\n",
        "# model.add( Conv2D(filters=128,kernel_size=(3,3),activation='relu' ) )\n",
        "model.add( MaxPool2D(pool_size=(2,2), strides=(2,2)) )\n",
        "\n",
        "\n",
        "model.add( Flatten() )\n",
        "model.add( Dense(units = 100, activation='relu') )\n",
        "model.add( Dropout(0.3) )\n",
        "model.add( Dense(units = 4, activation='softmax' ) )"
      ],
      "execution_count": 146,
      "outputs": []
    },
    {
      "cell_type": "code",
      "metadata": {
        "colab": {
          "base_uri": "https://localhost:8080/"
        },
        "id": "f2a4axkv_eDL",
        "outputId": "7a15a1f5-2f3d-4a23-f0b4-8c524a5bd142"
      },
      "source": [
        "model.summary()"
      ],
      "execution_count": 147,
      "outputs": [
        {
          "output_type": "stream",
          "text": [
            "Model: \"sequential_8\"\n",
            "_________________________________________________________________\n",
            "Layer (type)                 Output Shape              Param #   \n",
            "=================================================================\n",
            "conv2d_19 (Conv2D)           (None, 48, 48, 32)        896       \n",
            "_________________________________________________________________\n",
            "max_pooling2d_22 (MaxPooling (None, 24, 24, 32)        0         \n",
            "_________________________________________________________________\n",
            "conv2d_20 (Conv2D)           (None, 22, 22, 64)        18496     \n",
            "_________________________________________________________________\n",
            "max_pooling2d_23 (MaxPooling (None, 11, 11, 64)        0         \n",
            "_________________________________________________________________\n",
            "max_pooling2d_24 (MaxPooling (None, 5, 5, 64)          0         \n",
            "_________________________________________________________________\n",
            "flatten_8 (Flatten)          (None, 1600)              0         \n",
            "_________________________________________________________________\n",
            "dense_16 (Dense)             (None, 100)               160100    \n",
            "_________________________________________________________________\n",
            "dropout_1 (Dropout)          (None, 100)               0         \n",
            "_________________________________________________________________\n",
            "dense_17 (Dense)             (None, 4)                 404       \n",
            "=================================================================\n",
            "Total params: 179,896\n",
            "Trainable params: 179,896\n",
            "Non-trainable params: 0\n",
            "_________________________________________________________________\n"
          ],
          "name": "stdout"
        }
      ]
    },
    {
      "cell_type": "code",
      "metadata": {
        "id": "eDQOdho5BtKx"
      },
      "source": [
        "model.compile(loss=\"categorical_crossentropy\", optimizer='adam', metrics=['acc'])"
      ],
      "execution_count": 148,
      "outputs": []
    },
    {
      "cell_type": "code",
      "metadata": {
        "id": "eLjChp6s_faw"
      },
      "source": [
        "# DONOT RUN THIS CELL\n",
        "y_train = to_categorical(y_train)\n",
        "y_test = to_categorical(y_test)"
      ],
      "execution_count": 110,
      "outputs": []
    },
    {
      "cell_type": "code",
      "metadata": {
        "id": "-emkkq0vAtuE"
      },
      "source": [
        "from keras.callbacks import ModelCheckpoint, EarlyStopping"
      ],
      "execution_count": 149,
      "outputs": []
    },
    {
      "cell_type": "code",
      "metadata": {
        "id": "P-SJ3S8mAyn-"
      },
      "source": [
        "checkpoint = ModelCheckpoint(\"./best_model.h5\", monitor='val_loss', verbose = 1, save_best_only=True)\n",
        "earlystop =  EarlyStopping(monitor='val_loss', min_delta=0.05, patience=5, verbose =1, restore_best_weights=True)"
      ],
      "execution_count": 150,
      "outputs": []
    },
    {
      "cell_type": "code",
      "metadata": {
        "colab": {
          "base_uri": "https://localhost:8080/"
        },
        "id": "_uSncT1OBQM9",
        "outputId": "6c9e0694-d1ca-4b26-a53d-103ee7080957"
      },
      "source": [
        "his = model.fit(x = X_train, y= y_train, batch_size=32, epochs=50, callbacks=[checkpoint, earlystop], validation_data=(X_test, y_test))"
      ],
      "execution_count": 151,
      "outputs": [
        {
          "output_type": "stream",
          "text": [
            "Epoch 1/50\n",
            "21/21 [==============================] - 1s 13ms/step - loss: 1.4045 - acc: 0.2532 - val_loss: 1.3485 - val_acc: 0.4321\n",
            "\n",
            "Epoch 00001: val_loss improved from inf to 1.34847, saving model to ./best_model.h5\n",
            "Epoch 2/50\n",
            "21/21 [==============================] - 0s 7ms/step - loss: 1.3404 - acc: 0.3575 - val_loss: 1.3076 - val_acc: 0.3827\n",
            "\n",
            "Epoch 00002: val_loss improved from 1.34847 to 1.30755, saving model to ./best_model.h5\n",
            "Epoch 3/50\n",
            "21/21 [==============================] - 0s 7ms/step - loss: 1.2751 - acc: 0.4660 - val_loss: 1.1692 - val_acc: 0.4938\n",
            "\n",
            "Epoch 00003: val_loss improved from 1.30755 to 1.16924, saving model to ./best_model.h5\n",
            "Epoch 4/50\n",
            "21/21 [==============================] - 0s 7ms/step - loss: 1.1641 - acc: 0.4850 - val_loss: 1.1211 - val_acc: 0.5123\n",
            "\n",
            "Epoch 00004: val_loss improved from 1.16924 to 1.12106, saving model to ./best_model.h5\n",
            "Epoch 5/50\n",
            "21/21 [==============================] - 0s 7ms/step - loss: 1.1182 - acc: 0.4915 - val_loss: 1.0312 - val_acc: 0.5556\n",
            "\n",
            "Epoch 00005: val_loss improved from 1.12106 to 1.03116, saving model to ./best_model.h5\n",
            "Epoch 6/50\n",
            "21/21 [==============================] - 0s 7ms/step - loss: 0.9892 - acc: 0.5838 - val_loss: 0.9539 - val_acc: 0.5864\n",
            "\n",
            "Epoch 00006: val_loss improved from 1.03116 to 0.95392, saving model to ./best_model.h5\n",
            "Epoch 7/50\n",
            "21/21 [==============================] - 0s 7ms/step - loss: 0.8813 - acc: 0.6415 - val_loss: 0.9446 - val_acc: 0.5617\n",
            "\n",
            "Epoch 00007: val_loss improved from 0.95392 to 0.94460, saving model to ./best_model.h5\n",
            "Epoch 8/50\n",
            "21/21 [==============================] - 0s 7ms/step - loss: 0.8624 - acc: 0.6632 - val_loss: 0.8775 - val_acc: 0.6111\n",
            "\n",
            "Epoch 00008: val_loss improved from 0.94460 to 0.87751, saving model to ./best_model.h5\n",
            "Epoch 9/50\n",
            "21/21 [==============================] - 0s 7ms/step - loss: 0.7932 - acc: 0.6886 - val_loss: 0.9298 - val_acc: 0.5741\n",
            "\n",
            "Epoch 00009: val_loss did not improve from 0.87751\n",
            "Epoch 10/50\n",
            "21/21 [==============================] - 0s 7ms/step - loss: 0.7949 - acc: 0.7030 - val_loss: 0.8361 - val_acc: 0.6420\n",
            "\n",
            "Epoch 00010: val_loss improved from 0.87751 to 0.83606, saving model to ./best_model.h5\n",
            "Epoch 11/50\n",
            "21/21 [==============================] - 0s 6ms/step - loss: 0.7387 - acc: 0.7220 - val_loss: 0.7992 - val_acc: 0.6481\n",
            "\n",
            "Epoch 00011: val_loss improved from 0.83606 to 0.79919, saving model to ./best_model.h5\n",
            "Epoch 12/50\n",
            "21/21 [==============================] - 0s 7ms/step - loss: 0.6647 - acc: 0.7415 - val_loss: 0.7735 - val_acc: 0.6481\n",
            "\n",
            "Epoch 00012: val_loss improved from 0.79919 to 0.77349, saving model to ./best_model.h5\n",
            "Epoch 13/50\n",
            "21/21 [==============================] - 0s 7ms/step - loss: 0.5753 - acc: 0.7963 - val_loss: 0.7556 - val_acc: 0.6605\n",
            "\n",
            "Epoch 00013: val_loss improved from 0.77349 to 0.75564, saving model to ./best_model.h5\n",
            "Epoch 14/50\n",
            "21/21 [==============================] - 0s 7ms/step - loss: 0.5621 - acc: 0.8003 - val_loss: 0.7485 - val_acc: 0.6543\n",
            "\n",
            "Epoch 00014: val_loss improved from 0.75564 to 0.74855, saving model to ./best_model.h5\n",
            "Epoch 15/50\n",
            "21/21 [==============================] - 0s 7ms/step - loss: 0.4931 - acc: 0.8153 - val_loss: 0.9407 - val_acc: 0.5988\n",
            "\n",
            "Epoch 00015: val_loss did not improve from 0.74855\n",
            "Epoch 16/50\n",
            "21/21 [==============================] - 0s 6ms/step - loss: 0.5851 - acc: 0.7722 - val_loss: 0.7520 - val_acc: 0.6667\n",
            "\n",
            "Epoch 00016: val_loss did not improve from 0.74855\n",
            "Epoch 17/50\n",
            "21/21 [==============================] - 0s 6ms/step - loss: 0.4585 - acc: 0.8467 - val_loss: 0.7875 - val_acc: 0.6667\n",
            "\n",
            "Epoch 00017: val_loss did not improve from 0.74855\n",
            "Epoch 18/50\n",
            "21/21 [==============================] - 0s 6ms/step - loss: 0.4943 - acc: 0.7849 - val_loss: 0.8011 - val_acc: 0.6852\n",
            "\n",
            "Epoch 00018: val_loss did not improve from 0.74855\n",
            "Epoch 19/50\n",
            "21/21 [==============================] - 0s 6ms/step - loss: 0.3912 - acc: 0.8731 - val_loss: 0.7585 - val_acc: 0.6914\n",
            "\n",
            "Epoch 00019: val_loss did not improve from 0.74855\n",
            "Restoring model weights from the end of the best epoch.\n",
            "Epoch 00019: early stopping\n"
          ],
          "name": "stdout"
        }
      ]
    },
    {
      "cell_type": "code",
      "metadata": {
        "id": "Hn_SkfHHB2ot"
      },
      "source": [
        "history = his.history"
      ],
      "execution_count": 152,
      "outputs": []
    },
    {
      "cell_type": "code",
      "metadata": {
        "colab": {
          "base_uri": "https://localhost:8080/",
          "height": 265
        },
        "id": "KqQ6CnVICVSY",
        "outputId": "181d5c0c-9e6c-40c0-cf44-f1c4110687e9"
      },
      "source": [
        "plt.plot(history['acc'])\n",
        "plt.plot(history['val_acc'])\n",
        "plt.show()"
      ],
      "execution_count": 154,
      "outputs": [
        {
          "output_type": "display_data",
          "data": {
            "image/png": "[encoded data removed]",
            "text/plain": [
              "<Figure size 432x288 with 1 Axes>"
            ]
          },
          "metadata": {
            "tags": [],
            "needs_background": "light"
          }
        }
      ]
    },
    {
      "cell_type": "code",
      "metadata": {
        "colab": {
          "base_uri": "https://localhost:8080/",
          "height": 265
        },
        "id": "krbR2EwTCdAl",
        "outputId": "eb4d1aaa-9cdc-4aad-b2c3-92389c98feb1"
      },
      "source": [
        "plt.plot(history['loss'])\n",
        "plt.plot(history['val_loss'])\n",
        "plt.show()"
      ],
      "execution_count": 155,
      "outputs": [
        {
          "output_type": "display_data",
          "data": {
            "image/png": "[encoded data removed]",
            "text/plain": [
              "<Figure size 432x288 with 1 Axes>"
            ]
          },
          "metadata": {
            "tags": [],
            "needs_background": "light"
          }
        }
      ]
    },
    {
      "cell_type": "code",
      "metadata": {
        "colab": {
          "base_uri": "https://localhost:8080/"
        },
        "id": "4EZ4_c5ECoCB",
        "outputId": "30093cfa-8889-4292-efcc-731eef64429e"
      },
      "source": [
        "model.evaluate(X_train, y_train)"
      ],
      "execution_count": 156,
      "outputs": [
        {
          "output_type": "stream",
          "text": [
            "21/21 [==============================] - 0s 3ms/step - loss: 0.4429 - acc: 0.8653\n"
          ],
          "name": "stdout"
        },
        {
          "output_type": "execute_result",
          "data": {
            "text/plain": [
              "[0.442900151014328, 0.8653250932693481]"
            ]
          },
          "metadata": {
            "tags": []
          },
          "execution_count": 156
        }
      ]
    },
    {
      "cell_type": "code",
      "metadata": {
        "colab": {
          "base_uri": "https://localhost:8080/"
        },
        "id": "pT6s-OZyDXIU",
        "outputId": "eb8e0901-5f1d-495c-9ad5-45a58b93b18c"
      },
      "source": [
        "model.evaluate(X_test, y_test)"
      ],
      "execution_count": 157,
      "outputs": [
        {
          "output_type": "stream",
          "text": [
            "6/6 [==============================] - 0s 3ms/step - loss: 0.7485 - acc: 0.6543\n"
          ],
          "name": "stdout"
        },
        {
          "output_type": "execute_result",
          "data": {
            "text/plain": [
              "[0.7485451698303223, 0.654321014881134]"
            ]
          },
          "metadata": {
            "tags": []
          },
          "execution_count": 157
        }
      ]
    },
    {
      "cell_type": "code",
      "metadata": {
        "id": "7RmucpAmDasm"
      },
      "source": [
        ""
      ],
      "execution_count": 159,
      "outputs": []
    },
    {
      "cell_type": "markdown",
      "metadata": {
        "id": "CALUZzBeHjZC"
      },
      "source": [
        "# Prediction for External Images"
      ]
    },
    {
      "cell_type": "code",
      "metadata": {
        "id": "ARM0-XLJGK7w"
      },
      "source": [
        "import requests"
      ],
      "execution_count": 161,
      "outputs": []
    },
    {
      "cell_type": "code",
      "metadata": {
        "id": "m23YuAUOGZeZ"
      },
      "source": [
        "res = requests.get(\"https://www.gulftoday.ae/-/media/images/horse-website.ashx?h=450&w=616&hash=E4E191B5267EFB67FCC6781CBCFC2590\")"
      ],
      "execution_count": 162,
      "outputs": []
    },
    {
      "cell_type": "code",
      "metadata": {
        "id": "K3vav2YHGiV8"
      },
      "source": [
        "with open(\"horse.jpg\", 'wb') as f:\n",
        "  f.write(res.content)"
      ],
      "execution_count": 163,
      "outputs": []
    },
    {
      "cell_type": "code",
      "metadata": {
        "id": "AhLpPFcoGu--"
      },
      "source": [
        "img  = image.load_img('./horse.jpg', target_size=(50,50))\n",
        "img = image.img_to_array(img)/255.\n",
        "img = img.reshape(1,50,50,3)"
      ],
      "execution_count": 167,
      "outputs": []
    },
    {
      "cell_type": "code",
      "metadata": {
        "colab": {
          "base_uri": "https://localhost:8080/"
        },
        "id": "WJijAf70G8vm",
        "outputId": "1fb00b2d-7580-41a1-f7af-d818f9be2d1c"
      },
      "source": [
        "img.shape"
      ],
      "execution_count": 168,
      "outputs": [
        {
          "output_type": "execute_result",
          "data": {
            "text/plain": [
              "(1, 50, 50, 3)"
            ]
          },
          "metadata": {
            "tags": []
          },
          "execution_count": 168
        }
      ]
    },
    {
      "cell_type": "code",
      "metadata": {
        "colab": {
          "base_uri": "https://localhost:8080/",
          "height": 36
        },
        "id": "ddTv9GumG9My",
        "outputId": "ead39a15-abf5-4b72-c3fc-ca67ce05e858"
      },
      "source": [
        "y_pred = np.argmax(model.predict(img))\n",
        "map_rev[y_pred]"
      ],
      "execution_count": 173,
      "outputs": [
        {
          "output_type": "execute_result",
          "data": {
            "application/vnd.google.colaboratory.intrinsic+json": {
              "type": "string"
            },
            "text/plain": [
              "'horse'"
            ]
          },
          "metadata": {
            "tags": []
          },
          "execution_count": 173
        }
      ]
    },
    {
      "cell_type": "code",
      "metadata": {
        "id": "Imt0WgeWG_y3"
      },
      "source": [
        ""
      ],
      "execution_count": null,
      "outputs": []
    }
  ]
}