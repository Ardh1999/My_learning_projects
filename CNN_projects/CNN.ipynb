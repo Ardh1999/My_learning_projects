{
  "nbformat": 4,
  "nbformat_minor": 0,
  "metadata": {
    "colab": {
      "name": "CNN",
      "provenance": []
    },
    "kernelspec": {
      "name": "python3",
      "display_name": "Python 3"
    },
    "accelerator": "GPU"
  },
  "cells": [
    {
      "cell_type": "code",
      "metadata": {
        "id": "D2bRBdjNpMVV"
      },
      "source": [
        "from keras.datasets import fashion_mnist\n",
        "import numpy as np\n",
        "import matplotlib.pyplot as plt\n"
      ],
      "execution_count": 6,
      "outputs": []
    },
    {
      "cell_type": "code",
      "metadata": {
        "colab": {
          "base_uri": "https://localhost:8080/"
        },
        "id": "hLUEX9VYpak0",
        "outputId": "66bae8b7-1abf-4e49-f595-a4e90ecbc265"
      },
      "source": [
        "(X_train, y_train) , (X_test, y_test) = fashion_mnist.load_data()"
      ],
      "execution_count": 4,
      "outputs": [
        {
          "output_type": "stream",
          "text": [
            "Downloading data from https://storage.googleapis.com/tensorflow/tf-keras-datasets/train-labels-idx1-ubyte.gz\n",
            "32768/29515 [=================================] - 0s 0us/step\n",
            "Downloading data from https://storage.googleapis.com/tensorflow/tf-keras-datasets/train-images-idx3-ubyte.gz\n",
            "26427392/26421880 [==============================] - 0s 0us/step\n",
            "Downloading data from https://storage.googleapis.com/tensorflow/tf-keras-datasets/t10k-labels-idx1-ubyte.gz\n",
            "8192/5148 [===============================================] - 0s 0us/step\n",
            "Downloading data from https://storage.googleapis.com/tensorflow/tf-keras-datasets/t10k-images-idx3-ubyte.gz\n",
            "4423680/4422102 [==============================] - 0s 0us/step\n"
          ],
          "name": "stdout"
        }
      ]
    },
    {
      "cell_type": "code",
      "metadata": {
        "colab": {
          "base_uri": "https://localhost:8080/"
        },
        "id": "9_T7-3Q0piFs",
        "outputId": "3548fcb7-aa9a-4b6a-c633-77b932e5222d"
      },
      "source": [
        "X_train.shape, y_train.shape"
      ],
      "execution_count": 5,
      "outputs": [
        {
          "output_type": "execute_result",
          "data": {
            "text/plain": [
              "((60000, 28, 28), (60000,))"
            ]
          },
          "metadata": {
            "tags": []
          },
          "execution_count": 5
        }
      ]
    },
    {
      "cell_type": "code",
      "metadata": {
        "id": "j0k6e1gHpn9g"
      },
      "source": [
        "def drawImg(img):\n",
        "  plt.imshow(img.reshape(28,28), cmap=\"gray\")\n",
        "  plt.show()"
      ],
      "execution_count": 12,
      "outputs": []
    },
    {
      "cell_type": "code",
      "metadata": {
        "colab": {
          "base_uri": "https://localhost:8080/",
          "height": 265
        },
        "id": "XYF60SnKp3Kh",
        "outputId": "4bdbbc23-e622-4674-db62-bf09e5dc3bff"
      },
      "source": [
        "drawImg(X_train[143])"
      ],
      "execution_count": 20,
      "outputs": [
        {
          "output_type": "display_data",
          "data": {
            "image/png": "[encoded data removed]",
            "text/plain": [
              "<Figure size 432x288 with 1 Axes>"
            ]
          },
          "metadata": {
            "tags": [],
            "needs_background": "light"
          }
        }
      ]
    },
    {
      "cell_type": "code",
      "metadata": {
        "colab": {
          "base_uri": "https://localhost:8080/"
        },
        "id": "uSR54dH1p5vr",
        "outputId": "0f9405bb-daae-4362-d276-ecc11d6c2302"
      },
      "source": [
        "np.unique(y_train)"
      ],
      "execution_count": 19,
      "outputs": [
        {
          "output_type": "execute_result",
          "data": {
            "text/plain": [
              "array([0, 1, 2, 3, 4, 5, 6, 7, 8, 9], dtype=uint8)"
            ]
          },
          "metadata": {
            "tags": []
          },
          "execution_count": 19
        }
      ]
    },
    {
      "cell_type": "code",
      "metadata": {
        "colab": {
          "base_uri": "https://localhost:8080/"
        },
        "id": "LKrao-smqbsx",
        "outputId": "f71db098-363f-427c-ba47-cd9a4620c01a"
      },
      "source": [
        "X_test.shape"
      ],
      "execution_count": 21,
      "outputs": [
        {
          "output_type": "execute_result",
          "data": {
            "text/plain": [
              "(10000, 28, 28)"
            ]
          },
          "metadata": {
            "tags": []
          },
          "execution_count": 21
        }
      ]
    },
    {
      "cell_type": "code",
      "metadata": {
        "id": "ftxT-7Ziuilq"
      },
      "source": [
        "X_train = X_train.reshape(-1, 28,28,1)\n",
        "X_test = X_test.reshape(-1, 28,28,1)"
      ],
      "execution_count": 24,
      "outputs": []
    },
    {
      "cell_type": "code",
      "metadata": {
        "colab": {
          "base_uri": "https://localhost:8080/"
        },
        "id": "iPcl5e05uiYg",
        "outputId": "decfe5d7-82b6-42a8-c6de-97a778502db9"
      },
      "source": [
        "X_train.shape, X_test.shape"
      ],
      "execution_count": 25,
      "outputs": [
        {
          "output_type": "execute_result",
          "data": {
            "text/plain": [
              "((60000, 28, 28, 1), (10000, 28, 28, 1))"
            ]
          },
          "metadata": {
            "tags": []
          },
          "execution_count": 25
        }
      ]
    },
    {
      "cell_type": "markdown",
      "metadata": {
        "id": "RhcMgN-xrQvp"
      },
      "source": [
        "# CNN Model"
      ]
    },
    {
      "cell_type": "code",
      "metadata": {
        "id": "g8G4IzuGrIqW"
      },
      "source": [
        "from keras.models import Sequential\n",
        "from keras.layers import Dense, Conv2D, MaxPool2D, Flatten\n",
        "from keras.utils import to_categorical"
      ],
      "execution_count": 35,
      "outputs": []
    },
    {
      "cell_type": "code",
      "metadata": {
        "id": "h6y02N58rdyq"
      },
      "source": [
        "model = Sequential()\n",
        "model.add( Conv2D(filters=32,kernel_size=(3,3), strides=(1,1), activation='relu', input_shape= (28,28,1)) )\n",
        "model.add( MaxPool2D(pool_size=(2,2), strides=(2,2)) )\n",
        "\n",
        "model.add( Conv2D(filters=64,kernel_size=(3,3),activation='relu' ) )\n",
        "model.add( MaxPool2D(pool_size=(2,2), strides=(2,2)) )\n",
        "\n",
        "model.add( Conv2D(filters=128,kernel_size=(3,3),activation='relu' ) )\n",
        "# model.add( MaxPool2D(pool_size=(2,2), strides=(2,2)) )\n",
        "\n",
        "model.add( Flatten() )\n",
        "model.add( Dense(units = 256, activation='relu') )\n",
        "model.add( Dense(units = 10, activation='softmax' ) )"
      ],
      "execution_count": 30,
      "outputs": []
    },
    {
      "cell_type": "code",
      "metadata": {
        "colab": {
          "base_uri": "https://localhost:8080/"
        },
        "id": "KsEChXY2t1-8",
        "outputId": "8354cd00-217a-4bcb-dd58-905b2df3cee6"
      },
      "source": [
        "model.summary()"
      ],
      "execution_count": 31,
      "outputs": [
        {
          "output_type": "stream",
          "text": [
            "Model: \"sequential_3\"\n",
            "_________________________________________________________________\n",
            "Layer (type)                 Output Shape              Param #   \n",
            "=================================================================\n",
            "conv2d_7 (Conv2D)            (None, 26, 26, 32)        320       \n",
            "_________________________________________________________________\n",
            "max_pooling2d_5 (MaxPooling2 (None, 13, 13, 32)        0         \n",
            "_________________________________________________________________\n",
            "conv2d_8 (Conv2D)            (None, 11, 11, 64)        18496     \n",
            "_________________________________________________________________\n",
            "max_pooling2d_6 (MaxPooling2 (None, 5, 5, 64)          0         \n",
            "_________________________________________________________________\n",
            "conv2d_9 (Conv2D)            (None, 3, 3, 128)         73856     \n",
            "_________________________________________________________________\n",
            "flatten_2 (Flatten)          (None, 1152)              0         \n",
            "_________________________________________________________________\n",
            "dense_4 (Dense)              (None, 256)               295168    \n",
            "_________________________________________________________________\n",
            "dense_5 (Dense)              (None, 10)                2570      \n",
            "=================================================================\n",
            "Total params: 390,410\n",
            "Trainable params: 390,410\n",
            "Non-trainable params: 0\n",
            "_________________________________________________________________\n"
          ],
          "name": "stdout"
        }
      ]
    },
    {
      "cell_type": "code",
      "metadata": {
        "id": "kUKMI8Vnu_13"
      },
      "source": [
        "model.compile(loss=\"categorical_crossentropy\", metrics=['acc'], optimizer='adam')"
      ],
      "execution_count": 34,
      "outputs": []
    },
    {
      "cell_type": "code",
      "metadata": {
        "id": "3KoCdV_syOJw"
      },
      "source": [
        "y_train = to_categorical(y_train)\n",
        "y_test = to_categorical(y_test)"
      ],
      "execution_count": 36,
      "outputs": []
    },
    {
      "cell_type": "code",
      "metadata": {
        "colab": {
          "base_uri": "https://localhost:8080/"
        },
        "id": "Fmc4pgayyi9H",
        "outputId": "d25f1c1d-d839-4fc5-d671-e5b5b127b324"
      },
      "source": [
        "y_train.shape, y_test.shape"
      ],
      "execution_count": 37,
      "outputs": [
        {
          "output_type": "execute_result",
          "data": {
            "text/plain": [
              "((60000, 10), (10000, 10))"
            ]
          },
          "metadata": {
            "tags": []
          },
          "execution_count": 37
        }
      ]
    },
    {
      "cell_type": "code",
      "metadata": {
        "colab": {
          "base_uri": "https://localhost:8080/"
        },
        "id": "NeyudUD1ylVH",
        "outputId": "59463540-e49f-4faa-fc55-c1a0a7a74723"
      },
      "source": [
        "his = model.fit(x= X_train, y= y_train, batch_size=64,epochs = 20, validation_split=0.2)"
      ],
      "execution_count": 38,
      "outputs": [
        {
          "output_type": "stream",
          "text": [
            "Epoch 1/20\n",
            "750/750 [==============================] - 10s 4ms/step - loss: 1.1605 - acc: 0.7474 - val_loss: 0.3682 - val_acc: 0.8673\n",
            "Epoch 2/20\n",
            "750/750 [==============================] - 2s 3ms/step - loss: 0.3332 - acc: 0.8805 - val_loss: 0.3426 - val_acc: 0.8784\n",
            "Epoch 3/20\n",
            "750/750 [==============================] - 2s 3ms/step - loss: 0.2783 - acc: 0.8965 - val_loss: 0.3114 - val_acc: 0.8915\n",
            "Epoch 4/20\n",
            "750/750 [==============================] - 3s 3ms/step - loss: 0.2510 - acc: 0.9054 - val_loss: 0.3015 - val_acc: 0.8914\n",
            "Epoch 5/20\n",
            "750/750 [==============================] - 2s 3ms/step - loss: 0.2248 - acc: 0.9161 - val_loss: 0.3297 - val_acc: 0.8842\n",
            "Epoch 6/20\n",
            "750/750 [==============================] - 3s 3ms/step - loss: 0.2054 - acc: 0.9225 - val_loss: 0.3030 - val_acc: 0.8927\n",
            "Epoch 7/20\n",
            "750/750 [==============================] - 3s 3ms/step - loss: 0.1922 - acc: 0.9268 - val_loss: 0.3188 - val_acc: 0.8964\n",
            "Epoch 8/20\n",
            "750/750 [==============================] - 3s 3ms/step - loss: 0.1705 - acc: 0.9373 - val_loss: 0.3450 - val_acc: 0.8885\n",
            "Epoch 9/20\n",
            "750/750 [==============================] - 2s 3ms/step - loss: 0.1619 - acc: 0.9381 - val_loss: 0.3332 - val_acc: 0.8942\n",
            "Epoch 10/20\n",
            "750/750 [==============================] - 2s 3ms/step - loss: 0.1473 - acc: 0.9454 - val_loss: 0.3730 - val_acc: 0.8963\n",
            "Epoch 11/20\n",
            "750/750 [==============================] - 2s 3ms/step - loss: 0.1371 - acc: 0.9495 - val_loss: 0.3837 - val_acc: 0.8873\n",
            "Epoch 12/20\n",
            "750/750 [==============================] - 2s 3ms/step - loss: 0.1277 - acc: 0.9521 - val_loss: 0.3512 - val_acc: 0.8966\n",
            "Epoch 13/20\n",
            "750/750 [==============================] - 2s 3ms/step - loss: 0.1164 - acc: 0.9567 - val_loss: 0.4277 - val_acc: 0.8950\n",
            "Epoch 14/20\n",
            "750/750 [==============================] - 2s 3ms/step - loss: 0.1039 - acc: 0.9615 - val_loss: 0.4109 - val_acc: 0.8979\n",
            "Epoch 15/20\n",
            "750/750 [==============================] - 2s 3ms/step - loss: 0.1050 - acc: 0.9600 - val_loss: 0.4055 - val_acc: 0.8978\n",
            "Epoch 16/20\n",
            "750/750 [==============================] - 3s 3ms/step - loss: 0.0878 - acc: 0.9670 - val_loss: 0.4270 - val_acc: 0.8971\n",
            "Epoch 17/20\n",
            "750/750 [==============================] - 3s 3ms/step - loss: 0.0907 - acc: 0.9661 - val_loss: 0.4246 - val_acc: 0.8957\n",
            "Epoch 18/20\n",
            "750/750 [==============================] - 2s 3ms/step - loss: 0.0773 - acc: 0.9710 - val_loss: 0.4995 - val_acc: 0.8963\n",
            "Epoch 19/20\n",
            "750/750 [==============================] - 2s 3ms/step - loss: 0.0860 - acc: 0.9694 - val_loss: 0.5268 - val_acc: 0.8962\n",
            "Epoch 20/20\n",
            "750/750 [==============================] - 2s 3ms/step - loss: 0.0748 - acc: 0.9730 - val_loss: 0.5437 - val_acc: 0.8921\n"
          ],
          "name": "stdout"
        }
      ]
    },
    {
      "cell_type": "code",
      "metadata": {
        "colab": {
          "base_uri": "https://localhost:8080/"
        },
        "id": "qpscU0vLy7VA",
        "outputId": "a45cb5e2-06bc-4ed1-c2e8-9435ecc71bdf"
      },
      "source": [
        "model.evaluate(X_test, y_test)"
      ],
      "execution_count": 39,
      "outputs": [
        {
          "output_type": "stream",
          "text": [
            "313/313 [==============================] - 1s 2ms/step - loss: 0.5898 - acc: 0.8880\n"
          ],
          "name": "stdout"
        },
        {
          "output_type": "execute_result",
          "data": {
            "text/plain": [
              "[0.5897932648658752, 0.8880000114440918]"
            ]
          },
          "metadata": {
            "tags": []
          },
          "execution_count": 39
        }
      ]
    },
    {
      "cell_type": "code",
      "metadata": {
        "colab": {
          "base_uri": "https://localhost:8080/",
          "height": 282
        },
        "id": "4j__bTf6zVv7",
        "outputId": "53cf6463-d416-4935-f9f3-7f92684a75ac"
      },
      "source": [
        "drawImg(X_test[989])\n",
        "print(y_test[989])"
      ],
      "execution_count": 56,
      "outputs": [
        {
          "output_type": "display_data",
          "data": {
            "image/png": "[encoded data removed]",
            "text/plain": [
              "<Figure size 432x288 with 1 Axes>"
            ]
          },
          "metadata": {
            "tags": [],
            "needs_background": "light"
          }
        },
        {
          "output_type": "stream",
          "text": [
            "[0. 0. 0. 0. 0. 0. 1. 0. 0. 0.]\n"
          ],
          "name": "stdout"
        }
      ]
    },
    {
      "cell_type": "code",
      "metadata": {
        "colab": {
          "base_uri": "https://localhost:8080/"
        },
        "id": "sG0rDIszzcwi",
        "outputId": "3674e06d-cd91-4157-9693-f1ab785fc3b8"
      },
      "source": [
        "# X_test[34].shape\n",
        "np.round(model.predict(X_test[989].reshape(1,28,28,1)), 2)"
      ],
      "execution_count": 57,
      "outputs": [
        {
          "output_type": "execute_result",
          "data": {
            "text/plain": [
              "array([[0.  , 0.  , 0.  , 0.  , 0.03, 0.  , 0.96, 0.  , 0.  , 0.  ]],\n",
              "      dtype=float32)"
            ]
          },
          "metadata": {
            "tags": []
          },
          "execution_count": 57
        }
      ]
    },
    {
      "cell_type": "code",
      "metadata": {
        "id": "Y28FhgFXzuoc"
      },
      "source": [
        ""
      ],
      "execution_count": null,
      "outputs": []
    }
  ]
}